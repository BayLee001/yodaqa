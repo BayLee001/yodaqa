{
 "metadata": {
  "name": "",
  "signature": "sha256:284726da8f4a9892ff0600c5249543d0901f3787022e1b209ca4c313d7bb2029"
 },
 "nbformat": 3,
 "nbformat_minor": 0,
 "worksheets": [
  {
   "cells": [
    {
     "cell_type": "markdown",
     "metadata": {},
     "source": [
      "# Experiments with fbpath models"
     ]
    },
    {
     "cell_type": "markdown",
     "metadata": {},
     "source": [
      "## Prologue, Data"
     ]
    },
    {
     "cell_type": "code",
     "collapsed": false,
     "input": [
      "%load_ext autoreload\n",
      "%autoreload 2\n",
      "from fbpath_train_bnb import VectorizedData\n",
      "import json\n",
      "import numpy as np\n",
      "from pprint import pprint\n",
      "from sklearn.multiclass import OneVsRestClassifier\n",
      "from IPython.display import display, HTML"
     ],
     "language": "python",
     "metadata": {},
     "outputs": [
      {
       "output_type": "stream",
       "stream": "stdout",
       "text": [
        "The autoreload extension is already loaded. To reload it, use:\n",
        "  %reload_ext autoreload\n"
       ]
      }
     ],
     "prompt_number": 94
    },
    {
     "cell_type": "code",
     "collapsed": false,
     "input": [
      "with open('wq-fbpath/trainmodel.json') as f:\n",
      "    train = json.load(f)\n",
      "with open('wq-fbpath/val.json') as f:\n",
      "    val = json.load(f)\n",
      "with open('wq-fbpath/devtest.json') as f:\n",
      "    devtest = json.load(f)"
     ],
     "language": "python",
     "metadata": {},
     "outputs": []
    },
    {
     "cell_type": "code",
     "collapsed": false,
     "input": [
      "vtrain = VectorizedData(train)\n",
      "vval = VectorizedData(val, vtrain.Xdict, vtrain.Ydict)\n",
      "vdevtest = VectorizedData(devtest, vtrain.Xdict, vtrain.Ydict)"
     ],
     "language": "python",
     "metadata": {},
     "outputs": [
      {
       "output_type": "stream",
       "stream": "stdout",
       "text": [
        "dropped 58 out of 1080 labels (not in training set)\n",
        "dropped 20 out of 270 labels (not in training set)\n"
       ]
      }
     ],
     "prompt_number": 39
    },
    {
     "cell_type": "code",
     "collapsed": false,
     "input": [
      "vtrain.X, vval.X, vdevtest.X"
     ],
     "language": "python",
     "metadata": {},
     "outputs": [
      {
       "metadata": {},
       "output_type": "pyout",
       "prompt_number": 12,
       "text": [
        "(<2834x2487 sparse matrix of type '<type 'numpy.float64'>'\n",
        " \twith 25378 stored elements in Compressed Sparse Row format>,\n",
        " <755x2487 sparse matrix of type '<type 'numpy.float64'>'\n",
        " \twith 6312 stored elements in Compressed Sparse Row format>,\n",
        " <189x2487 sparse matrix of type '<type 'numpy.float64'>'\n",
        " \twith 1550 stored elements in Compressed Sparse Row format>)"
       ]
      }
     ],
     "prompt_number": 12
    },
    {
     "cell_type": "markdown",
     "metadata": {},
     "source": [
      "TODO: better scoring method - recall, precision, F2, mrr"
     ]
    },
    {
     "cell_type": "markdown",
     "metadata": {},
     "source": [
      "## Probability Models"
     ]
    },
    {
     "cell_type": "code",
     "collapsed": false,
     "input": [
      "def check_q(cfier, v, d, i):\n",
      "    probs = cfier.predict_proba(v.X[i])[0]\n",
      "    top_probs = sorted(enumerate(probs), key=lambda k: k[1], reverse=True)\n",
      "    top_lprobs = ['%s: %.3f' % (v.Ydict.classes_[k[0]], k[1]) for k in top_probs[:5]]\n",
      "    return '<li><b>%s</b><br><b>in:</b> %s<br><b>out:</b> %s<br><b>outp:</b> %s<br><b>gold:</b> %s</li>' % (\n",
      "        d[i]['qText'],\n",
      "        ', '.join(sorted(v.Xdict.inverse_transform(v.X[i])[0].keys(), key=lambda s: reversed(s))),\n",
      "        ', '.join(v.Ydict.inverse_transform(cfier.predict(v.X[i]))[0]),\n",
      "        ', '.join(top_lprobs),\n",
      "        ', '.join(v.Ydict.inverse_transform(np.array([v.Y[i]]))[0]))\n",
      "\n",
      "def demo_model(cfier):\n",
      "    print('train %.3f val %.3f devtest %.3f' % (cfier.score(vtrain.X, vtrain.Y), cfier.score(vval.X, vval.Y), cfier.score(vdevtest.X, vdevtest.Y)))\n",
      "    display(HTML('<ul>'))\n",
      "    for i in range(10):\n",
      "        display(HTML(check_q(cfier, vdevtest, devtest, i)))\n",
      "    display(HTML('</ul>'))"
     ],
     "language": "python",
     "metadata": {},
     "outputs": [],
     "prompt_number": 110
    },
    {
     "cell_type": "code",
     "collapsed": false,
     "input": [
      "from sklearn.naive_bayes import BernoulliNB\n",
      "cfier_bnb = OneVsRestClassifier(BernoulliNB(fit_prior=False), n_jobs=4)\n",
      "pprint(cfier_bnb.fit(vtrain.X, vtrain.Y))\n",
      "demo_model(cfier_bnb)"
     ],
     "language": "python",
     "metadata": {},
     "outputs": [
      {
       "output_type": "stream",
       "stream": "stdout",
       "text": [
        "OneVsRestClassifier(estimator=BernoulliNB(alpha=1.0, binarize=0.0, class_prior=None, fit_prior=False),\n",
        "          n_jobs=4)\n",
        "train 0.164 val 0.189 devtest 0.212"
       ]
      },
      {
       "output_type": "stream",
       "stream": "stdout",
       "text": [
        "\n"
       ]
      },
      {
       "html": [
        "<ul>"
       ],
       "metadata": {},
       "output_type": "display_data",
       "text": [
        "<IPython.core.display.HTML at 0x7f80217a40d0>"
       ]
      },
      {
       "html": [
        "<li><b>what is the name of justin bieber brother?</b><br><b>in:</b> lat/monk/WordnetLAT, lat/brother/LAT, lat/kinsman/WordnetLAT, lat/religious person/WordnetLAT, lat/person/WordnetLAT, lat/peer/WordnetLAT, lat/religious/WordnetLAT, lat/member/WordnetLAT, lat/associate/WordnetLAT, lat/friend/WordnetLAT, lat/male sibling/WordnetLAT, lat/relative/WordnetLAT<br><b>out:</b> <br><b>outp:</b> /people/person/profession: 0.000, /people/person/spouse_s|/people/marriage/spouse: 0.000, /location/location/containedby: 0.000, /people/person/place_of_birth: 0.000, /people/person/places_lived|/people/place_lived/location: 0.000<br><b>gold:</b> /people/person/sibling_s|/people/sibling_relationship/sibling</li>"
       ],
       "metadata": {},
       "output_type": "display_data",
       "text": [
        "<IPython.core.display.HTML at 0x7f8021453fd0>"
       ]
      },
      {
       "html": [
        "<li><b>where to fly into bali?</b><br><b>in:</b> sv=fly, lat/location/QuestionWordLAT<br><b>out:</b> <br><b>outp:</b> /location/location/containedby: 0.000, /people/person/places_lived|/people/place_lived/location: 0.000, /people/person/place_of_birth: 0.000, /people/person/education|/education/education/institution: 0.000, /people/person/profession: 0.000<br><b>gold:</b> </li>"
       ],
       "metadata": {},
       "output_type": "display_data",
       "text": [
        "<IPython.core.display.HTML at 0x7f8021453ed0>"
       ]
      },
      {
       "html": [
        "<li><b>what is cher's son's name?</b><br><b>in:</b> lat/cognition/WordnetLAT, lat/Godhead/WordnetLAT, lat/male offspring/WordnetLAT, lat/content/WordnetLAT, lat/belief/WordnetLAT, lat/relative/WordnetLAT, lat/offspring/WordnetLAT, lat/person/WordnetLAT, lat/son/LAT, lat/spiritual being/WordnetLAT, lat/God/WordnetLAT, lat/child/WordnetLAT, lat/male/WordnetLAT, lat/hypostasis/WordnetLAT<br><b>out:</b> <br><b>outp:</b> /people/person/spouse_s|/people/marriage/spouse: 0.000, /location/location/containedby: 0.000, /people/person/profession: 0.000, /people/person/education|/education/education/institution: 0.000, /people/person/place_of_birth: 0.000<br><b>gold:</b> /people/person/children</li>"
       ],
       "metadata": {},
       "output_type": "display_data",
       "text": [
        "<IPython.core.display.HTML at 0x7f8021453f50>"
       ]
      },
      {
       "html": [
        "<li><b>what countries do people speak portuguese?</b><br><b>in:</b> lat/political unit/WordnetLAT, lat/country/ImplicitQLAT, lat/administrative district/WordnetLAT, lat/unit/WordnetLAT, lat/people/WordnetLAT, lat/organization/WordnetLAT, lat/group/WordnetLAT, lat/social group/WordnetLAT, lat/district/WordnetLAT, lat/location/WordnetLAT, sv=speak, lat/region/WordnetLAT, lat/geographical area/WordnetLAT, lat/countries/LAT<br><b>out:</b> <br><b>outp:</b> /location/location/containedby: 0.000, /location/location/contains: 0.000, /people/person/places_lived|/people/place_lived/location: 0.000, /location/location/adjoin_s|/location/adjoining_relationship/adjoins: 0.000, /people/person/place_of_birth: 0.000<br><b>gold:</b> /language/human_language/countries_spoken_in, /language/human_language/main_country</li>"
       ],
       "metadata": {},
       "output_type": "display_data",
       "text": [
        "<IPython.core.display.HTML at 0x7f8021453f10>"
       ]
      },
      {
       "html": [
        "<li><b>who was vincent van gogh inspired by?</b><br><b>in:</b> sv=inspired<br><b>out:</b> <br><b>outp:</b> /location/location/containedby: 0.000, /people/person/places_lived|/people/place_lived/location: 0.000, /people/person/place_of_birth: 0.000, /people/person/education|/education/education/institution: 0.000, /people/person/profession: 0.000<br><b>gold:</b> /influence/influence_node/influenced_by</li>"
       ],
       "metadata": {},
       "output_type": "display_data",
       "text": [
        "<IPython.core.display.HTML at 0x7f8021453dd0>"
       ]
      },
      {
       "html": [
        "<li><b>when will oscar pistorius compete?</b><br><b>in:</b> sv=compete, lat/time/QuestionWordLAT, lat/date/QuestionWordLAT<br><b>out:</b> <br><b>outp:</b> /location/location/containedby: 0.000, /people/person/places_lived|/people/place_lived/location: 0.000, /people/person/profession: 0.000, /people/person/place_of_birth: 0.000, /people/person/education|/education/education/institution: 0.000<br><b>gold:</b> </li>"
       ],
       "metadata": {},
       "output_type": "display_data",
       "text": [
        "<IPython.core.display.HTML at 0x7f8021453e90>"
       ]
      },
      {
       "html": [
        "<li><b>who plays meg in family guy?</b><br><b>in:</b> lat/person/QuestionWordLAT, sv=plays<br><b>out:</b> <br><b>outp:</b> /location/location/containedby: 0.000, /people/person/places_lived|/people/place_lived/location: 0.000, /people/person/profession: 0.000, /people/person/education|/education/education/institution: 0.000, /people/person/place_of_birth: 0.000<br><b>gold:</b> /cvg/game_character/games|/cvg/game_performance/voice_actor, /film/film_character/portrayed_in_films|/film/performance/actor, /tv/tv_character/appeared_in_tv_episodes|/tv/tv_guest_role/actor, /tv/tv_character/appeared_in_tv_program|/tv/regular_tv_appearance/actor</li>"
       ],
       "metadata": {},
       "output_type": "display_data",
       "text": [
        "<IPython.core.display.HTML at 0x7f8021453c10>"
       ]
      },
      {
       "html": [
        "<li><b>what stadium did the chicago cardinals play in?</b><br><b>in:</b> lat/artifact/WordnetLAT, lat/stadium/LAT, lat/structure/WordnetLAT, sv=play<br><b>out:</b> <br><b>outp:</b> /people/person/education|/education/education/institution: 0.000, /location/location/containedby: 0.000, /people/person/profession: 0.000, /sports/pro_athlete/teams|/sports/sports_team_roster/team: 0.000, /people/person/places_lived|/people/place_lived/location: 0.000<br><b>gold:</b> /sports/sports_team/arena_stadium, /sports/sports_team/venue|/sports/team_venue_relationship/venue</li>"
       ],
       "metadata": {},
       "output_type": "display_data",
       "text": [
        "<IPython.core.display.HTML at 0x7f8021453d10>"
       ]
      },
      {
       "html": [
        "<li><b>who was the apostle paul considered to be?</b><br><b>in:</b> lat/orientation/WordnetLAT, lat/attitude/WordnetLAT, lat/position/WordnetLAT, sv=considered, lat/cognition/WordnetLAT<br><b>out:</b> <br><b>outp:</b> /location/location/containedby: 0.000, /people/person/places_lived|/people/place_lived/location: 0.000, /people/person/education|/education/education/institution: 0.000, /people/person/profession: 0.000, /people/person/place_of_birth: 0.000<br><b>gold:</b> </li>"
       ],
       "metadata": {},
       "output_type": "display_data",
       "text": [
        "<IPython.core.display.HTML at 0x7f8021453c90>"
       ]
      },
      {
       "html": [
        "<li><b>which countries are part of the united kingdom?</b><br><b>in:</b> lat/political unit/WordnetLAT, lat/unit/WordnetLAT, lat/country/ImplicitQLAT, lat/administrative district/WordnetLAT, lat/people/WordnetLAT, lat/countries/LAT, lat/location/WordnetLAT, lat/geographical area/WordnetLAT, lat/region/WordnetLAT, lat/organization/WordnetLAT, lat/group/WordnetLAT, lat/social group/WordnetLAT, lat/district/WordnetLAT<br><b>out:</b> <br><b>outp:</b> /location/location/containedby: 0.000, /location/location/contains: 0.000, /people/person/places_lived|/people/place_lived/location: 0.000, /people/person/place_of_birth: 0.000, /location/location/adjoin_s|/location/adjoining_relationship/adjoins: 0.000<br><b>gold:</b> /location/location/containedby</li>"
       ],
       "metadata": {},
       "output_type": "display_data",
       "text": [
        "<IPython.core.display.HTML at 0x7f8021453bd0>"
       ]
      },
      {
       "html": [
        "</ul>"
       ],
       "metadata": {},
       "output_type": "display_data",
       "text": [
        "<IPython.core.display.HTML at 0x7f8021319650>"
       ]
      }
     ],
     "prompt_number": 112
    },
    {
     "cell_type": "code",
     "collapsed": false,
     "input": [
      "from sklearn.linear_model import LogisticRegression\n",
      "cfier_log = OneVsRestClassifier(LogisticRegression(class_weight='auto'), n_jobs=4)\n",
      "pprint(cfier_log.fit(vtrain.X, vtrain.Y))\n",
      "demo_model(cfier_log)"
     ],
     "language": "python",
     "metadata": {},
     "outputs": [
      {
       "output_type": "stream",
       "stream": "stdout",
       "text": [
        "OneVsRestClassifier(estimator=LogisticRegression(C=1.0, class_weight='auto', dual=False, fit_intercept=True,\n",
        "          intercept_scaling=1, max_iter=100, multi_class='ovr',\n",
        "          penalty='l2', random_state=None, solver='liblinear', tol=0.0001,\n",
        "          verbose=0),\n",
        "          n_jobs=4)\n",
        "train 0.028 val 0.012 devtest 0.021"
       ]
      },
      {
       "output_type": "stream",
       "stream": "stdout",
       "text": [
        "\n"
       ]
      },
      {
       "html": [
        "<ul>"
       ],
       "metadata": {},
       "output_type": "display_data",
       "text": [
        "<IPython.core.display.HTML at 0x7f8020d93390>"
       ]
      },
      {
       "html": [
        "<li><b>what is the name of justin bieber brother?</b><br><b>in:</b> lat/relative/WordnetLAT, lat/member/WordnetLAT, lat/associate/WordnetLAT, lat/religious/WordnetLAT, lat/peer/WordnetLAT, lat/male sibling/WordnetLAT, lat/friend/WordnetLAT, lat/religious person/WordnetLAT, lat/kinsman/WordnetLAT, lat/person/WordnetLAT, lat/monk/WordnetLAT, lat/brother/LAT<br><b>out:</b> /celebrities/celebrity/celebrity_friends|/celebrities/friendship/friend, /comic_books/comic_book_series/publisher, /fictional_universe/fictional_character/romantically_involved_with|/fictional_universe/romantic_involvement/partner, /fictional_universe/fictional_character/siblings|/fictional_universe/sibling_relationship_of_fictional_characters/siblings, /people/person/children, /people/person/sibling_s|/people/sibling_relationship/sibling, /religion/religious_organization/leaders|/religion/religious_organization_leadership/role<br><b>outp:</b> /people/person/sibling_s|/people/sibling_relationship/sibling: 0.952, /fictional_universe/fictional_character/siblings|/fictional_universe/sibling_relationship_of_fictional_characters/siblings: 0.876, /fictional_universe/fictional_character/romantically_involved_with|/fictional_universe/romantic_involvement/partner: 0.872, /celebrities/celebrity/celebrity_friends|/celebrities/friendship/friend: 0.664, /religion/religious_organization/leaders|/religion/religious_organization_leadership/role: 0.531<br><b>gold:</b> /people/person/sibling_s|/people/sibling_relationship/sibling</li>"
       ],
       "metadata": {},
       "output_type": "display_data",
       "text": [
        "<IPython.core.display.HTML at 0x7f8023a46690>"
       ]
      },
      {
       "html": [
        "<li><b>where to fly into bali?</b><br><b>in:</b> sv=fly, lat/location/QuestionWordLAT<br><b>out:</b> /american_football/football_coach/current_team_head_coached, /american_football/football_player/passing|/american_football/player_passing_statistics/team, /amusement_parks/park/location, /architecture/architect/structures_designed, /aviation/airline/airports_served|/aviation/airline_airport_presence/airport, /aviation/airport/serves, /award/hall_of_fame/address|/location/mailing_address/citytown, /biology/animal_breed/place_of_origin, /book/book_subject/works, /broadcast/content/location, /business/employer/employees|/business/employment_tenure/title, /business/shopping_center/address|/location/mailing_address/citytown, /education/honorary_degree_recipient/honorary_degrees|/education/honorary_degree/institution, /exhibitions/exhibition_subject/exhibitions_created_about_this_subject, /fictional_universe/fictional_character/place_of_birth, /fictional_universe/fictional_character/places_lived, /fictional_universe/fictional_language/where_spoken, /film/film_location/featured_in_films, /geography/island/island_group, /geography/mountain/mountain_range, /geography/river/basin_countries, /geography/river/cities, /geography/river/mouth, /geography/river/origin, /language/human_language/countries_spoken_in, /language/human_language/main_country, /language/human_language/writing_system, /location/administrative_division/country, /location/administrative_division/first_level_division_of, /location/capital_of_administrative_division/capital_of|/location/administrative_division_capital_relationship/administrative_division, /location/country/capital, /location/hud_county_place/county, /location/hud_county_place/place, /location/location/containedby, /location/location/street_address|/location/mailing_address/citytown, /location/neighborhood/neighborhood_of, /location/us_county/county_seat, /martial_arts/martial_artist/martial_art, /military/military_conflict/locations, /music/artist/origin, /organization/organization/headquarters|/location/mailing_address/citytown, /organization/organization/headquarters|/location/mailing_address/country, /organization/organization/headquarters|/location/mailing_address/state_province_region, /organization/organization/phone_number|/common/phone_number/service_location, /organization/organization/place_founded, /people/deceased_person/place_of_burial, /people/deceased_person/place_of_death, /people/ethnicity/geographic_distribution, /people/ethnicity/included_in_group, /people/person/nationality, /people/person/place_of_birth, /people/person/places_lived|/people/place_lived/location, /people/person/spouse_s|/people/marriage/location_of_ceremony, /religion/religion/founding_figures, /religion/religious_organization/jurisdictions, /time/event/locations, /travel/tourist_attraction/near_travel_destination, /travel/travel_destination/local_transportation, /tv/tv_program/country_of_origin, /type/object/name, /visual_art/art_subject/artwork_on_the_subject<br><b>outp:</b> /organization/organization/headquarters|/location/mailing_address/citytown: 0.753, /type/object/name: 0.720, /organization/organization/place_founded: 0.713, /aviation/airline/airports_served|/aviation/airline_airport_presence/airport: 0.693, /music/artist/origin: 0.691<br><b>gold:</b> </li>"
       ],
       "metadata": {},
       "output_type": "display_data",
       "text": [
        "<IPython.core.display.HTML at 0x7f80206505d0>"
       ]
      },
      {
       "html": [
        "<li><b>what is cher's son's name?</b><br><b>in:</b> lat/relative/WordnetLAT, lat/person/WordnetLAT, lat/cognition/WordnetLAT, lat/God/WordnetLAT, lat/male/WordnetLAT, lat/child/WordnetLAT, lat/male offspring/WordnetLAT, lat/content/WordnetLAT, lat/belief/WordnetLAT, lat/offspring/WordnetLAT, lat/son/LAT, lat/Godhead/WordnetLAT, lat/spiritual being/WordnetLAT, lat/hypostasis/WordnetLAT<br><b>out:</b> /fictional_universe/fictional_character/married_to|/fictional_universe/marriage_of_fictional_characters/spouses, /fictional_universe/fictional_character/siblings|/fictional_universe/sibling_relationship_of_fictional_characters/siblings, /olympics/olympic_participating_country/athletes|/olympics/olympic_athlete_affiliation/sport, /people/person/children, /people/person/sibling_s|/people/sibling_relationship/sibling, /religion/religion/deities, /sports/sport_country/athletes|/sports/competitor_country_relationship/sports<br><b>outp:</b> /people/person/children: 0.951, /people/person/sibling_s|/people/sibling_relationship/sibling: 0.900, /fictional_universe/fictional_character/siblings|/fictional_universe/sibling_relationship_of_fictional_characters/siblings: 0.595, /fictional_universe/fictional_character/married_to|/fictional_universe/marriage_of_fictional_characters/spouses: 0.557, /religion/religion/deities: 0.517<br><b>gold:</b> /people/person/children</li>"
       ],
       "metadata": {},
       "output_type": "display_data",
       "text": [
        "<IPython.core.display.HTML at 0x7f8020062ed0>"
       ]
      },
      {
       "html": [
        "<li><b>what countries do people speak portuguese?</b><br><b>in:</b> lat/country/ImplicitQLAT, lat/political unit/WordnetLAT, lat/administrative district/WordnetLAT, lat/unit/WordnetLAT, lat/people/WordnetLAT, lat/organization/WordnetLAT, lat/group/WordnetLAT, lat/social group/WordnetLAT, lat/district/WordnetLAT, lat/region/WordnetLAT, lat/location/WordnetLAT, sv=speak, lat/geographical area/WordnetLAT, lat/countries/LAT<br><b>out:</b> /aviation/airline/airports_served|/aviation/airline_airport_presence/cities_served, /geography/river/basin_countries, /government/governmental_jurisdiction/governing_officials|/government/government_position_held/district_represented, /government/political_appointer/appointees|/government/government_position_held/jurisdiction_of_office, /government/politician/government_positions_held|/government/government_position_held/jurisdiction_of_office, /language/human_language/countries_spoken_in, /language/human_language/main_country, /location/administrative_division/country, /location/administrative_division/second_level_division_of, /location/country/administrative_divisions, /location/country/first_level_divisions, /location/location/adjoin_s|/location/adjoining_relationship/adjoins, /location/location/contains, /location/location/contains_major_portion_of, /location/location/partially_contained_by|/location/partial_containment_relationship/partially_contained_by, /location/location/partially_containedby, /location/location/partially_contains, /location/location/partiallycontains|/location/partial_containment_relationship/partially_contains, /location/location/street_address|/location/mailing_address/country, /location/location/street_address|/location/mailing_address/state_province_region, /location/statistical_region/places_exported_to|/location/imports_and_exports/exported_to, /location/statistical_region/places_imported_from|/location/imports_and_exports/imported_from, /military/military_combatant/casualties|/military/casualties/combatant, /military/military_combatant/force_deployments|/military/force_strength/combatant, /military/military_combatant/includes_allies, /military/military_combatant/military_conflicts|/military/military_combatant_group/combatants, /military/military_commander/military_commands|/military/military_command/military_combatant, /organization/membership_organization/members|/organization/organization_membership/member, /organization/organization/founders, /organization/organization/headquarters|/location/mailing_address/country, /organization/organization_member/member_of|/organization/organization_membership/organization, /people/person/nationality, /royalty/monarch/kingdom, /royalty/noble_person/titles|/royalty/noble_title_tenure/noble_title, /time/time_zone/locations_in_this_time_zone, /travel/tourist_attraction/near_travel_destination, /travel/transport_terminus/travel_destinations_served|/travel/transportation/travel_destination<br><b>outp:</b> /language/human_language/countries_spoken_in: 0.944, /language/human_language/main_country: 0.928, /location/location/adjoin_s|/location/adjoining_relationship/adjoins: 0.920, /location/statistical_region/places_exported_to|/location/imports_and_exports/exported_to: 0.909, /location/location/contains_major_portion_of: 0.909<br><b>gold:</b> /language/human_language/countries_spoken_in, /language/human_language/main_country</li>"
       ],
       "metadata": {},
       "output_type": "display_data",
       "text": [
        "<IPython.core.display.HTML at 0x7f8020062e90>"
       ]
      },
      {
       "html": [
        "<li><b>who was vincent van gogh inspired by?</b><br><b>in:</b> sv=inspired<br><b>out:</b> /influence/influence_node/influenced, /influence/influence_node/influenced_by<br><b>outp:</b> /influence/influence_node/influenced_by: 0.773, /influence/influence_node/influenced: 0.613, /influence/influence_node/peers|/influence/peer_relationship/peers: 0.499, /sports/sports_team/previously_known_as: 0.489, /people/person/profession: 0.487<br><b>gold:</b> /influence/influence_node/influenced_by</li>"
       ],
       "metadata": {},
       "output_type": "display_data",
       "text": [
        "<IPython.core.display.HTML at 0x7f8020062d90>"
       ]
      },
      {
       "html": [
        "<li><b>when will oscar pistorius compete?</b><br><b>in:</b> sv=compete, lat/time/QuestionWordLAT, lat/date/QuestionWordLAT<br><b>out:</b> /american_football/football_player/games|/american_football/player_game_statistics/season, /american_football/football_player/passing|/american_football/player_passing_statistics/season, /american_football/football_player/rushing|/american_football/player_rushing_statistics/season, /award/award_nominated_work/award_nominations|/award/award_nomination/year, /award/award_nominee/award_nominations|/award/award_nomination/notes_description, /award/award_nominee/award_nominations|/award/award_nomination/year, /award/award_winner/awards_won|/award/award_honor/notes_description, /award/award_winning_work/awards_won|/award/award_honor/year, /baseball/baseball_player/batting_stats|/baseball/batting_statistics/season, /basketball/basketball_player/player_statistics|/basketball/basketball_player_stats/season, /biology/organism_classification/organisms_of_this_type, /book/book_subject/works, /business/brand/owner_s|/business/company_brand_relationship/company, /business/employer/employees|/business/employment_tenure/from, /business/employer/employees|/business/employment_tenure/person, /event/public_speaker/speeches_or_presentations|/event/speech_or_presentation/speech_topic, /fictional_universe/fictional_setting/fictional_characters_born_here, /film/film_character/portrayed_in_films|/film/performance/film, /film/film_subject/films, /government/governmental_body/members|/government/government_position_held/appointed_by, /government/politician/election_campaigns, /government/us_president/vice_president, /government/us_vice_president/to_president, /language/human_language/writing_system, /location/country/internet_tld, /location/dated_location/date_founded, /location/location/events, /media_common/quotation_subject/quotations_about_this_subject, /meteorology/tropical_cyclone/tropical_cyclone_season, /military/military_combatant/casualties|/military/casualties/military_conflict, /military/military_combatant/force_deployments|/military/force_strength/military_conflict, /music/group_member/membership|/music/group_membership/end, /olympics/olympic_athlete/country|/olympics/olympic_athlete_affiliation/sport, /olympics/olympic_participating_country/athletes|/olympics/olympic_athlete_affiliation/athlete, /olympics/olympic_participating_country/medals_won|/olympics/olympic_medal_honor/medalist, /organization/organization/advisors, /organization/organization_member/member_of|/organization/organization_membership/organization, /organization/organization_scope/organizations_with_this_scope, /people/person/employment_history|/business/employment_tenure/to, /religion/deity/deity_of, /religion/religion/founding_figures, /sports/pro_athlete/sports_played_professionally|/sports/pro_sports_played/sport, /sports/sports_award_winner/awards|/sports/sports_award/season, /sports/sports_team/championships, /sports/sports_team/founded, /sports/sports_team/season_record|/sports/sports_team_season_record/season, /symbols/name_source/namesakes, /time/holiday/day_of_year, /time/recurring_event/current_frequency, /time/recurring_event/instances, /travel/travel_destination/climate|/travel/travel_destination_monthly_climate/month, /tv/tv_actor/guest_roles|/tv/tv_guest_role/episodes_appeared_in, /tv/tv_character/appeared_in_tv_program|/tv/regular_tv_appearance/seasons, /tv/tv_program/country_of_origin<br><b>outp:</b> /time/recurring_event/current_frequency: 0.821, /government/us_president/vice_president: 0.755, /sports/sports_team/championships: 0.753, /travel/travel_destination/climate|/travel/travel_destination_monthly_climate/month: 0.748, /location/country/internet_tld: 0.745<br><b>gold:</b> </li>"
       ],
       "metadata": {},
       "output_type": "display_data",
       "text": [
        "<IPython.core.display.HTML at 0x7f8020062dd0>"
       ]
      },
      {
       "html": [
        "<li><b>who plays meg in family guy?</b><br><b>in:</b> lat/person/QuestionWordLAT, sv=plays<br><b>out:</b> /automotive/company/make_s, /award/award_category/winners|/award/award_honor/award_winner, /award/award_nominated_work/award_nominations|/award/award_nomination/award_nominee, /award/award_nominee/award_nominations|/award/award_nomination/award_nominee, /award/award_winning_work/awards_won|/award/award_honor/award_winner, /boats/ship/owners|/boats/ship_ownership/owner, /book/literary_series/author_s, /book/written_work/author, /book/written_work/subjects, /broadcast/content/artist, /business/consumer_company/brands|/business/company_brand_relationship/brand, /business/employer/employees|/business/employment_tenure/person, /cvg/game_character/games|/cvg/game_performance/voice_actor, /fictional_universe/fictional_character/character_created_by, /fictional_universe/fictional_character/parents, /fictional_universe/person_in_fiction/representations_in_fiction, /film/actor/film|/film/performance/special_performance_type, /film/film/other_crew|/film/film_crew_gig/crewmember, /film/film/starring|/film/performance/actor, /film/film/written_by, /film/film_character/portrayed_in_films|/film/performance/actor, /film/person_or_entity_appearing_in_film/films|/film/personal_film_appearance/type_of_appearance, /government/political_appointer/appointees|/government/government_position_held/office_holder, /influence/influence_node/peers|/influence/peer_relationship/peers, /internet/website/owner, /law/invention/inventor, /media_common/dedicator/dedications|/media_common/dedication/dedicated_to, /music/artist/album, /music/musical_group/member|/music/group_membership/member, /organization/organization/board_members|/organization/organization_board_membership/member, /organization/organization/founders, /organization/organization/leadership|/organization/leadership/person, /organization/organization/leadership|/organization/organization/founders, /organization/organization/parent|/organization/organization_relationship/parent, /people/appointee/position|/people/appointment/appointed_by, /sports/mascot/team, /sports/professional_sports_team/owner_s, /sports/sports_award_type/winners|/sports/sports_award/award_winner, /sports/sports_championship_event/champion, /sports/sports_league/teams|/sports/sports_league_participation/team, /symbols/namesake/named_after, /tv/tv_actor/guest_roles|/tv/tv_guest_role/episodes_appeared_in, /tv/tv_actor/starring_roles|/tv/regular_tv_appearance/special_performance_type, /tv/tv_character/appeared_in_tv_episodes|/tv/tv_guest_role/actor, /tv/tv_character/appeared_in_tv_program|/tv/regular_tv_appearance/actor, /tv/tv_program/program_creator, /tv/tv_program/regular_cast|/tv/regular_tv_appearance/actor, /tv/tv_program/tv_producer|/tv/tv_producer_term/producer, /type/object/name<br><b>outp:</b> /tv/tv_character/appeared_in_tv_program|/tv/regular_tv_appearance/actor: 0.944, /film/film_character/portrayed_in_films|/film/performance/actor: 0.938, /tv/tv_character/appeared_in_tv_episodes|/tv/tv_guest_role/actor: 0.887, /film/film/starring|/film/performance/actor: 0.868, /fictional_universe/fictional_character/character_created_by: 0.862<br><b>gold:</b> /cvg/game_character/games|/cvg/game_performance/voice_actor, /film/film_character/portrayed_in_films|/film/performance/actor, /tv/tv_character/appeared_in_tv_episodes|/tv/tv_guest_role/actor, /tv/tv_character/appeared_in_tv_program|/tv/regular_tv_appearance/actor</li>"
       ],
       "metadata": {},
       "output_type": "display_data",
       "text": [
        "<IPython.core.display.HTML at 0x7f8020062bd0>"
       ]
      },
      {
       "html": [
        "<li><b>what stadium did the chicago cardinals play in?</b><br><b>in:</b> sv=play, lat/artifact/WordnetLAT, lat/stadium/LAT, lat/structure/WordnetLAT<br><b>out:</b> /american_football/football_coach/current_team_head_coached, /american_football/football_player/games|/american_football/player_game_statistics/team, /american_football/football_player/passing|/american_football/player_passing_statistics/team, /american_football/football_player/receiving|/american_football/player_receiving_statistics/team, /american_football/football_player/rushing|/american_football/player_rushing_statistics/team, /basketball/basketball_player/position_s, /film/actor/film|/film/performance/character, /soccer/football_player/goals_scored|/soccer/football_goal/point_awarded_to, /soccer/football_player/matches_played|/soccer/football_player_match_participation/team, /soccer/football_player/transfers|/soccer/football_player_transfer/purchasing_team, /sports/pro_athlete/teams|/sports/sports_team_roster/position, /sports/pro_athlete/teams|/sports/sports_team_roster/team, /sports/sports_team/arena_stadium, /sports/sports_team/venue|/sports/team_venue_relationship/venue<br><b>outp:</b> /sports/sports_team/venue|/sports/team_venue_relationship/venue: 0.960, /sports/sports_team/arena_stadium: 0.953, /film/actor/film|/film/performance/character: 0.673, /sports/pro_athlete/teams|/sports/sports_team_roster/team: 0.638, /soccer/football_player/goals_scored|/soccer/football_goal/point_awarded_to: 0.632<br><b>gold:</b> /sports/sports_team/arena_stadium, /sports/sports_team/venue|/sports/team_venue_relationship/venue</li>"
       ],
       "metadata": {},
       "output_type": "display_data",
       "text": [
        "<IPython.core.display.HTML at 0x7f8020062d50>"
       ]
      },
      {
       "html": [
        "<li><b>who was the apostle paul considered to be?</b><br><b>in:</b> lat/position/WordnetLAT, lat/attitude/WordnetLAT, sv=considered, lat/cognition/WordnetLAT, lat/orientation/WordnetLAT<br><b>out:</b> /common/topic/notable_for<br><b>outp:</b> /common/topic/notable_for: 0.513, /common/topic/alias: 0.492, /olympics/olympic_participating_country/athletes|/olympics/olympic_athlete_affiliation/sport: 0.480, /sports/sport_country/athletes|/sports/competitor_country_relationship/sports: 0.480, /geography/geographical_feature/category: 0.467<br><b>gold:</b> </li>"
       ],
       "metadata": {},
       "output_type": "display_data",
       "text": [
        "<IPython.core.display.HTML at 0x7f8020062c10>"
       ]
      },
      {
       "html": [
        "<li><b>which countries are part of the united kingdom?</b><br><b>in:</b> lat/country/ImplicitQLAT, lat/political unit/WordnetLAT, lat/location/WordnetLAT, lat/administrative district/WordnetLAT, lat/district/WordnetLAT, lat/people/WordnetLAT, lat/countries/LAT, lat/geographical area/WordnetLAT, lat/region/WordnetLAT, lat/unit/WordnetLAT, lat/organization/WordnetLAT, lat/group/WordnetLAT, lat/social group/WordnetLAT<br><b>out:</b> /aviation/airline/airports_served|/aviation/airline_airport_presence/cities_served, /geography/river/basin_countries, /government/governmental_jurisdiction/governing_officials|/government/government_position_held/district_represented, /government/political_appointer/appointees|/government/government_position_held/jurisdiction_of_office, /government/politician/government_positions_held|/government/government_position_held/jurisdiction_of_office, /language/human_language/countries_spoken_in, /language/human_language/main_country, /location/administrative_division/country, /location/administrative_division/second_level_division_of, /location/country/administrative_divisions, /location/country/first_level_divisions, /location/location/adjoin_s|/location/adjoining_relationship/adjoins, /location/location/contains, /location/location/contains_major_portion_of, /location/location/partially_contained_by|/location/partial_containment_relationship/partially_contained_by, /location/location/partially_containedby, /location/location/partially_contains, /location/location/partiallycontains|/location/partial_containment_relationship/partially_contains, /location/location/street_address|/location/mailing_address/country, /location/location/street_address|/location/mailing_address/state_province_region, /location/statistical_region/places_exported_to|/location/imports_and_exports/exported_to, /location/statistical_region/places_imported_from|/location/imports_and_exports/imported_from, /military/military_combatant/casualties|/military/casualties/combatant, /military/military_combatant/force_deployments|/military/force_strength/combatant, /military/military_combatant/includes_allies, /military/military_combatant/military_conflicts|/military/military_combatant_group/combatants, /military/military_commander/military_commands|/military/military_command/military_combatant, /organization/membership_organization/members|/organization/organization_membership/member, /organization/organization/founders, /organization/organization/headquarters|/location/mailing_address/country, /organization/organization_member/member_of|/organization/organization_membership/organization, /people/person/nationality, /royalty/monarch/kingdom, /royalty/noble_person/titles|/royalty/noble_title_tenure/noble_title, /time/time_zone/locations_in_this_time_zone, /travel/tourist_attraction/near_travel_destination, /travel/transport_terminus/travel_destinations_served|/travel/transportation/travel_destination<br><b>outp:</b> /location/location/adjoin_s|/location/adjoining_relationship/adjoins: 0.940, /location/statistical_region/places_exported_to|/location/imports_and_exports/exported_to: 0.923, /location/location/contains_major_portion_of: 0.913, /location/statistical_region/places_imported_from|/location/imports_and_exports/imported_from: 0.911, /organization/membership_organization/members|/organization/organization_membership/member: 0.907<br><b>gold:</b> /location/location/containedby</li>"
       ],
       "metadata": {},
       "output_type": "display_data",
       "text": [
        "<IPython.core.display.HTML at 0x7f8020062b90>"
       ]
      },
      {
       "html": [
        "</ul>"
       ],
       "metadata": {},
       "output_type": "display_data",
       "text": [
        "<IPython.core.display.HTML at 0x7f801fab5e10>"
       ]
      }
     ],
     "prompt_number": 115
    },
    {
     "cell_type": "code",
     "collapsed": false,
     "input": [
      "from sklearn.svm import SVC\n",
      "cfier_svcp = OneVsRestClassifier(SVC(kernel='linear', probability=True), n_jobs=4)\n",
      "pprint(cfier_svcp.fit(vtrain.X, vtrain.Y))\n",
      "demo_model(cfier_svcp)"
     ],
     "language": "python",
     "metadata": {},
     "outputs": [
      {
       "output_type": "stream",
       "stream": "stdout",
       "text": [
        "OneVsRestClassifier(estimator=SVC(C=1.0, cache_size=200, class_weight=None, coef0=0.0, degree=3, gamma=0.0,\n",
        "  kernel='linear', max_iter=-1, probability=True, random_state=None,\n",
        "  shrinking=True, tol=0.001, verbose=False),\n",
        "          n_jobs=4)\n",
        "train 0.520 val 0.303 devtest 0.397"
       ]
      },
      {
       "output_type": "stream",
       "stream": "stdout",
       "text": [
        "\n"
       ]
      },
      {
       "html": [
        "<ul>"
       ],
       "metadata": {},
       "output_type": "display_data",
       "text": [
        "<IPython.core.display.HTML at 0x7f80200629d0>"
       ]
      },
      {
       "html": [
        "<li><b>what is the name of justin bieber brother?</b><br><b>in:</b> lat/male sibling/WordnetLAT, lat/kinsman/WordnetLAT, lat/person/WordnetLAT, lat/peer/WordnetLAT, lat/associate/WordnetLAT, lat/relative/WordnetLAT, lat/monk/WordnetLAT, lat/religious/WordnetLAT, lat/member/WordnetLAT, lat/friend/WordnetLAT, lat/religious person/WordnetLAT, lat/brother/LAT<br><b>out:</b> /people/person/sibling_s|/people/sibling_relationship/sibling<br><b>outp:</b> /people/person/sibling_s|/people/sibling_relationship/sibling: 0.650, /people/person/profession: 0.038, /common/topic/notable_for: 0.023, /sports/pro_athlete/teams|/sports/sports_team_roster/team: 0.023, /location/location/containedby: 0.020<br><b>gold:</b> /people/person/sibling_s|/people/sibling_relationship/sibling</li>"
       ],
       "metadata": {},
       "output_type": "display_data",
       "text": [
        "<IPython.core.display.HTML at 0x7f8020062b50>"
       ]
      },
      {
       "html": [
        "<li><b>where to fly into bali?</b><br><b>in:</b> sv=fly, lat/location/QuestionWordLAT<br><b>out:</b> <br><b>outp:</b> /people/person/place_of_birth: 0.050, /people/person/places_lived|/people/place_lived/location: 0.043, /location/location/containedby: 0.042, /people/person/profession: 0.040, /location/location/contains: 0.026<br><b>gold:</b> </li>"
       ],
       "metadata": {},
       "output_type": "display_data",
       "text": [
        "<IPython.core.display.HTML at 0x7f80200628d0>"
       ]
      },
      {
       "html": [
        "<li><b>what is cher's son's name?</b><br><b>in:</b> lat/person/WordnetLAT, lat/relative/WordnetLAT, lat/God/WordnetLAT, lat/belief/WordnetLAT, lat/male/WordnetLAT, lat/cognition/WordnetLAT, lat/male offspring/WordnetLAT, lat/content/WordnetLAT, lat/child/WordnetLAT, lat/offspring/WordnetLAT, lat/spiritual being/WordnetLAT, lat/hypostasis/WordnetLAT, lat/Godhead/WordnetLAT, lat/son/LAT<br><b>out:</b> /people/person/children<br><b>outp:</b> /people/person/children: 0.506, /location/location/containedby: 0.034, /people/person/profession: 0.033, /location/location/contains: 0.017, /film/film_character/portrayed_in_films|/film/performance/actor: 0.017<br><b>gold:</b> /people/person/children</li>"
       ],
       "metadata": {},
       "output_type": "display_data",
       "text": [
        "<IPython.core.display.HTML at 0x7f8020062b50>"
       ]
      },
      {
       "html": [
        "<li><b>what countries do people speak portuguese?</b><br><b>in:</b> lat/country/ImplicitQLAT, lat/political unit/WordnetLAT, lat/administrative district/WordnetLAT, lat/unit/WordnetLAT, lat/people/WordnetLAT, lat/organization/WordnetLAT, lat/group/WordnetLAT, lat/social group/WordnetLAT, lat/district/WordnetLAT, lat/region/WordnetLAT, lat/location/WordnetLAT, sv=speak, lat/geographical area/WordnetLAT, lat/countries/LAT<br><b>out:</b> /language/human_language/countries_spoken_in, /language/human_language/main_country<br><b>outp:</b> /language/human_language/countries_spoken_in: 0.887, /language/human_language/main_country: 0.874, /people/person/places_lived|/people/place_lived/location: 0.043, /people/person/place_of_birth: 0.043, /location/location/containedby: 0.032<br><b>gold:</b> /language/human_language/countries_spoken_in, /language/human_language/main_country</li>"
       ],
       "metadata": {},
       "output_type": "display_data",
       "text": [
        "<IPython.core.display.HTML at 0x7f80200629d0>"
       ]
      },
      {
       "html": [
        "<li><b>who was vincent van gogh inspired by?</b><br><b>in:</b> sv=inspired<br><b>out:</b> /influence/influence_node/influenced_by<br><b>outp:</b> /influence/influence_node/influenced_by: 0.875, /location/location/containedby: 0.026, /location/location/contains: 0.026, /common/topic/notable_for: 0.023, /people/person/places_lived|/people/place_lived/location: 0.018<br><b>gold:</b> /influence/influence_node/influenced_by</li>"
       ],
       "metadata": {},
       "output_type": "display_data",
       "text": [
        "<IPython.core.display.HTML at 0x7f80200627d0>"
       ]
      },
      {
       "html": [
        "<li><b>when will oscar pistorius compete?</b><br><b>in:</b> sv=compete, lat/time/QuestionWordLAT, lat/date/QuestionWordLAT<br><b>out:</b> <br><b>outp:</b> /sports/sports_team/championships: 0.042, /location/location/contains: 0.026, /people/person/nationality: 0.025, /common/topic/notable_for: 0.025, /film/film_character/portrayed_in_films|/film/performance/actor: 0.021<br><b>gold:</b> </li>"
       ],
       "metadata": {},
       "output_type": "display_data",
       "text": [
        "<IPython.core.display.HTML at 0x7f8020062990>"
       ]
      },
      {
       "html": [
        "<li><b>who plays meg in family guy?</b><br><b>in:</b> lat/person/QuestionWordLAT, sv=plays<br><b>out:</b> /tv/tv_character/appeared_in_tv_program|/tv/regular_tv_appearance/actor<br><b>outp:</b> /tv/tv_character/appeared_in_tv_program|/tv/regular_tv_appearance/actor: 0.552, /people/person/profession: 0.040, /location/location/containedby: 0.026, /location/location/contains: 0.026, /common/topic/notable_for: 0.025<br><b>gold:</b> /cvg/game_character/games|/cvg/game_performance/voice_actor, /film/film_character/portrayed_in_films|/film/performance/actor, /tv/tv_character/appeared_in_tv_episodes|/tv/tv_guest_role/actor, /tv/tv_character/appeared_in_tv_program|/tv/regular_tv_appearance/actor</li>"
       ],
       "metadata": {},
       "output_type": "display_data",
       "text": [
        "<IPython.core.display.HTML at 0x7f8020062710>"
       ]
      },
      {
       "html": [
        "<li><b>what stadium did the chicago cardinals play in?</b><br><b>in:</b> sv=play, lat/artifact/WordnetLAT, lat/stadium/LAT, lat/structure/WordnetLAT<br><b>out:</b> /sports/sports_team/arena_stadium, /sports/sports_team/venue|/sports/team_venue_relationship/venue<br><b>outp:</b> /sports/sports_team/arena_stadium: 1.000, /sports/sports_team/venue|/sports/team_venue_relationship/venue: 0.991, /sports/pro_athlete/teams|/sports/sports_team_roster/team: 0.061, /film/actor/film|/film/performance/character: 0.034, /location/location/contains: 0.023<br><b>gold:</b> /sports/sports_team/arena_stadium, /sports/sports_team/venue|/sports/team_venue_relationship/venue</li>"
       ],
       "metadata": {},
       "output_type": "display_data",
       "text": [
        "<IPython.core.display.HTML at 0x7f8020062790>"
       ]
      },
      {
       "html": [
        "<li><b>who was the apostle paul considered to be?</b><br><b>in:</b> lat/position/WordnetLAT, lat/attitude/WordnetLAT, sv=considered, lat/cognition/WordnetLAT, lat/orientation/WordnetLAT<br><b>out:</b> <br><b>outp:</b> /location/location/containedby: 0.029, /people/person/profession: 0.025, /location/location/contains: 0.022, /common/topic/notable_for: 0.019, /film/film_character/portrayed_in_films|/film/performance/actor: 0.018<br><b>gold:</b> </li>"
       ],
       "metadata": {},
       "output_type": "display_data",
       "text": [
        "<IPython.core.display.HTML at 0x7f8020062750>"
       ]
      },
      {
       "html": [
        "<li><b>which countries are part of the united kingdom?</b><br><b>in:</b> lat/political unit/WordnetLAT, lat/unit/WordnetLAT, lat/country/ImplicitQLAT, lat/administrative district/WordnetLAT, lat/location/WordnetLAT, lat/people/WordnetLAT, lat/countries/LAT, lat/geographical area/WordnetLAT, lat/region/WordnetLAT, lat/organization/WordnetLAT, lat/group/WordnetLAT, lat/social group/WordnetLAT, lat/district/WordnetLAT<br><b>out:</b> <br><b>outp:</b> /people/person/places_lived|/people/place_lived/location: 0.043, /people/person/place_of_birth: 0.043, /location/location/containedby: 0.042, /location/location/contains: 0.030, /people/person/nationality: 0.025<br><b>gold:</b> /location/location/containedby</li>"
       ],
       "metadata": {},
       "output_type": "display_data",
       "text": [
        "<IPython.core.display.HTML at 0x7f80200626d0>"
       ]
      },
      {
       "html": [
        "</ul>"
       ],
       "metadata": {},
       "output_type": "display_data",
       "text": [
        "<IPython.core.display.HTML at 0x7f8020062a90>"
       ]
      }
     ],
     "prompt_number": 116
    },
    {
     "cell_type": "code",
     "collapsed": false,
     "input": [
      "from sklearn.svm import SVC\n",
      "cfier_svcrp = OneVsRestClassifier(SVC(kernel='rbf', probability=True), n_jobs=4)\n",
      "pprint(cfier_svcrp.fit(vtrain.X, vtrain.Y))\n",
      "demo_model(cfier_svcrp)"
     ],
     "language": "python",
     "metadata": {},
     "outputs": [
      {
       "output_type": "stream",
       "stream": "stdout",
       "text": [
        "OneVsRestClassifier(estimator=SVC(C=1.0, cache_size=200, class_weight=None, coef0=0.0, degree=3, gamma=0.0,\n",
        "  kernel='rbf', max_iter=-1, probability=True, random_state=None,\n",
        "  shrinking=True, tol=0.001, verbose=False),\n",
        "          n_jobs=4)\n",
        "train 0.090 val 0.135 devtest 0.132"
       ]
      },
      {
       "output_type": "stream",
       "stream": "stdout",
       "text": [
        "\n"
       ]
      },
      {
       "html": [
        "<ul>"
       ],
       "metadata": {},
       "output_type": "display_data",
       "text": [
        "<IPython.core.display.HTML at 0x7f801f6554d0>"
       ]
      },
      {
       "html": [
        "<li><b>what is the name of justin bieber brother?</b><br><b>in:</b> lat/religious person/WordnetLAT, lat/friend/WordnetLAT, lat/associate/WordnetLAT, lat/peer/WordnetLAT, lat/member/WordnetLAT, lat/relative/WordnetLAT, lat/religious/WordnetLAT, lat/kinsman/WordnetLAT, lat/person/WordnetLAT, lat/male sibling/WordnetLAT, lat/monk/WordnetLAT, lat/brother/LAT<br><b>out:</b> <br><b>outp:</b> /people/person/sibling_s|/people/sibling_relationship/sibling: 0.119, /travel/travel_destination/how_to_get_here|/travel/transportation/transport_terminus: 0.042, /people/person/profession: 0.038, /location/location/containedby: 0.034, /organization/organization/headquarters|/location/mailing_address/citytown: 0.030<br><b>gold:</b> /people/person/sibling_s|/people/sibling_relationship/sibling</li>"
       ],
       "metadata": {},
       "output_type": "display_data",
       "text": [
        "<IPython.core.display.HTML at 0x7f80217a4190>"
       ]
      },
      {
       "html": [
        "<li><b>where to fly into bali?</b><br><b>in:</b> lat/location/QuestionWordLAT, sv=fly<br><b>out:</b> <br><b>outp:</b> /organization/organization/headquarters|/location/mailing_address/citytown: 0.305, /travel/travel_destination/how_to_get_here|/travel/transportation/transport_terminus: 0.083, /sports/sports_team/venue|/sports/team_venue_relationship/venue: 0.056, /people/person/places_lived|/people/place_lived/location: 0.056, /people/deceased_person/place_of_death: 0.045<br><b>gold:</b> </li>"
       ],
       "metadata": {},
       "output_type": "display_data",
       "text": [
        "<IPython.core.display.HTML at 0x7f801f6554d0>"
       ]
      },
      {
       "html": [
        "<li><b>what is cher's son's name?</b><br><b>in:</b> lat/belief/WordnetLAT, lat/offspring/WordnetLAT, lat/God/WordnetLAT, lat/male offspring/WordnetLAT, lat/male/WordnetLAT, lat/person/WordnetLAT, lat/content/WordnetLAT, lat/relative/WordnetLAT, lat/child/WordnetLAT, lat/cognition/WordnetLAT, lat/Godhead/WordnetLAT, lat/spiritual being/WordnetLAT, lat/son/LAT, lat/hypostasis/WordnetLAT<br><b>out:</b> <br><b>outp:</b> /people/person/children: 0.354, /location/location/containedby: 0.034, /people/person/profession: 0.033, /organization/organization/headquarters|/location/mailing_address/citytown: 0.030, /travel/travel_destination/how_to_get_here|/travel/transportation/transport_terminus: 0.029<br><b>gold:</b> /people/person/children</li>"
       ],
       "metadata": {},
       "output_type": "display_data",
       "text": [
        "<IPython.core.display.HTML at 0x7f80217a4190>"
       ]
      },
      {
       "html": [
        "<li><b>what countries do people speak portuguese?</b><br><b>in:</b> lat/district/WordnetLAT, lat/people/WordnetLAT, lat/country/ImplicitQLAT, lat/political unit/WordnetLAT, lat/administrative district/WordnetLAT, lat/unit/WordnetLAT, lat/social group/WordnetLAT, lat/organization/WordnetLAT, lat/group/WordnetLAT, lat/region/WordnetLAT, lat/location/WordnetLAT, sv=speak, lat/countries/LAT, lat/geographical area/WordnetLAT<br><b>out:</b> <br><b>outp:</b> /language/human_language/countries_spoken_in: 0.491, /language/human_language/main_country: 0.443, /location/location/containedby: 0.033, /people/person/place_of_birth: 0.033, /people/person/places_lived|/people/place_lived/location: 0.033<br><b>gold:</b> /language/human_language/countries_spoken_in, /language/human_language/main_country</li>"
       ],
       "metadata": {},
       "output_type": "display_data",
       "text": [
        "<IPython.core.display.HTML at 0x7f80217a40d0>"
       ]
      },
      {
       "html": [
        "<li><b>who was vincent van gogh inspired by?</b><br><b>in:</b> sv=inspired<br><b>out:</b> <br><b>outp:</b> /travel/travel_destination/how_to_get_here|/travel/transportation/transport_terminus: 0.083, /sports/sports_team/venue|/sports/team_venue_relationship/venue: 0.056, /influence/influence_node/influenced_by: 0.048, /location/location/containedby: 0.042, /people/person/profession: 0.035<br><b>gold:</b> /influence/influence_node/influenced_by</li>"
       ],
       "metadata": {},
       "output_type": "display_data",
       "text": [
        "<IPython.core.display.HTML at 0x7f8020d93490>"
       ]
      },
      {
       "html": [
        "<li><b>when will oscar pistorius compete?</b><br><b>in:</b> sv=compete, lat/time/QuestionWordLAT, lat/date/QuestionWordLAT<br><b>out:</b> <br><b>outp:</b> /sports/sports_team/venue|/sports/team_venue_relationship/venue: 0.056, /people/person/profession: 0.036, /location/location/containedby: 0.033, /location/location/contains: 0.030, /organization/organization/headquarters|/location/mailing_address/citytown: 0.029<br><b>gold:</b> </li>"
       ],
       "metadata": {},
       "output_type": "display_data",
       "text": [
        "<IPython.core.display.HTML at 0x7f8020d935d0>"
       ]
      },
      {
       "html": [
        "<li><b>who plays meg in family guy?</b><br><b>in:</b> sv=plays, lat/person/QuestionWordLAT<br><b>out:</b> <br><b>outp:</b> /tv/tv_character/appeared_in_tv_program|/tv/regular_tv_appearance/actor: 0.122, /travel/travel_destination/how_to_get_here|/travel/transportation/transport_terminus: 0.083, /sports/sports_team/venue|/sports/team_venue_relationship/venue: 0.056, /location/location/containedby: 0.042, /people/person/profession: 0.038<br><b>gold:</b> /cvg/game_character/games|/cvg/game_performance/voice_actor, /film/film_character/portrayed_in_films|/film/performance/actor, /tv/tv_character/appeared_in_tv_episodes|/tv/tv_guest_role/actor, /tv/tv_character/appeared_in_tv_program|/tv/regular_tv_appearance/actor</li>"
       ],
       "metadata": {},
       "output_type": "display_data",
       "text": [
        "<IPython.core.display.HTML at 0x7f8020d93250>"
       ]
      },
      {
       "html": [
        "<li><b>what stadium did the chicago cardinals play in?</b><br><b>in:</b> lat/stadium/LAT, lat/artifact/WordnetLAT, sv=play, lat/structure/WordnetLAT<br><b>out:</b> <br><b>outp:</b> /sports/sports_team/arena_stadium: 1.000, /sports/sports_team/venue|/sports/team_venue_relationship/venue: 1.000, /travel/travel_destination/how_to_get_here|/travel/transportation/transport_terminus: 0.159, /people/person/education|/education/education/institution: 0.089, /people/person/profession: 0.033<br><b>gold:</b> /sports/sports_team/arena_stadium, /sports/sports_team/venue|/sports/team_venue_relationship/venue</li>"
       ],
       "metadata": {},
       "output_type": "display_data",
       "text": [
        "<IPython.core.display.HTML at 0x7f8020d93150>"
       ]
      },
      {
       "html": [
        "<li><b>who was the apostle paul considered to be?</b><br><b>in:</b> sv=considered, lat/attitude/WordnetLAT, lat/position/WordnetLAT, lat/cognition/WordnetLAT, lat/orientation/WordnetLAT<br><b>out:</b> <br><b>outp:</b> /travel/travel_destination/how_to_get_here|/travel/transportation/transport_terminus: 0.079, /travel/travel_destination/tourist_attractions: 0.061, /sports/sports_team/venue|/sports/team_venue_relationship/venue: 0.047, /location/location/containedby: 0.037, /people/person/profession: 0.030<br><b>gold:</b> </li>"
       ],
       "metadata": {},
       "output_type": "display_data",
       "text": [
        "<IPython.core.display.HTML at 0x7f801fb82b90>"
       ]
      },
      {
       "html": [
        "<li><b>which countries are part of the united kingdom?</b><br><b>in:</b> lat/geographical area/WordnetLAT, lat/people/WordnetLAT, lat/countries/LAT, lat/region/WordnetLAT, lat/social group/WordnetLAT, lat/country/ImplicitQLAT, lat/administrative district/WordnetLAT, lat/district/WordnetLAT, lat/unit/WordnetLAT, lat/location/WordnetLAT, lat/organization/WordnetLAT, lat/political unit/WordnetLAT, lat/group/WordnetLAT<br><b>out:</b> <br><b>outp:</b> /location/location/containedby: 0.039, /people/person/profession: 0.034, /people/person/place_of_birth: 0.033, /people/person/places_lived|/people/place_lived/location: 0.033, /language/human_language/main_country: 0.032<br><b>gold:</b> /location/location/containedby</li>"
       ],
       "metadata": {},
       "output_type": "display_data",
       "text": [
        "<IPython.core.display.HTML at 0x7f801fb82090>"
       ]
      },
      {
       "html": [
        "</ul>"
       ],
       "metadata": {},
       "output_type": "display_data",
       "text": [
        "<IPython.core.display.HTML at 0x7f8020054e50>"
       ]
      }
     ],
     "prompt_number": 117
    },
    {
     "cell_type": "code",
     "collapsed": false,
     "input": [
      "from sklearn.svm import SVC\n",
      "cfier_svcpp = OneVsRestClassifier(SVC(kernel='poly', probability=True), n_jobs=4)\n",
      "pprint(cfier_svcpp.fit(vtrain.X, vtrain.Y))\n",
      "demo_model(cfier_svcpp)"
     ],
     "language": "python",
     "metadata": {},
     "outputs": [
      {
       "output_type": "stream",
       "stream": "stdout",
       "text": [
        "OneVsRestClassifier(estimator=SVC(C=1.0, cache_size=200, class_weight=None, coef0=0.0, degree=3, gamma=0.0,\n",
        "  kernel='poly', max_iter=-1, probability=True, random_state=None,\n",
        "  shrinking=True, tol=0.001, verbose=False),\n",
        "          n_jobs=4)\n",
        "train 0.090 val 0.135 devtest 0.132"
       ]
      },
      {
       "output_type": "stream",
       "stream": "stdout",
       "text": [
        "\n"
       ]
      },
      {
       "html": [
        "<ul>"
       ],
       "metadata": {},
       "output_type": "display_data",
       "text": [
        "<IPython.core.display.HTML at 0x7f804d29fa50>"
       ]
      },
      {
       "html": [
        "<li><b>what is the name of justin bieber brother?</b><br><b>in:</b> lat/peer/WordnetLAT, lat/monk/WordnetLAT, lat/friend/WordnetLAT, lat/religious person/WordnetLAT, lat/relative/WordnetLAT, lat/kinsman/WordnetLAT, lat/religious/WordnetLAT, lat/male sibling/WordnetLAT, lat/brother/LAT, lat/member/WordnetLAT, lat/associate/WordnetLAT, lat/person/WordnetLAT<br><b>out:</b> <br><b>outp:</b> /award/award_winner/awards_won|/award/award_honor/award: 1.000, /award/award_winner/awards_won|/award/award_honor/honored_for: 1.000, /film/actor/film|/film/performance/film: 1.000, /government/political_district/representatives|/government/government_position_held/office_holder: 1.000, /government/politician/party|/government/political_party_tenure/party: 1.000<br><b>gold:</b> /people/person/sibling_s|/people/sibling_relationship/sibling</li>"
       ],
       "metadata": {},
       "output_type": "display_data",
       "text": [
        "<IPython.core.display.HTML at 0x7f8023a46690>"
       ]
      },
      {
       "html": [
        "<li><b>where to fly into bali?</b><br><b>in:</b> lat/location/QuestionWordLAT, sv=fly<br><b>out:</b> <br><b>outp:</b> /award/award_winner/awards_won|/award/award_honor/award: 1.000, /award/award_winner/awards_won|/award/award_honor/honored_for: 1.000, /film/actor/film|/film/performance/film: 1.000, /government/political_district/representatives|/government/government_position_held/office_holder: 1.000, /government/politician/party|/government/political_party_tenure/party: 1.000<br><b>gold:</b> </li>"
       ],
       "metadata": {},
       "output_type": "display_data",
       "text": [
        "<IPython.core.display.HTML at 0x7f8020d93450>"
       ]
      },
      {
       "html": [
        "<li><b>what is cher's son's name?</b><br><b>in:</b> lat/child/WordnetLAT, lat/male/WordnetLAT, lat/cognition/WordnetLAT, lat/male offspring/WordnetLAT, lat/relative/WordnetLAT, lat/person/WordnetLAT, lat/God/WordnetLAT, lat/content/WordnetLAT, lat/offspring/WordnetLAT, lat/belief/WordnetLAT, lat/spiritual being/WordnetLAT, lat/son/LAT, lat/hypostasis/WordnetLAT, lat/Godhead/WordnetLAT<br><b>out:</b> <br><b>outp:</b> /award/award_winner/awards_won|/award/award_honor/award: 1.000, /award/award_winner/awards_won|/award/award_honor/honored_for: 1.000, /film/actor/film|/film/performance/film: 1.000, /government/political_district/representatives|/government/government_position_held/office_holder: 1.000, /government/politician/party|/government/political_party_tenure/party: 1.000<br><b>gold:</b> /people/person/children</li>"
       ],
       "metadata": {},
       "output_type": "display_data",
       "text": [
        "<IPython.core.display.HTML at 0x7f804d29fa50>"
       ]
      },
      {
       "html": [
        "<li><b>what countries do people speak portuguese?</b><br><b>in:</b> lat/region/WordnetLAT, lat/organization/WordnetLAT, lat/group/WordnetLAT, lat/social group/WordnetLAT, lat/country/ImplicitQLAT, lat/political unit/WordnetLAT, lat/administrative district/WordnetLAT, lat/unit/WordnetLAT, lat/district/WordnetLAT, lat/location/WordnetLAT, lat/people/WordnetLAT, sv=speak, lat/countries/LAT, lat/geographical area/WordnetLAT<br><b>out:</b> <br><b>outp:</b> /award/award_winner/awards_won|/award/award_honor/award: 1.000, /award/award_winner/awards_won|/award/award_honor/honored_for: 1.000, /film/actor/film|/film/performance/film: 1.000, /government/political_district/representatives|/government/government_position_held/office_holder: 1.000, /government/politician/party|/government/political_party_tenure/party: 1.000<br><b>gold:</b> /language/human_language/countries_spoken_in, /language/human_language/main_country</li>"
       ],
       "metadata": {},
       "output_type": "display_data",
       "text": [
        "<IPython.core.display.HTML at 0x7f8023a46690>"
       ]
      },
      {
       "html": [
        "<li><b>who was vincent van gogh inspired by?</b><br><b>in:</b> sv=inspired<br><b>out:</b> <br><b>outp:</b> /award/award_winner/awards_won|/award/award_honor/award: 1.000, /award/award_winner/awards_won|/award/award_honor/honored_for: 1.000, /film/actor/film|/film/performance/film: 1.000, /government/political_district/representatives|/government/government_position_held/office_holder: 1.000, /government/politician/party|/government/political_party_tenure/party: 1.000<br><b>gold:</b> /influence/influence_node/influenced_by</li>"
       ],
       "metadata": {},
       "output_type": "display_data",
       "text": [
        "<IPython.core.display.HTML at 0x7f80217a40d0>"
       ]
      },
      {
       "html": [
        "<li><b>when will oscar pistorius compete?</b><br><b>in:</b> sv=compete, lat/time/QuestionWordLAT, lat/date/QuestionWordLAT<br><b>out:</b> <br><b>outp:</b> /award/award_winner/awards_won|/award/award_honor/award: 1.000, /award/award_winner/awards_won|/award/award_honor/honored_for: 1.000, /film/actor/film|/film/performance/film: 1.000, /government/political_district/representatives|/government/government_position_held/office_holder: 1.000, /government/politician/party|/government/political_party_tenure/party: 1.000<br><b>gold:</b> </li>"
       ],
       "metadata": {},
       "output_type": "display_data",
       "text": [
        "<IPython.core.display.HTML at 0x7f80217a4190>"
       ]
      },
      {
       "html": [
        "<li><b>who plays meg in family guy?</b><br><b>in:</b> lat/person/QuestionWordLAT, sv=plays<br><b>out:</b> <br><b>outp:</b> /award/award_winner/awards_won|/award/award_honor/award: 1.000, /award/award_winner/awards_won|/award/award_honor/honored_for: 1.000, /film/actor/film|/film/performance/film: 1.000, /government/political_district/representatives|/government/government_position_held/office_holder: 1.000, /government/politician/party|/government/political_party_tenure/party: 1.000<br><b>gold:</b> /cvg/game_character/games|/cvg/game_performance/voice_actor, /film/film_character/portrayed_in_films|/film/performance/actor, /tv/tv_character/appeared_in_tv_episodes|/tv/tv_guest_role/actor, /tv/tv_character/appeared_in_tv_program|/tv/regular_tv_appearance/actor</li>"
       ],
       "metadata": {},
       "output_type": "display_data",
       "text": [
        "<IPython.core.display.HTML at 0x7f8020054dd0>"
       ]
      },
      {
       "html": [
        "<li><b>what stadium did the chicago cardinals play in?</b><br><b>in:</b> lat/artifact/WordnetLAT, lat/structure/WordnetLAT, lat/stadium/LAT, sv=play<br><b>out:</b> <br><b>outp:</b> /award/award_winner/awards_won|/award/award_honor/award: 1.000, /award/award_winner/awards_won|/award/award_honor/honored_for: 1.000, /film/actor/film|/film/performance/film: 1.000, /government/political_district/representatives|/government/government_position_held/office_holder: 1.000, /government/politician/party|/government/political_party_tenure/party: 1.000<br><b>gold:</b> /sports/sports_team/arena_stadium, /sports/sports_team/venue|/sports/team_venue_relationship/venue</li>"
       ],
       "metadata": {},
       "output_type": "display_data",
       "text": [
        "<IPython.core.display.HTML at 0x7f801fb82b90>"
       ]
      },
      {
       "html": [
        "<li><b>who was the apostle paul considered to be?</b><br><b>in:</b> lat/attitude/WordnetLAT, sv=considered, lat/cognition/WordnetLAT, lat/orientation/WordnetLAT, lat/position/WordnetLAT<br><b>out:</b> <br><b>outp:</b> /award/award_winner/awards_won|/award/award_honor/award: 1.000, /award/award_winner/awards_won|/award/award_honor/honored_for: 1.000, /film/actor/film|/film/performance/film: 1.000, /government/political_district/representatives|/government/government_position_held/office_holder: 1.000, /government/politician/party|/government/political_party_tenure/party: 1.000<br><b>gold:</b> </li>"
       ],
       "metadata": {},
       "output_type": "display_data",
       "text": [
        "<IPython.core.display.HTML at 0x7f801fab5e10>"
       ]
      },
      {
       "html": [
        "<li><b>which countries are part of the united kingdom?</b><br><b>in:</b> lat/location/WordnetLAT, lat/people/WordnetLAT, lat/social group/WordnetLAT, lat/country/ImplicitQLAT, lat/political unit/WordnetLAT, lat/district/WordnetLAT, lat/group/WordnetLAT, lat/organization/WordnetLAT, lat/unit/WordnetLAT, lat/administrative district/WordnetLAT, lat/countries/LAT, lat/region/WordnetLAT, lat/geographical area/WordnetLAT<br><b>out:</b> <br><b>outp:</b> /award/award_winner/awards_won|/award/award_honor/award: 1.000, /award/award_winner/awards_won|/award/award_honor/honored_for: 1.000, /film/actor/film|/film/performance/film: 1.000, /government/political_district/representatives|/government/government_position_held/office_holder: 1.000, /government/politician/party|/government/political_party_tenure/party: 1.000<br><b>gold:</b> /location/location/containedby</li>"
       ],
       "metadata": {},
       "output_type": "display_data",
       "text": [
        "<IPython.core.display.HTML at 0x7f801f655250>"
       ]
      },
      {
       "html": [
        "</ul>"
       ],
       "metadata": {},
       "output_type": "display_data",
       "text": [
        "<IPython.core.display.HTML at 0x7f8020d935d0>"
       ]
      }
     ],
     "prompt_number": 118
    },
    {
     "cell_type": "markdown",
     "metadata": {},
     "source": [
      "## Confidence Score Models"
     ]
    },
    {
     "cell_type": "code",
     "collapsed": false,
     "input": [
      "def check_q_cs(cfier, v, d, i):\n",
      "    cs = cfier.decision_function(v.X[i])[0]\n",
      "    top_cs = sorted(enumerate(cs), key=lambda k: k[1], reverse=True)\n",
      "    top_lcs = ['<span style=\"color: %s\">%s: %.2f</span>' % (v.Ydict.classes_[k[0]], k[1]) for k in top_cs[:5]\n",
      "    return '<li><b>%s</b><br><b>in:</b> %s<br><b>out:</b> %s<br><b>outp:</b> %s<br><b>gold:</b> %s</li>' % (\n",
      "        d[i]['qText'],\n",
      "        ', '.join(sorted(v.Xdict.inverse_transform(v.X[i])[0].keys(), key=lambda s: reversed(s))),\n",
      "        ', '.join(v.Ydict.inverse_transform(cfier.predict(v.X[i]))[0]),\n",
      "        ', '.join(top_lcs),\n",
      "        ', '.join(v.Ydict.inverse_transform(np.array([v.Y[i]]))[0]))\n",
      "\n",
      "def demo_model_cs(cfier):\n",
      "    print('train %.3f val %.3f devtest %.3f' % (cfier.score(vtrain.X, vtrain.Y), cfier.score(vval.X, vval.Y), cfier.score(vdevtest.X, vdevtest.Y)))\n",
      "    display(HTML('<ul>'))\n",
      "    for i in range(10):\n",
      "        display(HTML(check_q_cs(cfier, vdevtest, devtest, i)))\n",
      "    display(HTML('</ul>'))"
     ],
     "language": "python",
     "metadata": {},
     "outputs": [],
     "prompt_number": 129
    },
    {
     "cell_type": "code",
     "collapsed": false,
     "input": [
      "from sklearn.multiclass import OneVsRestClassifier\n",
      "from sklearn.svm import SVC\n",
      "cfier_svc = OneVsRestClassifier(SVC(kernel='linear'), n_jobs=4)\n",
      "cfier_svc.fit(vtrain.X, vtrain.Y)"
     ],
     "language": "python",
     "metadata": {},
     "outputs": [
      {
       "metadata": {},
       "output_type": "pyout",
       "prompt_number": 119,
       "text": [
        "OneVsRestClassifier(estimator=SVC(C=1.0, cache_size=200, class_weight=None, coef0=0.0, degree=3, gamma=0.0,\n",
        "  kernel='linear', max_iter=-1, probability=False, random_state=None,\n",
        "  shrinking=True, tol=0.001, verbose=False),\n",
        "          n_jobs=4)"
       ]
      }
     ],
     "prompt_number": 119
    },
    {
     "cell_type": "code",
     "collapsed": false,
     "input": [
      "[x for x in cfier_svc.decision_function(vdevtest.X[0])[0] if x > 0]"
     ],
     "language": "python",
     "metadata": {},
     "outputs": [
      {
       "metadata": {},
       "output_type": "pyout",
       "prompt_number": 121,
       "text": [
        "[0.99987006672029644]"
       ]
      }
     ],
     "prompt_number": 121
    },
    {
     "cell_type": "code",
     "collapsed": false,
     "input": [
      "demo_model_cs(cfier_svc)"
     ],
     "language": "python",
     "metadata": {},
     "outputs": [
      {
       "output_type": "stream",
       "stream": "stdout",
       "text": [
        "train 0.520 val 0.303 devtest 0.397\n"
       ]
      },
      {
       "html": [
        "<ul>"
       ],
       "metadata": {},
       "output_type": "display_data",
       "text": [
        "<IPython.core.display.HTML at 0x7f8023a46690>"
       ]
      },
      {
       "html": [
        "<li><b>what is the name of justin bieber brother?</b><br><b>in:</b> lat/religious/WordnetLAT, lat/associate/WordnetLAT, lat/relative/WordnetLAT, lat/peer/WordnetLAT, lat/friend/WordnetLAT, lat/religious person/WordnetLAT, lat/person/WordnetLAT, lat/member/WordnetLAT, lat/kinsman/WordnetLAT, lat/monk/WordnetLAT, lat/male sibling/WordnetLAT, lat/brother/LAT<br><b>out:</b> /people/person/sibling_s|/people/sibling_relationship/sibling<br><b>outp:</b> /people/person/sibling_s|/people/sibling_relationship/sibling: 1.00<br><b>gold:</b> /people/person/sibling_s|/people/sibling_relationship/sibling</li>"
       ],
       "metadata": {},
       "output_type": "display_data",
       "text": [
        "<IPython.core.display.HTML at 0x7f80204adc50>"
       ]
      },
      {
       "html": [
        "<li><b>where to fly into bali?</b><br><b>in:</b> sv=fly, lat/location/QuestionWordLAT<br><b>out:</b> <br><b>outp:</b> <br><b>gold:</b> </li>"
       ],
       "metadata": {},
       "output_type": "display_data",
       "text": [
        "<IPython.core.display.HTML at 0x7f80204ad9d0>"
       ]
      },
      {
       "html": [
        "<li><b>what is cher's son's name?</b><br><b>in:</b> lat/relative/WordnetLAT, lat/person/WordnetLAT, lat/male/WordnetLAT, lat/God/WordnetLAT, lat/cognition/WordnetLAT, lat/child/WordnetLAT, lat/male offspring/WordnetLAT, lat/content/WordnetLAT, lat/belief/WordnetLAT, lat/offspring/WordnetLAT, lat/spiritual being/WordnetLAT, lat/Godhead/WordnetLAT, lat/son/LAT, lat/hypostasis/WordnetLAT<br><b>out:</b> /people/person/children<br><b>outp:</b> /people/person/children: 0.60<br><b>gold:</b> /people/person/children</li>"
       ],
       "metadata": {},
       "output_type": "display_data",
       "text": [
        "<IPython.core.display.HTML at 0x7f80204ada90>"
       ]
      },
      {
       "html": [
        "<li><b>what countries do people speak portuguese?</b><br><b>in:</b> lat/country/ImplicitQLAT, lat/administrative district/WordnetLAT, lat/unit/WordnetLAT, lat/political unit/WordnetLAT, lat/people/WordnetLAT, lat/organization/WordnetLAT, lat/group/WordnetLAT, lat/social group/WordnetLAT, lat/district/WordnetLAT, lat/region/WordnetLAT, lat/location/WordnetLAT, sv=speak, lat/countries/LAT, lat/geographical area/WordnetLAT<br><b>out:</b> /language/human_language/countries_spoken_in, /language/human_language/main_country<br><b>outp:</b> /language/human_language/main_country: 0.81, /language/human_language/countries_spoken_in: 0.63<br><b>gold:</b> /language/human_language/countries_spoken_in, /language/human_language/main_country</li>"
       ],
       "metadata": {},
       "output_type": "display_data",
       "text": [
        "<IPython.core.display.HTML at 0x7f80204ad990>"
       ]
      },
      {
       "html": [
        "<li><b>who was vincent van gogh inspired by?</b><br><b>in:</b> sv=inspired<br><b>out:</b> /influence/influence_node/influenced_by<br><b>outp:</b> /influence/influence_node/influenced_by: 1.00<br><b>gold:</b> /influence/influence_node/influenced_by</li>"
       ],
       "metadata": {},
       "output_type": "display_data",
       "text": [
        "<IPython.core.display.HTML at 0x7f802000e9d0>"
       ]
      },
      {
       "html": [
        "<li><b>when will oscar pistorius compete?</b><br><b>in:</b> sv=compete, lat/time/QuestionWordLAT, lat/date/QuestionWordLAT<br><b>out:</b> <br><b>outp:</b> <br><b>gold:</b> </li>"
       ],
       "metadata": {},
       "output_type": "display_data",
       "text": [
        "<IPython.core.display.HTML at 0x7f802000ea10>"
       ]
      },
      {
       "html": [
        "<li><b>who plays meg in family guy?</b><br><b>in:</b> lat/person/QuestionWordLAT, sv=plays<br><b>out:</b> /tv/tv_character/appeared_in_tv_program|/tv/regular_tv_appearance/actor<br><b>outp:</b> /tv/tv_character/appeared_in_tv_program|/tv/regular_tv_appearance/actor: 1.00<br><b>gold:</b> /cvg/game_character/games|/cvg/game_performance/voice_actor, /film/film_character/portrayed_in_films|/film/performance/actor, /tv/tv_character/appeared_in_tv_episodes|/tv/tv_guest_role/actor, /tv/tv_character/appeared_in_tv_program|/tv/regular_tv_appearance/actor</li>"
       ],
       "metadata": {},
       "output_type": "display_data",
       "text": [
        "<IPython.core.display.HTML at 0x7f802000e850>"
       ]
      },
      {
       "html": [
        "<li><b>what stadium did the chicago cardinals play in?</b><br><b>in:</b> sv=play, lat/artifact/WordnetLAT, lat/stadium/LAT, lat/structure/WordnetLAT<br><b>out:</b> /sports/sports_team/arena_stadium, /sports/sports_team/venue|/sports/team_venue_relationship/venue<br><b>outp:</b> /sports/sports_team/arena_stadium: 1.55, /sports/sports_team/venue|/sports/team_venue_relationship/venue: 1.00<br><b>gold:</b> /sports/sports_team/arena_stadium, /sports/sports_team/venue|/sports/team_venue_relationship/venue</li>"
       ],
       "metadata": {},
       "output_type": "display_data",
       "text": [
        "<IPython.core.display.HTML at 0x7f802000e910>"
       ]
      },
      {
       "html": [
        "<li><b>who was the apostle paul considered to be?</b><br><b>in:</b> lat/position/WordnetLAT, lat/attitude/WordnetLAT, sv=considered, lat/cognition/WordnetLAT, lat/orientation/WordnetLAT<br><b>out:</b> <br><b>outp:</b> <br><b>gold:</b> </li>"
       ],
       "metadata": {},
       "output_type": "display_data",
       "text": [
        "<IPython.core.display.HTML at 0x7f802000e8d0>"
       ]
      },
      {
       "html": [
        "<li><b>which countries are part of the united kingdom?</b><br><b>in:</b> lat/country/ImplicitQLAT, lat/political unit/WordnetLAT, lat/administrative district/WordnetLAT, lat/unit/WordnetLAT, lat/people/WordnetLAT, lat/location/WordnetLAT, lat/countries/LAT, lat/geographical area/WordnetLAT, lat/region/WordnetLAT, lat/organization/WordnetLAT, lat/group/WordnetLAT, lat/social group/WordnetLAT, lat/district/WordnetLAT<br><b>out:</b> <br><b>outp:</b> <br><b>gold:</b> /location/location/containedby</li>"
       ],
       "metadata": {},
       "output_type": "display_data",
       "text": [
        "<IPython.core.display.HTML at 0x7f802000e810>"
       ]
      },
      {
       "html": [
        "</ul>"
       ],
       "metadata": {},
       "output_type": "display_data",
       "text": [
        "<IPython.core.display.HTML at 0x7f801fb65850>"
       ]
      }
     ],
     "prompt_number": 130
    },
    {
     "cell_type": "code",
     "collapsed": false,
     "input": [
      "from sklearn.multiclass import OneVsRestClassifier\n",
      "from sklearn.svm import LinearSVC\n",
      "cfier_lsvc = OneVsRestClassifier(LinearSVC(), n_jobs=4)\n",
      "cfier_lsvc.fit(vtrain.X, vtrain.Y)\n",
      "demo_model_cs(cfier_lsvc)"
     ],
     "language": "python",
     "metadata": {},
     "outputs": [
      {
       "output_type": "stream",
       "stream": "stdout",
       "text": [
        "train 0.578 val 0.302 devtest 0.392\n"
       ]
      },
      {
       "html": [
        "<ul>"
       ],
       "metadata": {},
       "output_type": "display_data",
       "text": [
        "<IPython.core.display.HTML at 0x7f802093c290>"
       ]
      },
      {
       "html": [
        "<li><b>what is the name of justin bieber brother?</b><br><b>in:</b> lat/member/WordnetLAT, lat/friend/WordnetLAT, lat/monk/WordnetLAT, lat/religious person/WordnetLAT, lat/associate/WordnetLAT, lat/person/WordnetLAT, lat/kinsman/WordnetLAT, lat/religious/WordnetLAT, lat/male sibling/WordnetLAT, lat/peer/WordnetLAT, lat/relative/WordnetLAT, lat/brother/LAT<br><b>out:</b> /people/person/sibling_s|/people/sibling_relationship/sibling<br><b>outp:</b> /people/person/sibling_s|/people/sibling_relationship/sibling: 0.84<br><b>gold:</b> /people/person/sibling_s|/people/sibling_relationship/sibling</li>"
       ],
       "metadata": {},
       "output_type": "display_data",
       "text": [
        "<IPython.core.display.HTML at 0x7f802093c1d0>"
       ]
      },
      {
       "html": [
        "<li><b>where to fly into bali?</b><br><b>in:</b> lat/location/QuestionWordLAT, sv=fly<br><b>out:</b> <br><b>outp:</b> <br><b>gold:</b> </li>"
       ],
       "metadata": {},
       "output_type": "display_data",
       "text": [
        "<IPython.core.display.HTML at 0x7f80201baed0>"
       ]
      },
      {
       "html": [
        "<li><b>what is cher's son's name?</b><br><b>in:</b> lat/belief/WordnetLAT, lat/offspring/WordnetLAT, lat/God/WordnetLAT, lat/person/WordnetLAT, lat/relative/WordnetLAT, lat/cognition/WordnetLAT, lat/hypostasis/WordnetLAT, lat/Godhead/WordnetLAT, lat/son/LAT, lat/child/WordnetLAT, lat/spiritual being/WordnetLAT, lat/content/WordnetLAT, lat/male offspring/WordnetLAT, lat/male/WordnetLAT<br><b>out:</b> /people/person/children<br><b>outp:</b> /people/person/children: 0.05<br><b>gold:</b> /people/person/children</li>"
       ],
       "metadata": {},
       "output_type": "display_data",
       "text": [
        "<IPython.core.display.HTML at 0x7f8020787bd0>"
       ]
      },
      {
       "html": [
        "<li><b>what countries do people speak portuguese?</b><br><b>in:</b> lat/group/WordnetLAT, lat/organization/WordnetLAT, lat/political unit/WordnetLAT, lat/country/ImplicitQLAT, lat/administrative district/WordnetLAT, lat/unit/WordnetLAT, lat/social group/WordnetLAT, lat/district/WordnetLAT, lat/people/WordnetLAT, lat/region/WordnetLAT, lat/location/WordnetLAT, lat/countries/LAT, lat/geographical area/WordnetLAT, sv=speak<br><b>out:</b> /language/human_language/countries_spoken_in, /language/human_language/main_country<br><b>outp:</b> /language/human_language/main_country: 0.37, /language/human_language/countries_spoken_in: 0.36<br><b>gold:</b> /language/human_language/countries_spoken_in, /language/human_language/main_country</li>"
       ],
       "metadata": {},
       "output_type": "display_data",
       "text": [
        "<IPython.core.display.HTML at 0x7f80207879d0>"
       ]
      },
      {
       "html": [
        "<li><b>who was vincent van gogh inspired by?</b><br><b>in:</b> sv=inspired<br><b>out:</b> /influence/influence_node/influenced_by<br><b>outp:</b> /influence/influence_node/influenced_by: 0.46<br><b>gold:</b> /influence/influence_node/influenced_by</li>"
       ],
       "metadata": {},
       "output_type": "display_data",
       "text": [
        "<IPython.core.display.HTML at 0x7f8020787910>"
       ]
      },
      {
       "html": [
        "<li><b>when will oscar pistorius compete?</b><br><b>in:</b> lat/date/QuestionWordLAT, lat/time/QuestionWordLAT, sv=compete<br><b>out:</b> <br><b>outp:</b> <br><b>gold:</b> </li>"
       ],
       "metadata": {},
       "output_type": "display_data",
       "text": [
        "<IPython.core.display.HTML at 0x7f8020054dd0>"
       ]
      },
      {
       "html": [
        "<li><b>who plays meg in family guy?</b><br><b>in:</b> sv=plays, lat/person/QuestionWordLAT<br><b>out:</b> /tv/tv_character/appeared_in_tv_program|/tv/regular_tv_appearance/actor<br><b>outp:</b> /tv/tv_character/appeared_in_tv_program|/tv/regular_tv_appearance/actor: 0.03<br><b>gold:</b> /cvg/game_character/games|/cvg/game_performance/voice_actor, /film/film_character/portrayed_in_films|/film/performance/actor, /tv/tv_character/appeared_in_tv_episodes|/tv/tv_guest_role/actor, /tv/tv_character/appeared_in_tv_program|/tv/regular_tv_appearance/actor</li>"
       ],
       "metadata": {},
       "output_type": "display_data",
       "text": [
        "<IPython.core.display.HTML at 0x7f802000ea10>"
       ]
      },
      {
       "html": [
        "<li><b>what stadium did the chicago cardinals play in?</b><br><b>in:</b> lat/stadium/LAT, sv=play, lat/structure/WordnetLAT, lat/artifact/WordnetLAT<br><b>out:</b> /sports/sports_team/arena_stadium, /sports/sports_team/venue|/sports/team_venue_relationship/venue<br><b>outp:</b> /sports/sports_team/arena_stadium: 1.65, /sports/sports_team/venue|/sports/team_venue_relationship/venue: 1.58<br><b>gold:</b> /sports/sports_team/arena_stadium, /sports/sports_team/venue|/sports/team_venue_relationship/venue</li>"
       ],
       "metadata": {},
       "output_type": "display_data",
       "text": [
        "<IPython.core.display.HTML at 0x7f80204addd0>"
       ]
      },
      {
       "html": [
        "<li><b>who was the apostle paul considered to be?</b><br><b>in:</b> lat/position/WordnetLAT, lat/orientation/WordnetLAT, lat/attitude/WordnetLAT, sv=considered, lat/cognition/WordnetLAT<br><b>out:</b> /common/topic/alias<br><b>outp:</b> /common/topic/alias: 0.16<br><b>gold:</b> </li>"
       ],
       "metadata": {},
       "output_type": "display_data",
       "text": [
        "<IPython.core.display.HTML at 0x7f80204adcd0>"
       ]
      },
      {
       "html": [
        "<li><b>which countries are part of the united kingdom?</b><br><b>in:</b> lat/location/WordnetLAT, lat/region/WordnetLAT, lat/political unit/WordnetLAT, lat/district/WordnetLAT, lat/country/ImplicitQLAT, lat/administrative district/WordnetLAT, lat/people/WordnetLAT, lat/social group/WordnetLAT, lat/group/WordnetLAT, lat/organization/WordnetLAT, lat/unit/WordnetLAT, lat/geographical area/WordnetLAT, lat/countries/LAT<br><b>out:</b> <br><b>outp:</b> <br><b>gold:</b> /location/location/containedby</li>"
       ],
       "metadata": {},
       "output_type": "display_data",
       "text": [
        "<IPython.core.display.HTML at 0x7f80204ada50>"
       ]
      },
      {
       "html": [
        "</ul>"
       ],
       "metadata": {},
       "output_type": "display_data",
       "text": [
        "<IPython.core.display.HTML at 0x7f802093c210>"
       ]
      }
     ],
     "prompt_number": 131
    },
    {
     "cell_type": "code",
     "collapsed": false,
     "input": [],
     "language": "python",
     "metadata": {},
     "outputs": []
    }
   ],
   "metadata": {}
  }
 ]
}