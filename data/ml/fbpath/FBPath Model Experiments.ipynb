{
 "metadata": {
  "name": "",
  "signature": "sha256:369f3cf02f001f69020e5d8673705efbc1a5f4e5ff4680aa4c3dda9318cf16ee"
 },
 "nbformat": 3,
 "nbformat_minor": 0,
 "worksheets": [
  {
   "cells": [
    {
     "cell_type": "markdown",
     "metadata": {},
     "source": [
      "# Experiments with fbpath models"
     ]
    },
    {
     "cell_type": "markdown",
     "metadata": {},
     "source": [
      "## Prologue, Data"
     ]
    },
    {
     "cell_type": "code",
     "collapsed": false,
     "input": [
      "%load_ext autoreload\n",
      "%autoreload 2\n",
      "from fbpath_train_bnb import VectorizedData\n",
      "import json\n",
      "import numpy as np\n",
      "from pprint import pprint\n",
      "from sklearn.multiclass import OneVsRestClassifier\n",
      "from IPython.display import display, HTML"
     ],
     "language": "python",
     "metadata": {},
     "outputs": [
      {
       "output_type": "stream",
       "stream": "stdout",
       "text": [
        "The autoreload extension is already loaded. To reload it, use:\n",
        "  %reload_ext autoreload\n"
       ]
      }
     ],
     "prompt_number": 94
    },
    {
     "cell_type": "code",
     "collapsed": false,
     "input": [
      "with open('wq-fbpath/trainmodel.json') as f:\n",
      "    train = json.load(f)\n",
      "with open('wq-fbpath/val.json') as f:\n",
      "    val = json.load(f)\n",
      "with open('wq-fbpath/devtest.json') as f:\n",
      "    devtest = json.load(f)"
     ],
     "language": "python",
     "metadata": {},
     "outputs": []
    },
    {
     "cell_type": "code",
     "collapsed": false,
     "input": [
      "vtrain = VectorizedData(train)\n",
      "vval = VectorizedData(val, vtrain.Xdict, vtrain.Ydict)\n",
      "vdevtest = VectorizedData(devtest, vtrain.Xdict, vtrain.Ydict)"
     ],
     "language": "python",
     "metadata": {},
     "outputs": [
      {
       "output_type": "stream",
       "stream": "stdout",
       "text": [
        "dropped 58 out of 1080 labels (not in training set)\n",
        "dropped 20 out of 270 labels (not in training set)\n"
       ]
      }
     ],
     "prompt_number": 39
    },
    {
     "cell_type": "code",
     "collapsed": false,
     "input": [
      "vtrain.X, vval.X, vdevtest.X"
     ],
     "language": "python",
     "metadata": {},
     "outputs": [
      {
       "metadata": {},
       "output_type": "pyout",
       "prompt_number": 12,
       "text": [
        "(<2834x2487 sparse matrix of type '<type 'numpy.float64'>'\n",
        " \twith 25378 stored elements in Compressed Sparse Row format>,\n",
        " <755x2487 sparse matrix of type '<type 'numpy.float64'>'\n",
        " \twith 6312 stored elements in Compressed Sparse Row format>,\n",
        " <189x2487 sparse matrix of type '<type 'numpy.float64'>'\n",
        " \twith 1550 stored elements in Compressed Sparse Row format>)"
       ]
      }
     ],
     "prompt_number": 12
    },
    {
     "cell_type": "markdown",
     "metadata": {},
     "source": [
      "TODO: better scoring method - recall, precision, F2, mrr"
     ]
    },
    {
     "cell_type": "code",
     "collapsed": false,
     "input": [
      "np.sum(np.sum(vdevtest.Y, axis=1) == np.sum(cfier_bnb.predict(vdevtest.X) * vdevtest.Y, axis=1)) / float(np.size(vdevtest.Y, axis=0))"
     ],
     "language": "python",
     "metadata": {},
     "outputs": [
      {
       "metadata": {},
       "output_type": "pyout",
       "prompt_number": 158,
       "text": [
        "0.23280423280423279"
       ]
      }
     ],
     "prompt_number": 158
    },
    {
     "cell_type": "code",
     "collapsed": false,
     "input": [
      "np.sum((np.sum(vdevtest.Y, axis=1) != 0) == (np.sum(cfier_bnb.predict(vdevtest.X) * vdevtest.Y, axis=1) != 0))"
     ],
     "language": "python",
     "metadata": {},
     "outputs": [
      {
       "metadata": {},
       "output_type": "pyout",
       "prompt_number": 157,
       "text": [
        "50"
       ]
      }
     ],
     "prompt_number": 157
    },
    {
     "cell_type": "code",
     "collapsed": false,
     "input": [
      "np.sum((cfier_bnb.predict(vdevtest.X) + vdevtest.Y) == 2), np.sum(cfier_bnb.predict(vdevtest.X))"
     ],
     "language": "python",
     "metadata": {},
     "outputs": [
      {
       "metadata": {},
       "output_type": "pyout",
       "prompt_number": 185,
       "text": [
        "(33, 68)"
       ]
      }
     ],
     "prompt_number": 185
    },
    {
     "cell_type": "code",
     "collapsed": false,
     "input": [
      "sorted(enumerate(cfier_bnb.predict_proba(vdevtest.X[0])[0]), key=lambda k: k[1], reverse=True)"
     ],
     "language": "python",
     "metadata": {},
     "outputs": [
      {
       "metadata": {},
       "output_type": "pyout",
       "prompt_number": 194,
       "text": [
        "[(370, 0.00014569317403831245),\n",
        " (375, 6.912237413756928e-05),\n",
        " (250, 6.3924366137900116e-05),\n",
        " (368, 2.6263838391574913e-06),\n",
        " (369, 2.042300351527674e-06),\n",
        " (359, 5.6285644317586809e-07),\n",
        " (405, 1.5543436474183115e-07),\n",
        " (251, 2.0197868656481925e-09),\n",
        " (158, 7.2636726479370887e-10),\n",
        " (236, 6.7929121320763566e-10),\n",
        " (107, 3.7959500227415543e-10),\n",
        " (150, 1.4586267543655281e-10),\n",
        " (188, 1.1964591293850859e-10),\n",
        " (452, 3.0274113057893077e-11),\n",
        " (460, 1.3808650394587087e-11),\n",
        " (242, 5.8261636024294987e-13),\n",
        " (417, 5.4270507220121471e-14),\n",
        " (244, 3.0205473670379424e-14),\n",
        " (33, 4.3740159727878612e-15),\n",
        " (347, 2.8286912153259857e-15),\n",
        " (366, 2.0688479899815387e-15),\n",
        " (475, 4.3044539993859488e-16),\n",
        " (349, 2.7036159666184409e-16),\n",
        " (39, 1.2843869442418115e-17),\n",
        " (238, 8.7978539362741564e-19),\n",
        " (249, 7.3531737217294534e-20),\n",
        " (73, 1.1612503652785053e-20),\n",
        " (149, 4.7958519460620709e-22),\n",
        " (332, 1.7388803654129544e-24),\n",
        " (367, 4.2648158235613009e-25),\n",
        " (246, 3.5943435208978848e-26),\n",
        " (474, 2.2595447064045053e-26),\n",
        " (68, 1.6632378716382443e-29),\n",
        " (255, 2.5548344896826876e-31),\n",
        " (219, 6.6318484734645754e-33),\n",
        " (335, 4.5752644015769561e-33),\n",
        " (108, 2.4923215790310121e-33),\n",
        " (265, 2.8754321981293219e-34),\n",
        " (273, 1.6485947415567115e-34),\n",
        " (216, 4.855174021349754e-35),\n",
        " (234, 2.099633533727035e-35),\n",
        " (212, 1.6321017570772661e-35),\n",
        " (225, 1.082198656417964e-37),\n",
        " (207, 1.1365065278834605e-40),\n",
        " (331, 4.1266267126790733e-41),\n",
        " (356, 1.3853152816801771e-41),\n",
        " (231, 7.2664241991922079e-43),\n",
        " (259, 5.9146363876784578e-44),\n",
        " (333, 1.7507671470665902e-44),\n",
        " (398, 4.2653671693977048e-45),\n",
        " (436, 8.2940110927452685e-46),\n",
        " (343, 5.0499602544111811e-46),\n",
        " (258, 2.860668153420543e-49),\n",
        " (275, 5.0034698377783423e-50),\n",
        " (256, 4.2344717105192404e-51),\n",
        " (66, 1.4057279325718219e-51),\n",
        " (257, 1.0104751924184526e-53),\n",
        " (307, 4.754420013584494e-54),\n",
        " (416, 3.3712515704279907e-54),\n",
        " (156, 1.4923552201912785e-54),\n",
        " (440, 7.3550589495861627e-55),\n",
        " (458, 6.4776106674989748e-55),\n",
        " (361, 6.0169263224388216e-56),\n",
        " (208, 2.8588790793694039e-57),\n",
        " (308, 2.3173795742487184e-57),\n",
        " (450, 7.1504320398458399e-60),\n",
        " (55, 3.2984168594199215e-60),\n",
        " (105, 3.0524603192568764e-60),\n",
        " (200, 1.5070592695411688e-60),\n",
        " (232, 2.7567363926293926e-61),\n",
        " (237, 2.5547045496373787e-61),\n",
        " (233, 2.4167872572735963e-61),\n",
        " (169, 6.7248552225090467e-62),\n",
        " (431, 8.0719492335516583e-64),\n",
        " (350, 7.9188468707372872e-64),\n",
        " (3, 6.470215314465681e-64),\n",
        " (254, 2.9275894157583537e-65),\n",
        " (312, 9.5509758333327594e-66),\n",
        " (456, 1.7953526826180923e-66),\n",
        " (276, 1.0939760195020106e-67),\n",
        " (372, 5.9252773860513048e-69),\n",
        " (101, 1.501918820038778e-69),\n",
        " (352, 7.780707965228292e-70),\n",
        " (299, 2.6109748860018535e-70),\n",
        " (227, 1.9883836601345957e-70),\n",
        " (206, 1.673534560973954e-70),\n",
        " (295, 3.7272256320687e-76),\n",
        " (455, 2.3321937240813036e-76),\n",
        " (305, 6.7977204343266105e-77),\n",
        " (204, 4.7479235050546709e-77),\n",
        " (293, 9.1883851674062123e-79),\n",
        " (271, 1.1967800994556645e-79),\n",
        " (303, 5.1427991868744152e-82),\n",
        " (433, 1.1468849670980867e-84),\n",
        " (341, 4.1860474501099176e-85),\n",
        " (279, 2.4488341269167286e-85),\n",
        " (437, 1.3124698851839264e-85),\n",
        " (373, 1.255180267076997e-86),\n",
        " (394, 4.4617980611881573e-87),\n",
        " (413, 1.3145412077972218e-87),\n",
        " (209, 1.3074135882169703e-87),\n",
        " (412, 3.6621010432641108e-88),\n",
        " (165, 2.3594326676425455e-88),\n",
        " (478, 1.0532055365329852e-88),\n",
        " (162, 7.1674747663901212e-89),\n",
        " (167, 2.4476138392642907e-89),\n",
        " (309, 1.7386476212761045e-93),\n",
        " (311, 1.904878883898064e-95),\n",
        " (9, 1.6582268551671914e-95),\n",
        " (336, 1.4900180082432816e-95),\n",
        " (129, 1.3844284597673978e-95),\n",
        " (163, 1.1434235793219054e-95),\n",
        " (193, 4.0810125393728678e-97),\n",
        " (285, 1.9736728981888222e-97),\n",
        " (397, 1.5825602069995336e-97),\n",
        " (168, 2.8436971030634927e-99),\n",
        " (348, 4.1234645966803954e-108),\n",
        " (5, 3.4196609949418287e-108),\n",
        " (7, 1.1235452335936267e-109),\n",
        " (228, 9.9847765428599562e-110),\n",
        " (393, 2.8363703512838057e-110),\n",
        " (442, 1.6575279943456883e-110),\n",
        " (54, 1.9320070395313679e-111),\n",
        " (153, 3.0504274387600702e-112),\n",
        " (141, 1.348312523760694e-120),\n",
        " (94, 4.156209163923301e-124),\n",
        " (29, 3.0782339790969093e-124),\n",
        " (408, 9.0648104169868046e-125),\n",
        " (241, 5.6639621644590818e-125),\n",
        " (340, 4.817151835779225e-125),\n",
        " (351, 2.2207870871955375e-125),\n",
        " (178, 1.4384084067664106e-125),\n",
        " (113, 1.0582879021340924e-125),\n",
        " (374, 6.4634366725033007e-126),\n",
        " (40, 2.8125873461521387e-126),\n",
        " (185, 9.8618949570120966e-127),\n",
        " (37, 2.7929050039777805e-128),\n",
        " (298, 6.5665819386071204e-129),\n",
        " (194, 2.7808307816172587e-130),\n",
        " (390, 2.1393583286273123e-130),\n",
        " (139, 8.0144037445239822e-142),\n",
        " (28, 1.2284687023203533e-145),\n",
        " (137, 1.0920314560343346e-145),\n",
        " (329, 5.8870851569915191e-146),\n",
        " (424, 4.2872414195956167e-146),\n",
        " (445, 3.7027872700605139e-146),\n",
        " (426, 1.8626873529966138e-146),\n",
        " (415, 8.5702439746945559e-147),\n",
        " (360, 1.6169971758204936e-147),\n",
        " (421, 1.2677609308862133e-147),\n",
        " (270, 1.7920544958011977e-148),\n",
        " (47, 1.3015477381422199e-148),\n",
        " (377, 5.7797664365985754e-149),\n",
        " (330, 4.3996805031128337e-149),\n",
        " (465, 3.2894429235782042e-149),\n",
        " (385, 1.6319363443092371e-151),\n",
        " (10, 2.5293798995057505e-152),\n",
        " (404, 6.4094481478500914e-153),\n",
        " (420, 3.0540449625387151e-154),\n",
        " (435, 6.5559975503330353e-155),\n",
        " (318, 6.2294481458320411e-175),\n",
        " (247, 2.6691489474488571e-175),\n",
        " (468, 2.0383993097427374e-175),\n",
        " (284, 1.7914849708310281e-175),\n",
        " (381, 9.3682318593135694e-176),\n",
        " (229, 8.7308358151168519e-176),\n",
        " (447, 4.2156169399571942e-176),\n",
        " (34, 8.0758393800350185e-177),\n",
        " (261, 5.1960945847073198e-177),\n",
        " (423, 4.4055114433250137e-177),\n",
        " (321, 3.0525166018059331e-177),\n",
        " (402, 3.0525166018059331e-177),\n",
        " (226, 1.4998584653486446e-177),\n",
        " (218, 7.1907289591656789e-178),\n",
        " (296, 4.0628995310392981e-178),\n",
        " (98, 3.7525961560570461e-178),\n",
        " (90, 1.3690017481773766e-178),\n",
        " (306, 1.3648283564598402e-178),\n",
        " (469, 1.0176395468959482e-178),\n",
        " (133, 5.6818743939731053e-179),\n",
        " (300, 1.0810900031442519e-179),\n",
        " (88, 2.5512828148812479e-180),\n",
        " (56, 2.2783045905205765e-180),\n",
        " (304, 1.9855172850457996e-180),\n",
        " (316, 1.2582759791044381e-180),\n",
        " (429, 9.7924853248748366e-181),\n",
        " (477, 1.3386236374207268e-182),\n",
        " (268, 9.2572429861113562e-183),\n",
        " (315, 7.3456040186770774e-183),\n",
        " (235, 6.3151541511123806e-183),\n",
        " (252, 4.1986016001483847e-183),\n",
        " (317, 4.6796880862996931e-186),\n",
        " (310, 1.055299808255477e-192),\n",
        " (115, 4.6703484577282212e-194),\n",
        " (140, 2.0050597757808618e-212),\n",
        " (32, 8.926853416399568e-218),\n",
        " (451, 7.933876636105051e-218),\n",
        " (325, 5.6521121138457289e-218),\n",
        " (220, 4.4595757479607096e-218),\n",
        " (179, 3.524702504999399e-218),\n",
        " (277, 2.506434668269675e-218),\n",
        " (430, 2.350318823253646e-218),\n",
        " (396, 1.4856112266567283e-218),\n",
        " (75, 1.0036827279994033e-218),\n",
        " (148, 7.9303274526122655e-219),\n",
        " (379, 6.5947764430335095e-219),\n",
        " (267, 5.0074910175721001e-219),\n",
        " (217, 3.2953699794810646e-219),\n",
        " (464, 2.1108314565597433e-219),\n",
        " (278, 7.4038076183243659e-220),\n",
        " (260, 6.9373451983409754e-220),\n",
        " (344, 6.6669548283507015e-220),\n",
        " (202, 8.6146367441743606e-221),\n",
        " (46, 7.6904236050439625e-221),\n",
        " (135, 6.7865308352775133e-221),\n",
        " (407, 5.6224456169079558e-221),\n",
        " (432, 5.5538744576575356e-221),\n",
        " (297, 3.8408034364848108e-221),\n",
        " (126, 1.9204960631072691e-221),\n",
        " (400, 9.6147202663671535e-222),\n",
        " (239, 4.0430860401477926e-222),\n",
        " (240, 4.0430860401477926e-222),\n",
        " (164, 5.3949246694275685e-223),\n",
        " (290, 8.7012627129309616e-225),\n",
        " (191, 7.743150136350465e-225),\n",
        " (327, 5.5309582567535995e-225),\n",
        " (288, 1.0593109319357284e-225),\n",
        " (418, 8.6655627725091253e-227),\n",
        " (422, 3.6117327375915147e-227),\n",
        " (314, 3.0479726966844464e-227),\n",
        " (95, 1.0370083646266747e-285),\n",
        " (104, 8.9439931534572287e-286),\n",
        " (106, 6.9114810881760924e-286),\n",
        " (38, 6.9114592692019281e-286),\n",
        " (41, 6.9112399342521761e-286),\n",
        " (289, 4.6058896147625348e-286),\n",
        " (291, 4.6058896147625348e-286),\n",
        " (159, 4.6058663064593541e-286),\n",
        " (454, 4.6057243035835979e-286),\n",
        " (1, 4.6055749052020605e-286),\n",
        " (382, 4.6055302824261945e-286),\n",
        " (466, 4.6055058100663607e-286),\n",
        " (281, 3.7099173803165709e-286),\n",
        " (467, 3.4543023171533851e-286),\n",
        " (471, 3.4543023171533851e-286),\n",
        " (166, 3.4542834646821996e-286),\n",
        " (213, 2.7318704039984439e-286),\n",
        " (118, 2.5908650794433973e-286),\n",
        " (338, 2.590742368976316e-286),\n",
        " (328, 2.3020637538953892e-286),\n",
        " (211, 2.0489043428641312e-286),\n",
        " (82, 2.0456064360959147e-286),\n",
        " (323, 2.0456036805799245e-286),\n",
        " (26, 2.0452043801841447e-286),\n",
        " (448, 1.7265437728473044e-286),\n",
        " (462, 1.363232333673111e-286),\n",
        " (103, 8.0858686131650837e-287),\n",
        " (345, 6.05446377713759e-287),\n",
        " (457, 5.3881639363053232e-287),\n",
        " (214, 3.5909400736596599e-287),\n",
        " (371, 3.5909263894445019e-287),\n",
        " (102, 2.6887360318402604e-287),\n",
        " (134, 2.3932842201419969e-287),\n",
        " (476, 2.3929094600320209e-287),\n",
        " (89, 2.0163250994518978e-287),\n",
        " (449, 1.9155280025692703e-287),\n",
        " (67, 1.7921184412621e-287),\n",
        " (322, 1.7920626651776481e-287),\n",
        " (395, 1.5948580679642485e-287),\n",
        " (262, 1.1937711632130918e-287),\n",
        " (473, 1.0626540983958897e-287),\n",
        " (176, 7.9550449889613417e-288),\n",
        " (439, 5.3026903707367959e-288),\n",
        " (183, 2.8824571796598254e-288),\n",
        " (31, 2.6509225736561145e-288),\n",
        " (20, 2.3554537429106219e-288),\n",
        " (319, 9.9360109959727766e-289),\n",
        " (21, 9.3091002175184662e-289),\n",
        " (92, 9.3091002175184662e-289),\n",
        " (401, 4.7163448276783276e-289),\n",
        " (403, 4.7163448276783276e-289),\n",
        " (461, 3.0960258325477747e-289),\n",
        " (97, 2.0632712597005485e-289),\n",
        " (70, 1.3749501009435351e-289),\n",
        " (434, 1.1782137881308318e-289),\n",
        " (199, 9.1621069752926388e-290),\n",
        " (357, 5.4355591724256489e-290),\n",
        " (472, 4.5800741563162235e-290),\n",
        " (86, 1.6087692245906231e-290),\n",
        " (59, 5.1616753415461531e-291),\n",
        " (62, 5.1616753415461531e-291),\n",
        " (282, 3.0137803542795119e-291),\n",
        " (384, 5.2725620103223906e-292),\n",
        " (353, 8.2289293596348593e-293),\n",
        " (58, 5.3796370598625646e-293),\n",
        " (187, 2.4932902412305619e-296),\n",
        " (389, 1.6819850226273243e-300),\n",
        " (11, 8.2028474878632642e-301),\n",
        " (0, 0.0),\n",
        " (2, 0.0),\n",
        " (4, 0.0),\n",
        " (6, 0.0),\n",
        " (8, 0.0),\n",
        " (12, 0.0),\n",
        " (13, 0.0),\n",
        " (14, 0.0),\n",
        " (15, 0.0),\n",
        " (16, 0.0),\n",
        " (17, 0.0),\n",
        " (18, 0.0),\n",
        " (19, 0.0),\n",
        " (22, 0.0),\n",
        " (23, 0.0),\n",
        " (24, 0.0),\n",
        " (25, 0.0),\n",
        " (27, 0.0),\n",
        " (30, 0.0),\n",
        " (35, 0.0),\n",
        " (36, 0.0),\n",
        " (42, 0.0),\n",
        " (43, 0.0),\n",
        " (44, 0.0),\n",
        " (45, 0.0),\n",
        " (48, 0.0),\n",
        " (49, 0.0),\n",
        " (50, 0.0),\n",
        " (51, 0.0),\n",
        " (52, 0.0),\n",
        " (53, 0.0),\n",
        " (57, 0.0),\n",
        " (60, 0.0),\n",
        " (61, 0.0),\n",
        " (63, 0.0),\n",
        " (64, 0.0),\n",
        " (65, 0.0),\n",
        " (69, 0.0),\n",
        " (71, 0.0),\n",
        " (72, 0.0),\n",
        " (74, 0.0),\n",
        " (76, 0.0),\n",
        " (77, 0.0),\n",
        " (78, 0.0),\n",
        " (79, 0.0),\n",
        " (80, 0.0),\n",
        " (81, 0.0),\n",
        " (83, 0.0),\n",
        " (84, 0.0),\n",
        " (85, 0.0),\n",
        " (87, 0.0),\n",
        " (91, 0.0),\n",
        " (93, 0.0),\n",
        " (96, 0.0),\n",
        " (99, 0.0),\n",
        " (100, 0.0),\n",
        " (109, 0.0),\n",
        " (110, 0.0),\n",
        " (111, 0.0),\n",
        " (112, 0.0),\n",
        " (114, 0.0),\n",
        " (116, 0.0),\n",
        " (117, 0.0),\n",
        " (119, 0.0),\n",
        " (120, 0.0),\n",
        " (121, 0.0),\n",
        " (122, 0.0),\n",
        " (123, 0.0),\n",
        " (124, 0.0),\n",
        " (125, 0.0),\n",
        " (127, 0.0),\n",
        " (128, 0.0),\n",
        " (130, 0.0),\n",
        " (131, 0.0),\n",
        " (132, 0.0),\n",
        " (136, 0.0),\n",
        " (138, 0.0),\n",
        " (142, 0.0),\n",
        " (143, 0.0),\n",
        " (144, 0.0),\n",
        " (145, 0.0),\n",
        " (146, 0.0),\n",
        " (147, 0.0),\n",
        " (151, 0.0),\n",
        " (152, 0.0),\n",
        " (154, 0.0),\n",
        " (155, 0.0),\n",
        " (157, 0.0),\n",
        " (160, 0.0),\n",
        " (161, 0.0),\n",
        " (170, 0.0),\n",
        " (171, 0.0),\n",
        " (172, 0.0),\n",
        " (173, 0.0),\n",
        " (174, 0.0),\n",
        " (175, 0.0),\n",
        " (177, 0.0),\n",
        " (180, 0.0),\n",
        " (181, 0.0),\n",
        " (182, 0.0),\n",
        " (184, 0.0),\n",
        " (186, 0.0),\n",
        " (189, 0.0),\n",
        " (190, 0.0),\n",
        " (192, 0.0),\n",
        " (195, 0.0),\n",
        " (196, 0.0),\n",
        " (197, 0.0),\n",
        " (198, 0.0),\n",
        " (201, 0.0),\n",
        " (203, 0.0),\n",
        " (205, 0.0),\n",
        " (210, 0.0),\n",
        " (215, 0.0),\n",
        " (221, 0.0),\n",
        " (222, 0.0),\n",
        " (223, 0.0),\n",
        " (224, 0.0),\n",
        " (230, 0.0),\n",
        " (243, 0.0),\n",
        " (245, 0.0),\n",
        " (248, 0.0),\n",
        " (253, 0.0),\n",
        " (263, 0.0),\n",
        " (264, 0.0),\n",
        " (266, 0.0),\n",
        " (269, 0.0),\n",
        " (272, 0.0),\n",
        " (274, 0.0),\n",
        " (280, 0.0),\n",
        " (283, 0.0),\n",
        " (286, 0.0),\n",
        " (287, 0.0),\n",
        " (292, 0.0),\n",
        " (294, 0.0),\n",
        " (301, 0.0),\n",
        " (302, 0.0),\n",
        " (313, 0.0),\n",
        " (320, 0.0),\n",
        " (324, 0.0),\n",
        " (326, 0.0),\n",
        " (334, 0.0),\n",
        " (337, 0.0),\n",
        " (339, 0.0),\n",
        " (342, 0.0),\n",
        " (346, 0.0),\n",
        " (354, 0.0),\n",
        " (355, 0.0),\n",
        " (358, 0.0),\n",
        " (362, 0.0),\n",
        " (363, 0.0),\n",
        " (364, 0.0),\n",
        " (365, 0.0),\n",
        " (376, 0.0),\n",
        " (378, 0.0),\n",
        " (380, 0.0),\n",
        " (383, 0.0),\n",
        " (386, 0.0),\n",
        " (387, 0.0),\n",
        " (388, 0.0),\n",
        " (391, 0.0),\n",
        " (392, 0.0),\n",
        " (399, 0.0),\n",
        " (406, 0.0),\n",
        " (409, 0.0),\n",
        " (410, 0.0),\n",
        " (411, 0.0),\n",
        " (414, 0.0),\n",
        " (419, 0.0),\n",
        " (425, 0.0),\n",
        " (427, 0.0),\n",
        " (428, 0.0),\n",
        " (438, 0.0),\n",
        " (441, 0.0),\n",
        " (443, 0.0),\n",
        " (444, 0.0),\n",
        " (446, 0.0),\n",
        " (453, 0.0),\n",
        " (459, 0.0),\n",
        " (463, 0.0),\n",
        " (470, 0.0)]"
       ]
      }
     ],
     "prompt_number": 194
    },
    {
     "cell_type": "code",
     "collapsed": false,
     "input": [
      "def mrr_by_score(Y, Yscores):\n",
      "    recipr_ranks = []\n",
      "    for i in range(np.size(Y, axis=0)):\n",
      "        pathj_by_score = [k[0] for k in sorted(enumerate(Yscores[i]), key=lambda k: k[1], reverse=True)]\n",
      "        n_j = 0\n",
      "        rank = None\n",
      "        for j in pathj_by_score:\n",
      "            if Y[i][j] == 1:\n",
      "                rank = n_j+1\n",
      "                break\n",
      "            n_j += 1\n",
      "        if rank is not None:\n",
      "            recipr_ranks.append(1/float(rank))\n",
      "        else:\n",
      "            # we are interested in MRR just for questions that *have* a solution\n",
      "            pass\n",
      "            #recipr_ranks.append(0)\n",
      "    return np.mean(recipr_ranks)"
     ],
     "language": "python",
     "metadata": {},
     "outputs": [],
     "prompt_number": 219
    },
    {
     "cell_type": "code",
     "collapsed": false,
     "input": [
      "mrr_by_score(vdevtest.Y, cfier_bnb.predict_proba(vdevtest.X))"
     ],
     "language": "python",
     "metadata": {},
     "outputs": [
      {
       "metadata": {},
       "output_type": "pyout",
       "prompt_number": 206,
       "text": [
        "0.29208947456327145"
       ]
      }
     ],
     "prompt_number": 206
    },
    {
     "cell_type": "code",
     "collapsed": false,
     "input": [
      "def cfier_score(cfier, vset, scorer):\n",
      "    \"\"\" scorer -> lambda (cfier, X): cfier.predict_proba(X) \"\"\"\n",
      "    skl_score = cfier.score(vset.X.toarray(), vset.Y)\n",
      "    \n",
      "    # XXX: Matched paths might/could be weighted by their nMatches too...\n",
      "\n",
      "    # Measure prediction performance\n",
      "    Ypred = cfier.predict(vset.X.toarray())\n",
      "    n_q = float(np.size(vset.Y, axis=0))\n",
      "    # number of questions where all correct paths have been recalled\n",
      "    recall_all = np.sum(np.sum(vset.Y, axis=1) == np.sum(Ypred * vset.Y, axis=1)) / n_q\n",
      "    # number of questions where at least one correct path has been recalled\n",
      "    recall_any = np.sum((np.sum(vset.Y, axis=1) != 0) == (np.sum(Ypred * vset.Y, axis=1) != 0)) / n_q\n",
      "    # number of *PATHS* (not q.) that were correct\n",
      "    precision = np.sum((Ypred + vset.Y) == 2) / float(np.sum(Ypred))\n",
      "\n",
      "    # Measure scoring performance\n",
      "    Yscores = scorer(cfier, vset.X.toarray())\n",
      "    # MRR of first correct path\n",
      "    mrr = mrr_by_score(vset.Y, Yscores)\n",
      "    # number of questions where at least one correct path has been recalled in top N paths\n",
      "    # TODO\n",
      "    \n",
      "    return {'qRecallAll': recall_all, 'qRecallAny': recall_any, 'pPrec': precision, 'qScoreMRR': mrr}"
     ],
     "language": "python",
     "metadata": {},
     "outputs": [],
     "prompt_number": 249
    },
    {
     "cell_type": "markdown",
     "metadata": {},
     "source": [
      "## Probability Models"
     ]
    },
    {
     "cell_type": "code",
     "collapsed": false,
     "input": [
      "def check_q(cfier, v, d, i):\n",
      "    probs = cfier.predict_proba(v.X.toarray()[i])[0]\n",
      "    top_probs = sorted(enumerate(probs), key=lambda k: k[1], reverse=True)\n",
      "    top_lprobs = ['%s: %.3f' % (v.Ydict.classes_[k[0]], k[1]) for k in top_probs[:5]]\n",
      "    return '<li><b>%s</b><br><b>in:</b> %s<br><b>out:</b> %s<br><b>outp:</b> %s<br><b>gold:</b> %s</li>' % (\n",
      "        d[i]['qText'],\n",
      "        ', '.join(sorted(v.Xdict.inverse_transform(v.X[i])[0].keys(), key=lambda s: reversed(s))),\n",
      "        ', '.join(v.Ydict.inverse_transform(cfier.predict(v.X.toarray()[i]))[0]),\n",
      "        ', '.join(top_lprobs),\n",
      "        ', '.join(v.Ydict.inverse_transform(np.array([v.Y[i]]))[0]))\n",
      "\n",
      "def score_table(cfier, scorer):\n",
      "    stable = '<tr><th>dataset</th><th>qRecallAny</th><th>qRecallAll</th><th>pPrec</th><th>pScoreMRR</th></tr>'\n",
      "    for s, sname in [(vtrain, 'train'), (vval, 'val'), (vdevtest, 'devtest')]:\n",
      "        score = cfier_score(cfier, s, scorer)\n",
      "        stable += '<tr><td>%s</td><td>%.3f</td><td>%.3f</td><td>%.3f</td><td>%.3f</td></tr>' % (\n",
      "                sname, score['qRecallAny'], score['qRecallAll'], score['pPrec'], score['qScoreMRR'])\n",
      "    return stable\n",
      "\n",
      "def demo_model(cfier):\n",
      "    stable = score_table(cfier, lambda cfier, X: cfier.predict_proba(X))\n",
      "    display(HTML('<table>'+stable+'</table>'))\n",
      "    display(HTML('<ul>'))\n",
      "    for i in range(10):\n",
      "        display(HTML(check_q(cfier, vdevtest, devtest, i)))\n",
      "    display(HTML('</ul>'))"
     ],
     "language": "python",
     "metadata": {},
     "outputs": [],
     "prompt_number": 259
    },
    {
     "cell_type": "code",
     "collapsed": false,
     "input": [
      "from sklearn.naive_bayes import BernoulliNB\n",
      "cfier_bnb = OneVsRestClassifier(BernoulliNB(fit_prior=False), n_jobs=4)\n",
      "pprint(cfier_bnb.fit(vtrain.X, vtrain.Y))\n",
      "demo_model(cfier_bnb)"
     ],
     "language": "python",
     "metadata": {},
     "outputs": [
      {
       "output_type": "stream",
       "stream": "stdout",
       "text": [
        "OneVsRestClassifier(estimator=BernoulliNB(alpha=1.0, binarize=0.0, class_prior=None, fit_prior=False),\n",
        "          n_jobs=4)\n"
       ]
      },
      {
       "html": [
        "<table><tr><th>dataset</th><th>qRecallAny</th><th>qRecallAll</th><th>pPrec</th><th>pScoreMRR</th></tr><tr><td>train</td><td>0.242</td><td>0.204</td><td>0.312</td><td>0.349</td></tr><tr><td>val</td><td>0.250</td><td>0.220</td><td>0.313</td><td>0.309</td></tr><tr><td>devtest</td><td>0.265</td><td>0.233</td><td>0.485</td><td>0.337</td></tr></table>"
       ],
       "metadata": {},
       "output_type": "display_data",
       "text": [
        "<IPython.core.display.HTML at 0x7f801f7d6c90>"
       ]
      },
      {
       "html": [
        "<ul>"
       ],
       "metadata": {},
       "output_type": "display_data",
       "text": [
        "<IPython.core.display.HTML at 0x7f801e801c10>"
       ]
      },
      {
       "html": [
        "<li><b>what is the name of justin bieber brother?</b><br><b>in:</b> lat/religious person/WordnetLAT, lat/associate/WordnetLAT, lat/friend/WordnetLAT, lat/member/WordnetLAT, lat/relative/WordnetLAT, lat/peer/WordnetLAT, lat/brother/LAT, lat/monk/WordnetLAT, lat/male sibling/WordnetLAT, lat/religious/WordnetLAT, lat/kinsman/WordnetLAT, lat/person/WordnetLAT<br><b>out:</b> <br><b>outp:</b> /people/person/profession: 0.000, /people/person/spouse_s|/people/marriage/spouse: 0.000, /location/location/containedby: 0.000, /people/person/place_of_birth: 0.000, /people/person/places_lived|/people/place_lived/location: 0.000<br><b>gold:</b> /people/person/sibling_s|/people/sibling_relationship/sibling</li>"
       ],
       "metadata": {},
       "output_type": "display_data",
       "text": [
        "<IPython.core.display.HTML at 0x7f801e8016d0>"
       ]
      },
      {
       "html": [
        "<li><b>where to fly into bali?</b><br><b>in:</b> sv=fly, lat/location/QuestionWordLAT<br><b>out:</b> <br><b>outp:</b> /location/location/containedby: 0.000, /people/person/places_lived|/people/place_lived/location: 0.000, /people/person/place_of_birth: 0.000, /people/person/education|/education/education/institution: 0.000, /people/person/profession: 0.000<br><b>gold:</b> </li>"
       ],
       "metadata": {},
       "output_type": "display_data",
       "text": [
        "<IPython.core.display.HTML at 0x7f801e801350>"
       ]
      },
      {
       "html": [
        "<li><b>what is cher's son's name?</b><br><b>in:</b> lat/relative/WordnetLAT, lat/cognition/WordnetLAT, lat/Godhead/WordnetLAT, lat/male offspring/WordnetLAT, lat/content/WordnetLAT, lat/belief/WordnetLAT, lat/offspring/WordnetLAT, lat/male/WordnetLAT, lat/God/WordnetLAT, lat/person/WordnetLAT, lat/son/LAT, lat/child/WordnetLAT, lat/spiritual being/WordnetLAT, lat/hypostasis/WordnetLAT<br><b>out:</b> <br><b>outp:</b> /people/person/spouse_s|/people/marriage/spouse: 0.000, /location/location/containedby: 0.000, /people/person/profession: 0.000, /people/person/education|/education/education/institution: 0.000, /people/person/place_of_birth: 0.000<br><b>gold:</b> /people/person/children</li>"
       ],
       "metadata": {},
       "output_type": "display_data",
       "text": [
        "<IPython.core.display.HTML at 0x7f801e8014d0>"
       ]
      },
      {
       "html": [
        "<li><b>what countries do people speak portuguese?</b><br><b>in:</b> lat/administrative district/WordnetLAT, lat/unit/WordnetLAT, lat/people/WordnetLAT, lat/organization/WordnetLAT, lat/group/WordnetLAT, lat/social group/WordnetLAT, lat/district/WordnetLAT, lat/region/WordnetLAT, lat/location/WordnetLAT, lat/political unit/WordnetLAT, lat/country/ImplicitQLAT, sv=speak, lat/geographical area/WordnetLAT, lat/countries/LAT<br><b>out:</b> <br><b>outp:</b> /location/location/containedby: 0.000, /location/location/contains: 0.000, /people/person/places_lived|/people/place_lived/location: 0.000, /location/location/adjoin_s|/location/adjoining_relationship/adjoins: 0.000, /people/person/place_of_birth: 0.000<br><b>gold:</b> /language/human_language/countries_spoken_in, /language/human_language/main_country</li>"
       ],
       "metadata": {},
       "output_type": "display_data",
       "text": [
        "<IPython.core.display.HTML at 0x7f801e801210>"
       ]
      },
      {
       "html": [
        "<li><b>who was vincent van gogh inspired by?</b><br><b>in:</b> sv=inspired<br><b>out:</b> <br><b>outp:</b> /location/location/containedby: 0.000, /people/person/places_lived|/people/place_lived/location: 0.000, /people/person/place_of_birth: 0.000, /people/person/education|/education/education/institution: 0.000, /people/person/profession: 0.000<br><b>gold:</b> /influence/influence_node/influenced_by</li>"
       ],
       "metadata": {},
       "output_type": "display_data",
       "text": [
        "<IPython.core.display.HTML at 0x7f801e801050>"
       ]
      },
      {
       "html": [
        "<li><b>when will oscar pistorius compete?</b><br><b>in:</b> sv=compete, lat/time/QuestionWordLAT, lat/date/QuestionWordLAT<br><b>out:</b> <br><b>outp:</b> /location/location/containedby: 0.000, /people/person/places_lived|/people/place_lived/location: 0.000, /people/person/profession: 0.000, /people/person/place_of_birth: 0.000, /people/person/education|/education/education/institution: 0.000<br><b>gold:</b> </li>"
       ],
       "metadata": {},
       "output_type": "display_data",
       "text": [
        "<IPython.core.display.HTML at 0x7f801e8010d0>"
       ]
      },
      {
       "html": [
        "<li><b>who plays meg in family guy?</b><br><b>in:</b> lat/person/QuestionWordLAT, sv=plays<br><b>out:</b> <br><b>outp:</b> /location/location/containedby: 0.000, /people/person/places_lived|/people/place_lived/location: 0.000, /people/person/profession: 0.000, /people/person/education|/education/education/institution: 0.000, /people/person/place_of_birth: 0.000<br><b>gold:</b> /cvg/game_character/games|/cvg/game_performance/voice_actor, /film/film_character/portrayed_in_films|/film/performance/actor, /tv/tv_character/appeared_in_tv_episodes|/tv/tv_guest_role/actor, /tv/tv_character/appeared_in_tv_program|/tv/regular_tv_appearance/actor</li>"
       ],
       "metadata": {},
       "output_type": "display_data",
       "text": [
        "<IPython.core.display.HTML at 0x7f7ff4102a10>"
       ]
      },
      {
       "html": [
        "<li><b>what stadium did the chicago cardinals play in?</b><br><b>in:</b> lat/artifact/WordnetLAT, lat/stadium/LAT, sv=play, lat/structure/WordnetLAT<br><b>out:</b> <br><b>outp:</b> /people/person/education|/education/education/institution: 0.000, /location/location/containedby: 0.000, /people/person/profession: 0.000, /sports/pro_athlete/teams|/sports/sports_team_roster/team: 0.000, /people/person/places_lived|/people/place_lived/location: 0.000<br><b>gold:</b> /sports/sports_team/arena_stadium, /sports/sports_team/venue|/sports/team_venue_relationship/venue</li>"
       ],
       "metadata": {},
       "output_type": "display_data",
       "text": [
        "<IPython.core.display.HTML at 0x7f7ff4102e50>"
       ]
      },
      {
       "html": [
        "<li><b>who was the apostle paul considered to be?</b><br><b>in:</b> lat/attitude/WordnetLAT, sv=considered, lat/position/WordnetLAT, lat/cognition/WordnetLAT, lat/orientation/WordnetLAT<br><b>out:</b> <br><b>outp:</b> /location/location/containedby: 0.000, /people/person/places_lived|/people/place_lived/location: 0.000, /people/person/education|/education/education/institution: 0.000, /people/person/profession: 0.000, /people/person/place_of_birth: 0.000<br><b>gold:</b> </li>"
       ],
       "metadata": {},
       "output_type": "display_data",
       "text": [
        "<IPython.core.display.HTML at 0x7f7ff4102dd0>"
       ]
      },
      {
       "html": [
        "<li><b>which countries are part of the united kingdom?</b><br><b>in:</b> lat/people/WordnetLAT, lat/countries/LAT, lat/district/WordnetLAT, lat/location/WordnetLAT, lat/geographical area/WordnetLAT, lat/region/WordnetLAT, lat/organization/WordnetLAT, lat/unit/WordnetLAT, lat/country/ImplicitQLAT, lat/administrative district/WordnetLAT, lat/social group/WordnetLAT, lat/group/WordnetLAT, lat/political unit/WordnetLAT<br><b>out:</b> <br><b>outp:</b> /location/location/containedby: 0.000, /location/location/contains: 0.000, /people/person/places_lived|/people/place_lived/location: 0.000, /people/person/place_of_birth: 0.000, /location/location/adjoin_s|/location/adjoining_relationship/adjoins: 0.000<br><b>gold:</b> /location/location/containedby</li>"
       ],
       "metadata": {},
       "output_type": "display_data",
       "text": [
        "<IPython.core.display.HTML at 0x7f7ff41029d0>"
       ]
      },
      {
       "html": [
        "</ul>"
       ],
       "metadata": {},
       "output_type": "display_data",
       "text": [
        "<IPython.core.display.HTML at 0x7f801e801710>"
       ]
      }
     ],
     "prompt_number": 260
    },
    {
     "cell_type": "code",
     "collapsed": false,
     "input": [
      "from sklearn.naive_bayes import MultinomialNB\n",
      "cfier_mnb = OneVsRestClassifier(MultinomialNB(), n_jobs=4)\n",
      "pprint(cfier_mnb.fit(vtrain.X, vtrain.Y))\n",
      "demo_model(cfier_mnb)"
     ],
     "language": "python",
     "metadata": {},
     "outputs": [
      {
       "output_type": "stream",
       "stream": "stdout",
       "text": [
        "OneVsRestClassifier(estimator=MultinomialNB(alpha=1.0, class_prior=None, fit_prior=True),\n",
        "          n_jobs=4)\n"
       ]
      },
      {
       "html": [
        "<table><tr><th>dataset</th><th>qRecallAny</th><th>qRecallAll</th><th>pPrec</th><th>pScoreMRR</th></tr><tr><td>train</td><td>0.468</td><td>0.396</td><td>0.210</td><td>0.659</td></tr><tr><td>val</td><td>0.364</td><td>0.291</td><td>0.454</td><td>0.529</td></tr><tr><td>devtest</td><td>0.397</td><td>0.354</td><td>0.521</td><td>0.557</td></tr></table>"
       ],
       "metadata": {},
       "output_type": "display_data",
       "text": [
        "<IPython.core.display.HTML at 0x7f8020628250>"
       ]
      },
      {
       "html": [
        "<ul>"
       ],
       "metadata": {},
       "output_type": "display_data",
       "text": [
        "<IPython.core.display.HTML at 0x7f801e993d90>"
       ]
      },
      {
       "html": [
        "<li><b>what is the name of justin bieber brother?</b><br><b>in:</b> lat/peer/WordnetLAT, lat/relative/WordnetLAT, lat/associate/WordnetLAT, lat/member/WordnetLAT, lat/monk/WordnetLAT, lat/brother/LAT, lat/religious/WordnetLAT, lat/religious person/WordnetLAT, lat/male sibling/WordnetLAT, lat/friend/WordnetLAT, lat/kinsman/WordnetLAT, lat/person/WordnetLAT<br><b>out:</b> /fictional_universe/fictional_character/romantically_involved_with|/fictional_universe/romantic_involvement/partner, /fictional_universe/fictional_character/siblings|/fictional_universe/sibling_relationship_of_fictional_characters/siblings, /people/person/sibling_s|/people/sibling_relationship/sibling<br><b>outp:</b> /people/person/sibling_s|/people/sibling_relationship/sibling: 1.000, /fictional_universe/fictional_character/siblings|/fictional_universe/sibling_relationship_of_fictional_characters/siblings: 0.990, /fictional_universe/fictional_character/romantically_involved_with|/fictional_universe/romantic_involvement/partner: 0.715, /people/person/spouse_s|/people/marriage/spouse: 0.482, /people/person/parents: 0.247<br><b>gold:</b> /people/person/sibling_s|/people/sibling_relationship/sibling</li>"
       ],
       "metadata": {},
       "output_type": "display_data",
       "text": [
        "<IPython.core.display.HTML at 0x7f801ea13e50>"
       ]
      },
      {
       "html": [
        "<li><b>where to fly into bali?</b><br><b>in:</b> sv=fly, lat/location/QuestionWordLAT<br><b>out:</b> <br><b>outp:</b> /location/location/containedby: 0.044, /people/person/places_lived|/people/place_lived/location: 0.036, /people/person/place_of_birth: 0.030, /people/person/education|/education/education/institution: 0.020, /location/location/contains: 0.008<br><b>gold:</b> </li>"
       ],
       "metadata": {},
       "output_type": "display_data",
       "text": [
        "<IPython.core.display.HTML at 0x7f801ea13950>"
       ]
      },
      {
       "html": [
        "<li><b>what is cher's son's name?</b><br><b>in:</b> lat/God/WordnetLAT, lat/person/WordnetLAT, lat/relative/WordnetLAT, lat/offspring/WordnetLAT, lat/male/WordnetLAT, lat/belief/WordnetLAT, lat/male offspring/WordnetLAT, lat/content/WordnetLAT, lat/cognition/WordnetLAT, lat/Godhead/WordnetLAT, lat/son/LAT, lat/child/WordnetLAT, lat/spiritual being/WordnetLAT, lat/hypostasis/WordnetLAT<br><b>out:</b> /people/person/children<br><b>outp:</b> /people/person/children: 0.999, /people/person/parents: 0.221, /people/person/sibling_s|/people/sibling_relationship/sibling: 0.061, /people/person/spouse_s|/people/marriage/spouse: 0.027, /people/deceased_person/cause_of_death: 0.001<br><b>gold:</b> /people/person/children</li>"
       ],
       "metadata": {},
       "output_type": "display_data",
       "text": [
        "<IPython.core.display.HTML at 0x7f801ea13c50>"
       ]
      },
      {
       "html": [
        "<li><b>what countries do people speak portuguese?</b><br><b>in:</b> lat/political unit/WordnetLAT, lat/country/ImplicitQLAT, lat/administrative district/WordnetLAT, lat/unit/WordnetLAT, lat/people/WordnetLAT, lat/organization/WordnetLAT, lat/group/WordnetLAT, lat/social group/WordnetLAT, lat/district/WordnetLAT, lat/region/WordnetLAT, lat/location/WordnetLAT, sv=speak, lat/geographical area/WordnetLAT, lat/countries/LAT<br><b>out:</b> <br><b>outp:</b> /location/location/adjoin_s|/location/adjoining_relationship/adjoins: 0.203, /location/location/contains: 0.000, /people/person/nationality: 0.000, /location/statistical_region/places_exported_to|/location/imports_and_exports/exported_to: 0.000, /language/human_language/countries_spoken_in: 0.000<br><b>gold:</b> /language/human_language/countries_spoken_in, /language/human_language/main_country</li>"
       ],
       "metadata": {},
       "output_type": "display_data",
       "text": [
        "<IPython.core.display.HTML at 0x7f801ea13850>"
       ]
      },
      {
       "html": [
        "<li><b>who was vincent van gogh inspired by?</b><br><b>in:</b> sv=inspired<br><b>out:</b> <br><b>outp:</b> /influence/influence_node/influenced_by: 0.114, /location/location/containedby: 0.058, /people/person/places_lived|/people/place_lived/location: 0.044, /people/person/education|/education/education/institution: 0.042, /people/person/place_of_birth: 0.041<br><b>gold:</b> /influence/influence_node/influenced_by</li>"
       ],
       "metadata": {},
       "output_type": "display_data",
       "text": [
        "<IPython.core.display.HTML at 0x7f801ea13290>"
       ]
      },
      {
       "html": [
        "<li><b>when will oscar pistorius compete?</b><br><b>in:</b> sv=compete, lat/time/QuestionWordLAT, lat/date/QuestionWordLAT<br><b>out:</b> <br><b>outp:</b> /sports/sports_team/championships: 0.161, /location/location/contains: 0.004, /book/book_subject/works: 0.003, /location/location/events: 0.002, /location/location/containedby: 0.002<br><b>gold:</b> </li>"
       ],
       "metadata": {},
       "output_type": "display_data",
       "text": [
        "<IPython.core.display.HTML at 0x7f801ea13810>"
       ]
      },
      {
       "html": [
        "<li><b>who plays meg in family guy?</b><br><b>in:</b> sv=plays, lat/person/QuestionWordLAT<br><b>out:</b> <br><b>outp:</b> /tv/tv_character/appeared_in_tv_program|/tv/regular_tv_appearance/actor: 0.362, /film/film_character/portrayed_in_films|/film/performance/actor: 0.350, /tv/tv_character/appeared_in_tv_episodes|/tv/tv_guest_role/actor: 0.008, /film/film/starring|/film/performance/actor: 0.006, /government/governmental_jurisdiction/governing_officials|/government/government_position_held/office_holder: 0.002<br><b>gold:</b> /cvg/game_character/games|/cvg/game_performance/voice_actor, /film/film_character/portrayed_in_films|/film/performance/actor, /tv/tv_character/appeared_in_tv_episodes|/tv/tv_guest_role/actor, /tv/tv_character/appeared_in_tv_program|/tv/regular_tv_appearance/actor</li>"
       ],
       "metadata": {},
       "output_type": "display_data",
       "text": [
        "<IPython.core.display.HTML at 0x7f801e993f50>"
       ]
      },
      {
       "html": [
        "<li><b>what stadium did the chicago cardinals play in?</b><br><b>in:</b> sv=play, lat/artifact/WordnetLAT, lat/stadium/LAT, lat/structure/WordnetLAT<br><b>out:</b> <br><b>outp:</b> /people/person/education|/education/education/institution: 0.111, /sports/pro_athlete/teams|/sports/sports_team_roster/team: 0.027, /film/actor/film|/film/performance/film: 0.023, /award/award_nominee/award_nominations|/award/award_nomination/nominated_for: 0.006, /award/award_winner/awards_won|/award/award_honor/honored_for: 0.004<br><b>gold:</b> /sports/sports_team/arena_stadium, /sports/sports_team/venue|/sports/team_venue_relationship/venue</li>"
       ],
       "metadata": {},
       "output_type": "display_data",
       "text": [
        "<IPython.core.display.HTML at 0x7f801e993b90>"
       ]
      },
      {
       "html": [
        "<li><b>who was the apostle paul considered to be?</b><br><b>in:</b> lat/position/WordnetLAT, lat/attitude/WordnetLAT, sv=considered, lat/cognition/WordnetLAT, lat/orientation/WordnetLAT<br><b>out:</b> <br><b>outp:</b> /travel/travel_destination/tourist_attractions: 0.103, /common/topic/notable_for: 0.051, /location/country/languages_spoken: 0.021, /location/country/official_language: 0.019, /government/politician/government_positions_held|/government/government_position_held/office_position_or_title: 0.014<br><b>gold:</b> </li>"
       ],
       "metadata": {},
       "output_type": "display_data",
       "text": [
        "<IPython.core.display.HTML at 0x7f7ff417ff90>"
       ]
      },
      {
       "html": [
        "<li><b>which countries are part of the united kingdom?</b><br><b>in:</b> lat/political unit/WordnetLAT, lat/country/ImplicitQLAT, lat/administrative district/WordnetLAT, lat/people/WordnetLAT, lat/district/WordnetLAT, lat/location/WordnetLAT, lat/countries/LAT, lat/geographical area/WordnetLAT, lat/region/WordnetLAT, lat/unit/WordnetLAT, lat/organization/WordnetLAT, lat/group/WordnetLAT, lat/social group/WordnetLAT<br><b>out:</b> /location/location/adjoin_s|/location/adjoining_relationship/adjoins<br><b>outp:</b> /location/location/adjoin_s|/location/adjoining_relationship/adjoins: 0.687, /location/location/contains: 0.004, /people/person/nationality: 0.002, /location/statistical_region/places_exported_to|/location/imports_and_exports/exported_to: 0.000, /location/location/containedby: 0.000<br><b>gold:</b> /location/location/containedby</li>"
       ],
       "metadata": {},
       "output_type": "display_data",
       "text": [
        "<IPython.core.display.HTML at 0x7f7ff417ff50>"
       ]
      },
      {
       "html": [
        "</ul>"
       ],
       "metadata": {},
       "output_type": "display_data",
       "text": [
        "<IPython.core.display.HTML at 0x7f801e993c10>"
       ]
      }
     ],
     "prompt_number": 253
    },
    {
     "cell_type": "code",
     "collapsed": false,
     "input": [
      "from sklearn.naive_bayes import GaussianNB\n",
      "cfier_gnb = OneVsRestClassifier(GaussianNB(), n_jobs=4)\n",
      "pprint(cfier_gnb.fit(vtrain.X.toarray(), vtrain.Y))\n",
      "demo_model(cfier_gnb)"
     ],
     "language": "python",
     "metadata": {},
     "outputs": [
      {
       "output_type": "stream",
       "stream": "stdout",
       "text": [
        "OneVsRestClassifier(estimator=GaussianNB(), n_jobs=4)\n"
       ]
      },
      {
       "ename": "KeyboardInterrupt",
       "evalue": "",
       "output_type": "pyerr",
       "traceback": [
        "\u001b[0;31m---------------------------------------------------------------------------\u001b[0m\n\u001b[0;31mKeyboardInterrupt\u001b[0m                         Traceback (most recent call last)",
        "\u001b[0;32m<ipython-input-256-0d27179e6cb5>\u001b[0m in \u001b[0;36m<module>\u001b[0;34m()\u001b[0m\n\u001b[1;32m      2\u001b[0m \u001b[0mcfier_gnb\u001b[0m \u001b[0;34m=\u001b[0m \u001b[0mOneVsRestClassifier\u001b[0m\u001b[0;34m(\u001b[0m\u001b[0mGaussianNB\u001b[0m\u001b[0;34m(\u001b[0m\u001b[0;34m)\u001b[0m\u001b[0;34m,\u001b[0m \u001b[0mn_jobs\u001b[0m\u001b[0;34m=\u001b[0m\u001b[0;36m4\u001b[0m\u001b[0;34m)\u001b[0m\u001b[0;34m\u001b[0m\u001b[0m\n\u001b[1;32m      3\u001b[0m \u001b[0mpprint\u001b[0m\u001b[0;34m(\u001b[0m\u001b[0mcfier_gnb\u001b[0m\u001b[0;34m.\u001b[0m\u001b[0mfit\u001b[0m\u001b[0;34m(\u001b[0m\u001b[0mvtrain\u001b[0m\u001b[0;34m.\u001b[0m\u001b[0mX\u001b[0m\u001b[0;34m.\u001b[0m\u001b[0mtoarray\u001b[0m\u001b[0;34m(\u001b[0m\u001b[0;34m)\u001b[0m\u001b[0;34m,\u001b[0m \u001b[0mvtrain\u001b[0m\u001b[0;34m.\u001b[0m\u001b[0mY\u001b[0m\u001b[0;34m)\u001b[0m\u001b[0;34m)\u001b[0m\u001b[0;34m\u001b[0m\u001b[0m\n\u001b[0;32m----> 4\u001b[0;31m \u001b[0mdemo_model\u001b[0m\u001b[0;34m(\u001b[0m\u001b[0mcfier_gnb\u001b[0m\u001b[0;34m)\u001b[0m\u001b[0;34m\u001b[0m\u001b[0m\n\u001b[0m",
        "\u001b[0;32m<ipython-input-255-0adde9d59df6>\u001b[0m in \u001b[0;36mdemo_model\u001b[0;34m(cfier)\u001b[0m\n\u001b[1;32m     19\u001b[0m \u001b[0;34m\u001b[0m\u001b[0m\n\u001b[1;32m     20\u001b[0m \u001b[0;32mdef\u001b[0m \u001b[0mdemo_model\u001b[0m\u001b[0;34m(\u001b[0m\u001b[0mcfier\u001b[0m\u001b[0;34m)\u001b[0m\u001b[0;34m:\u001b[0m\u001b[0;34m\u001b[0m\u001b[0m\n\u001b[0;32m---> 21\u001b[0;31m     \u001b[0mstable\u001b[0m \u001b[0;34m=\u001b[0m \u001b[0mscore_table\u001b[0m\u001b[0;34m(\u001b[0m\u001b[0mcfier\u001b[0m\u001b[0;34m,\u001b[0m \u001b[0;32mlambda\u001b[0m \u001b[0mcfier\u001b[0m\u001b[0;34m,\u001b[0m \u001b[0mX\u001b[0m\u001b[0;34m:\u001b[0m \u001b[0mcfier\u001b[0m\u001b[0;34m.\u001b[0m\u001b[0mpredict_proba\u001b[0m\u001b[0;34m(\u001b[0m\u001b[0mX\u001b[0m\u001b[0;34m.\u001b[0m\u001b[0mtoarray\u001b[0m\u001b[0;34m(\u001b[0m\u001b[0;34m)\u001b[0m\u001b[0;34m)\u001b[0m\u001b[0;34m)\u001b[0m\u001b[0;34m\u001b[0m\u001b[0m\n\u001b[0m\u001b[1;32m     22\u001b[0m     \u001b[0mdisplay\u001b[0m\u001b[0;34m(\u001b[0m\u001b[0mHTML\u001b[0m\u001b[0;34m(\u001b[0m\u001b[0;34m'<table>'\u001b[0m\u001b[0;34m+\u001b[0m\u001b[0mstable\u001b[0m\u001b[0;34m+\u001b[0m\u001b[0;34m'</table>'\u001b[0m\u001b[0;34m)\u001b[0m\u001b[0;34m)\u001b[0m\u001b[0;34m\u001b[0m\u001b[0m\n\u001b[1;32m     23\u001b[0m     \u001b[0mdisplay\u001b[0m\u001b[0;34m(\u001b[0m\u001b[0mHTML\u001b[0m\u001b[0;34m(\u001b[0m\u001b[0;34m'<ul>'\u001b[0m\u001b[0;34m)\u001b[0m\u001b[0;34m)\u001b[0m\u001b[0;34m\u001b[0m\u001b[0m\n",
        "\u001b[0;32m<ipython-input-255-0adde9d59df6>\u001b[0m in \u001b[0;36mscore_table\u001b[0;34m(cfier, scorer)\u001b[0m\n\u001b[1;32m     13\u001b[0m     \u001b[0mstable\u001b[0m \u001b[0;34m=\u001b[0m \u001b[0;34m'<tr><th>dataset</th><th>qRecallAny</th><th>qRecallAll</th><th>pPrec</th><th>pScoreMRR</th></tr>'\u001b[0m\u001b[0;34m\u001b[0m\u001b[0m\n\u001b[1;32m     14\u001b[0m     \u001b[0;32mfor\u001b[0m \u001b[0ms\u001b[0m\u001b[0;34m,\u001b[0m \u001b[0msname\u001b[0m \u001b[0;32min\u001b[0m \u001b[0;34m[\u001b[0m\u001b[0;34m(\u001b[0m\u001b[0mvtrain\u001b[0m\u001b[0;34m,\u001b[0m \u001b[0;34m'train'\u001b[0m\u001b[0;34m)\u001b[0m\u001b[0;34m,\u001b[0m \u001b[0;34m(\u001b[0m\u001b[0mvval\u001b[0m\u001b[0;34m,\u001b[0m \u001b[0;34m'val'\u001b[0m\u001b[0;34m)\u001b[0m\u001b[0;34m,\u001b[0m \u001b[0;34m(\u001b[0m\u001b[0mvdevtest\u001b[0m\u001b[0;34m,\u001b[0m \u001b[0;34m'devtest'\u001b[0m\u001b[0;34m)\u001b[0m\u001b[0;34m]\u001b[0m\u001b[0;34m:\u001b[0m\u001b[0;34m\u001b[0m\u001b[0m\n\u001b[0;32m---> 15\u001b[0;31m         \u001b[0mscore\u001b[0m \u001b[0;34m=\u001b[0m \u001b[0mcfier_score\u001b[0m\u001b[0;34m(\u001b[0m\u001b[0mcfier\u001b[0m\u001b[0;34m,\u001b[0m \u001b[0ms\u001b[0m\u001b[0;34m,\u001b[0m \u001b[0mscorer\u001b[0m\u001b[0;34m)\u001b[0m\u001b[0;34m\u001b[0m\u001b[0m\n\u001b[0m\u001b[1;32m     16\u001b[0m         stable += '<tr><td>%s</td><td>%.3f</td><td>%.3f</td><td>%.3f</td><td>%.3f</td></tr>' % (\n\u001b[1;32m     17\u001b[0m                 sname, score['qRecallAny'], score['qRecallAll'], score['pPrec'], score['qScoreMRR'])\n",
        "\u001b[0;32m<ipython-input-249-3bb5fba6bd2b>\u001b[0m in \u001b[0;36mcfier_score\u001b[0;34m(cfier, vset, scorer)\u001b[0m\n\u001b[1;32m      6\u001b[0m \u001b[0;34m\u001b[0m\u001b[0m\n\u001b[1;32m      7\u001b[0m     \u001b[0;31m# Measure prediction performance\u001b[0m\u001b[0;34m\u001b[0m\u001b[0;34m\u001b[0m\u001b[0m\n\u001b[0;32m----> 8\u001b[0;31m     \u001b[0mYpred\u001b[0m \u001b[0;34m=\u001b[0m \u001b[0mcfier\u001b[0m\u001b[0;34m.\u001b[0m\u001b[0mpredict\u001b[0m\u001b[0;34m(\u001b[0m\u001b[0mvset\u001b[0m\u001b[0;34m.\u001b[0m\u001b[0mX\u001b[0m\u001b[0;34m.\u001b[0m\u001b[0mtoarray\u001b[0m\u001b[0;34m(\u001b[0m\u001b[0;34m)\u001b[0m\u001b[0;34m)\u001b[0m\u001b[0;34m\u001b[0m\u001b[0m\n\u001b[0m\u001b[1;32m      9\u001b[0m     \u001b[0mn_q\u001b[0m \u001b[0;34m=\u001b[0m \u001b[0mfloat\u001b[0m\u001b[0;34m(\u001b[0m\u001b[0mnp\u001b[0m\u001b[0;34m.\u001b[0m\u001b[0msize\u001b[0m\u001b[0;34m(\u001b[0m\u001b[0mvset\u001b[0m\u001b[0;34m.\u001b[0m\u001b[0mY\u001b[0m\u001b[0;34m,\u001b[0m \u001b[0maxis\u001b[0m\u001b[0;34m=\u001b[0m\u001b[0;36m0\u001b[0m\u001b[0;34m)\u001b[0m\u001b[0;34m)\u001b[0m\u001b[0;34m\u001b[0m\u001b[0m\n\u001b[1;32m     10\u001b[0m     \u001b[0;31m# number of questions where all correct paths have been recalled\u001b[0m\u001b[0;34m\u001b[0m\u001b[0;34m\u001b[0m\u001b[0m\n",
        "\u001b[0;32m/usr/lib/python2.7/dist-packages/sklearn/multiclass.pyc\u001b[0m in \u001b[0;36mpredict\u001b[0;34m(self, X)\u001b[0m\n\u001b[1;32m    319\u001b[0m             \u001b[0mindptr\u001b[0m \u001b[0;34m=\u001b[0m \u001b[0marray\u001b[0m\u001b[0;34m.\u001b[0m\u001b[0marray\u001b[0m\u001b[0;34m(\u001b[0m\u001b[0;34m'i'\u001b[0m\u001b[0;34m,\u001b[0m \u001b[0;34m[\u001b[0m\u001b[0;36m0\u001b[0m\u001b[0;34m]\u001b[0m\u001b[0;34m)\u001b[0m\u001b[0;34m\u001b[0m\u001b[0m\n\u001b[1;32m    320\u001b[0m             \u001b[0;32mfor\u001b[0m \u001b[0me\u001b[0m \u001b[0;32min\u001b[0m \u001b[0mself\u001b[0m\u001b[0;34m.\u001b[0m\u001b[0mestimators_\u001b[0m\u001b[0;34m:\u001b[0m\u001b[0;34m\u001b[0m\u001b[0m\n\u001b[0;32m--> 321\u001b[0;31m                 \u001b[0mindices\u001b[0m\u001b[0;34m.\u001b[0m\u001b[0mextend\u001b[0m\u001b[0;34m(\u001b[0m\u001b[0mnp\u001b[0m\u001b[0;34m.\u001b[0m\u001b[0mwhere\u001b[0m\u001b[0;34m(\u001b[0m\u001b[0m_predict_binary\u001b[0m\u001b[0;34m(\u001b[0m\u001b[0me\u001b[0m\u001b[0;34m,\u001b[0m \u001b[0mX\u001b[0m\u001b[0;34m)\u001b[0m \u001b[0;34m>\u001b[0m \u001b[0mthresh\u001b[0m\u001b[0;34m)\u001b[0m\u001b[0;34m[\u001b[0m\u001b[0;36m0\u001b[0m\u001b[0;34m]\u001b[0m\u001b[0;34m)\u001b[0m\u001b[0;34m\u001b[0m\u001b[0m\n\u001b[0m\u001b[1;32m    322\u001b[0m                 \u001b[0mindptr\u001b[0m\u001b[0;34m.\u001b[0m\u001b[0mappend\u001b[0m\u001b[0;34m(\u001b[0m\u001b[0mlen\u001b[0m\u001b[0;34m(\u001b[0m\u001b[0mindices\u001b[0m\u001b[0;34m)\u001b[0m\u001b[0;34m)\u001b[0m\u001b[0;34m\u001b[0m\u001b[0m\n\u001b[1;32m    323\u001b[0m             \u001b[0mdata\u001b[0m \u001b[0;34m=\u001b[0m \u001b[0mnp\u001b[0m\u001b[0;34m.\u001b[0m\u001b[0mones\u001b[0m\u001b[0;34m(\u001b[0m\u001b[0mlen\u001b[0m\u001b[0;34m(\u001b[0m\u001b[0mindices\u001b[0m\u001b[0;34m)\u001b[0m\u001b[0;34m,\u001b[0m \u001b[0mdtype\u001b[0m\u001b[0;34m=\u001b[0m\u001b[0mint\u001b[0m\u001b[0;34m)\u001b[0m\u001b[0;34m\u001b[0m\u001b[0m\n",
        "\u001b[0;32m/usr/lib/python2.7/dist-packages/sklearn/multiclass.pyc\u001b[0m in \u001b[0;36m_predict_binary\u001b[0;34m(estimator, X)\u001b[0m\n\u001b[1;32m     82\u001b[0m     \u001b[0;32mexcept\u001b[0m \u001b[0;34m(\u001b[0m\u001b[0mAttributeError\u001b[0m\u001b[0;34m,\u001b[0m \u001b[0mNotImplementedError\u001b[0m\u001b[0;34m)\u001b[0m\u001b[0;34m:\u001b[0m\u001b[0;34m\u001b[0m\u001b[0m\n\u001b[1;32m     83\u001b[0m         \u001b[0;31m# probabilities of the positive class\u001b[0m\u001b[0;34m\u001b[0m\u001b[0;34m\u001b[0m\u001b[0m\n\u001b[0;32m---> 84\u001b[0;31m         \u001b[0mscore\u001b[0m \u001b[0;34m=\u001b[0m \u001b[0mestimator\u001b[0m\u001b[0;34m.\u001b[0m\u001b[0mpredict_proba\u001b[0m\u001b[0;34m(\u001b[0m\u001b[0mX\u001b[0m\u001b[0;34m)\u001b[0m\u001b[0;34m[\u001b[0m\u001b[0;34m:\u001b[0m\u001b[0;34m,\u001b[0m \u001b[0;36m1\u001b[0m\u001b[0;34m]\u001b[0m\u001b[0;34m\u001b[0m\u001b[0m\n\u001b[0m\u001b[1;32m     85\u001b[0m     \u001b[0;32mreturn\u001b[0m \u001b[0mscore\u001b[0m\u001b[0;34m\u001b[0m\u001b[0m\n\u001b[1;32m     86\u001b[0m \u001b[0;34m\u001b[0m\u001b[0m\n",
        "\u001b[0;32m/usr/lib/python2.7/dist-packages/sklearn/naive_bayes.pyc\u001b[0m in \u001b[0;36mpredict_proba\u001b[0;34m(self, X)\u001b[0m\n\u001b[1;32m    100\u001b[0m             \u001b[0morder\u001b[0m\u001b[0;34m,\u001b[0m \u001b[0;32mas\u001b[0m \u001b[0mthey\u001b[0m \u001b[0mappear\u001b[0m \u001b[0;32min\u001b[0m \u001b[0mthe\u001b[0m \u001b[0mattribute\u001b[0m \u001b[0;34m`\u001b[0m\u001b[0mclasses_\u001b[0m\u001b[0;34m`\u001b[0m\u001b[0;34m.\u001b[0m\u001b[0;34m\u001b[0m\u001b[0m\n\u001b[1;32m    101\u001b[0m         \"\"\"\n\u001b[0;32m--> 102\u001b[0;31m         \u001b[0;32mreturn\u001b[0m \u001b[0mnp\u001b[0m\u001b[0;34m.\u001b[0m\u001b[0mexp\u001b[0m\u001b[0;34m(\u001b[0m\u001b[0mself\u001b[0m\u001b[0;34m.\u001b[0m\u001b[0mpredict_log_proba\u001b[0m\u001b[0;34m(\u001b[0m\u001b[0mX\u001b[0m\u001b[0;34m)\u001b[0m\u001b[0;34m)\u001b[0m\u001b[0;34m\u001b[0m\u001b[0m\n\u001b[0m\u001b[1;32m    103\u001b[0m \u001b[0;34m\u001b[0m\u001b[0m\n\u001b[1;32m    104\u001b[0m \u001b[0;34m\u001b[0m\u001b[0m\n",
        "\u001b[0;32m/usr/lib/python2.7/dist-packages/sklearn/naive_bayes.pyc\u001b[0m in \u001b[0;36mpredict_log_proba\u001b[0;34m(self, X)\u001b[0m\n\u001b[1;32m     80\u001b[0m             \u001b[0morder\u001b[0m\u001b[0;34m,\u001b[0m \u001b[0;32mas\u001b[0m \u001b[0mthey\u001b[0m \u001b[0mappear\u001b[0m \u001b[0;32min\u001b[0m \u001b[0mthe\u001b[0m \u001b[0mattribute\u001b[0m \u001b[0;34m`\u001b[0m\u001b[0mclasses_\u001b[0m\u001b[0;34m`\u001b[0m\u001b[0;34m.\u001b[0m\u001b[0;34m\u001b[0m\u001b[0m\n\u001b[1;32m     81\u001b[0m         \"\"\"\n\u001b[0;32m---> 82\u001b[0;31m         \u001b[0mjll\u001b[0m \u001b[0;34m=\u001b[0m \u001b[0mself\u001b[0m\u001b[0;34m.\u001b[0m\u001b[0m_joint_log_likelihood\u001b[0m\u001b[0;34m(\u001b[0m\u001b[0mX\u001b[0m\u001b[0;34m)\u001b[0m\u001b[0;34m\u001b[0m\u001b[0m\n\u001b[0m\u001b[1;32m     83\u001b[0m         \u001b[0;31m# normalize by P(x) = P(f_1, ..., f_n)\u001b[0m\u001b[0;34m\u001b[0m\u001b[0;34m\u001b[0m\u001b[0m\n\u001b[1;32m     84\u001b[0m         \u001b[0mlog_prob_x\u001b[0m \u001b[0;34m=\u001b[0m \u001b[0mlogsumexp\u001b[0m\u001b[0;34m(\u001b[0m\u001b[0mjll\u001b[0m\u001b[0;34m,\u001b[0m \u001b[0maxis\u001b[0m\u001b[0;34m=\u001b[0m\u001b[0;36m1\u001b[0m\u001b[0;34m)\u001b[0m\u001b[0;34m\u001b[0m\u001b[0m\n",
        "\u001b[0;32m/usr/lib/python2.7/dist-packages/sklearn/naive_bayes.pyc\u001b[0m in \u001b[0;36m_joint_log_likelihood\u001b[0;34m(self, X)\u001b[0m\n\u001b[1;32m    342\u001b[0m             \u001b[0mn_ij\u001b[0m \u001b[0;34m=\u001b[0m \u001b[0;34m-\u001b[0m \u001b[0;36m0.5\u001b[0m \u001b[0;34m*\u001b[0m \u001b[0mnp\u001b[0m\u001b[0;34m.\u001b[0m\u001b[0msum\u001b[0m\u001b[0;34m(\u001b[0m\u001b[0mnp\u001b[0m\u001b[0;34m.\u001b[0m\u001b[0mlog\u001b[0m\u001b[0;34m(\u001b[0m\u001b[0;36m2.\u001b[0m \u001b[0;34m*\u001b[0m \u001b[0mnp\u001b[0m\u001b[0;34m.\u001b[0m\u001b[0mpi\u001b[0m \u001b[0;34m*\u001b[0m \u001b[0mself\u001b[0m\u001b[0;34m.\u001b[0m\u001b[0msigma_\u001b[0m\u001b[0;34m[\u001b[0m\u001b[0mi\u001b[0m\u001b[0;34m,\u001b[0m \u001b[0;34m:\u001b[0m\u001b[0;34m]\u001b[0m\u001b[0;34m)\u001b[0m\u001b[0;34m)\u001b[0m\u001b[0;34m\u001b[0m\u001b[0m\n\u001b[1;32m    343\u001b[0m             n_ij -= 0.5 * np.sum(((X - self.theta_[i, :]) ** 2) /\n\u001b[0;32m--> 344\u001b[0;31m                                  (self.sigma_[i, :]), 1)\n\u001b[0m\u001b[1;32m    345\u001b[0m             \u001b[0mjoint_log_likelihood\u001b[0m\u001b[0;34m.\u001b[0m\u001b[0mappend\u001b[0m\u001b[0;34m(\u001b[0m\u001b[0mjointi\u001b[0m \u001b[0;34m+\u001b[0m \u001b[0mn_ij\u001b[0m\u001b[0;34m)\u001b[0m\u001b[0;34m\u001b[0m\u001b[0m\n\u001b[1;32m    346\u001b[0m \u001b[0;34m\u001b[0m\u001b[0m\n",
        "\u001b[0;31mKeyboardInterrupt\u001b[0m: "
       ]
      }
     ],
     "prompt_number": 256
    },
    {
     "cell_type": "code",
     "collapsed": false,
     "input": [
      "from sklearn.linear_model import LogisticRegression\n",
      "cfier_log = OneVsRestClassifier(LogisticRegression(class_weight='auto'), n_jobs=4)\n",
      "pprint(cfier_log.fit(vtrain.X, vtrain.Y))\n",
      "demo_model(cfier_log)"
     ],
     "language": "python",
     "metadata": {},
     "outputs": [
      {
       "output_type": "stream",
       "stream": "stdout",
       "text": [
        "OneVsRestClassifier(estimator=LogisticRegression(C=1.0, class_weight='auto', dual=False, fit_intercept=True,\n",
        "          intercept_scaling=1, max_iter=100, multi_class='ovr',\n",
        "          penalty='l2', random_state=None, solver='liblinear', tol=0.0001,\n",
        "          verbose=0),\n",
        "          n_jobs=4)\n"
       ]
      },
      {
       "html": [
        "<table><tr><th>dataset</th><th>qRecallAny</th><th>qRecallAll</th><th>pPrec</th><th>pScoreMRR</th></tr><tr><td>train</td><td>0.977</td><td>0.968</td><td>0.052</td><td>0.761</td></tr><tr><td>val</td><td>0.777</td><td>0.719</td><td>0.034</td><td>0.527</td></tr><tr><td>devtest</td><td>0.788</td><td>0.735</td><td>0.036</td><td>0.605</td></tr></table>"
       ],
       "metadata": {},
       "output_type": "display_data",
       "text": [
        "<IPython.core.display.HTML at 0x7f802177e0d0>"
       ]
      },
      {
       "html": [
        "<ul>"
       ],
       "metadata": {},
       "output_type": "display_data",
       "text": [
        "<IPython.core.display.HTML at 0x7f80200684d0>"
       ]
      },
      {
       "html": [
        "<li><b>what is the name of justin bieber brother?</b><br><b>in:</b> lat/peer/WordnetLAT, lat/relative/WordnetLAT, lat/associate/WordnetLAT, lat/brother/LAT, lat/monk/WordnetLAT, lat/religious/WordnetLAT, lat/male sibling/WordnetLAT, lat/kinsman/WordnetLAT, lat/person/WordnetLAT, lat/member/WordnetLAT, lat/friend/WordnetLAT, lat/religious person/WordnetLAT<br><b>out:</b> /celebrities/celebrity/celebrity_friends|/celebrities/friendship/friend, /comic_books/comic_book_series/publisher, /fictional_universe/fictional_character/romantically_involved_with|/fictional_universe/romantic_involvement/partner, /fictional_universe/fictional_character/siblings|/fictional_universe/sibling_relationship_of_fictional_characters/siblings, /people/person/children, /people/person/sibling_s|/people/sibling_relationship/sibling, /religion/religious_organization/leaders|/religion/religious_organization_leadership/role<br><b>outp:</b> /people/person/sibling_s|/people/sibling_relationship/sibling: 0.952, /fictional_universe/fictional_character/siblings|/fictional_universe/sibling_relationship_of_fictional_characters/siblings: 0.876, /fictional_universe/fictional_character/romantically_involved_with|/fictional_universe/romantic_involvement/partner: 0.872, /celebrities/celebrity/celebrity_friends|/celebrities/friendship/friend: 0.664, /religion/religious_organization/leaders|/religion/religious_organization_leadership/role: 0.531<br><b>gold:</b> /people/person/sibling_s|/people/sibling_relationship/sibling</li>"
       ],
       "metadata": {},
       "output_type": "display_data",
       "text": [
        "<IPython.core.display.HTML at 0x7f8021785c90>"
       ]
      },
      {
       "html": [
        "<li><b>where to fly into bali?</b><br><b>in:</b> sv=fly, lat/location/QuestionWordLAT<br><b>out:</b> /american_football/football_coach/current_team_head_coached, /american_football/football_player/passing|/american_football/player_passing_statistics/team, /amusement_parks/park/location, /architecture/architect/structures_designed, /aviation/airline/airports_served|/aviation/airline_airport_presence/airport, /aviation/airport/serves, /award/hall_of_fame/address|/location/mailing_address/citytown, /biology/animal_breed/place_of_origin, /book/book_subject/works, /broadcast/content/location, /business/employer/employees|/business/employment_tenure/title, /business/shopping_center/address|/location/mailing_address/citytown, /education/honorary_degree_recipient/honorary_degrees|/education/honorary_degree/institution, /exhibitions/exhibition_subject/exhibitions_created_about_this_subject, /fictional_universe/fictional_character/place_of_birth, /fictional_universe/fictional_character/places_lived, /fictional_universe/fictional_language/where_spoken, /film/film_location/featured_in_films, /geography/island/island_group, /geography/mountain/mountain_range, /geography/river/basin_countries, /geography/river/cities, /geography/river/mouth, /geography/river/origin, /language/human_language/countries_spoken_in, /language/human_language/main_country, /language/human_language/writing_system, /location/administrative_division/country, /location/administrative_division/first_level_division_of, /location/capital_of_administrative_division/capital_of|/location/administrative_division_capital_relationship/administrative_division, /location/country/capital, /location/hud_county_place/county, /location/hud_county_place/place, /location/location/containedby, /location/location/street_address|/location/mailing_address/citytown, /location/neighborhood/neighborhood_of, /location/us_county/county_seat, /martial_arts/martial_artist/martial_art, /military/military_conflict/locations, /music/artist/origin, /organization/organization/headquarters|/location/mailing_address/citytown, /organization/organization/headquarters|/location/mailing_address/country, /organization/organization/headquarters|/location/mailing_address/state_province_region, /organization/organization/phone_number|/common/phone_number/service_location, /organization/organization/place_founded, /people/deceased_person/place_of_burial, /people/deceased_person/place_of_death, /people/ethnicity/geographic_distribution, /people/ethnicity/included_in_group, /people/person/nationality, /people/person/place_of_birth, /people/person/places_lived|/people/place_lived/location, /people/person/spouse_s|/people/marriage/location_of_ceremony, /religion/religion/founding_figures, /religion/religious_organization/jurisdictions, /time/event/locations, /travel/tourist_attraction/near_travel_destination, /travel/travel_destination/local_transportation, /tv/tv_program/country_of_origin, /type/object/name, /visual_art/art_subject/artwork_on_the_subject<br><b>outp:</b> /organization/organization/headquarters|/location/mailing_address/citytown: 0.753, /type/object/name: 0.720, /organization/organization/place_founded: 0.713, /aviation/airline/airports_served|/aviation/airline_airport_presence/airport: 0.693, /music/artist/origin: 0.691<br><b>gold:</b> </li>"
       ],
       "metadata": {},
       "output_type": "display_data",
       "text": [
        "<IPython.core.display.HTML at 0x7f8021785850>"
       ]
      },
      {
       "html": [
        "<li><b>what is cher's son's name?</b><br><b>in:</b> lat/belief/WordnetLAT, lat/content/WordnetLAT, lat/male offspring/WordnetLAT, lat/male/WordnetLAT, lat/offspring/WordnetLAT, lat/cognition/WordnetLAT, lat/God/WordnetLAT, lat/person/WordnetLAT, lat/relative/WordnetLAT, lat/child/WordnetLAT, lat/spiritual being/WordnetLAT, lat/Godhead/WordnetLAT, lat/son/LAT, lat/hypostasis/WordnetLAT<br><b>out:</b> /fictional_universe/fictional_character/married_to|/fictional_universe/marriage_of_fictional_characters/spouses, /fictional_universe/fictional_character/siblings|/fictional_universe/sibling_relationship_of_fictional_characters/siblings, /olympics/olympic_participating_country/athletes|/olympics/olympic_athlete_affiliation/sport, /people/person/children, /people/person/sibling_s|/people/sibling_relationship/sibling, /religion/religion/deities, /sports/sport_country/athletes|/sports/competitor_country_relationship/sports<br><b>outp:</b> /people/person/children: 0.951, /people/person/sibling_s|/people/sibling_relationship/sibling: 0.900, /fictional_universe/fictional_character/siblings|/fictional_universe/sibling_relationship_of_fictional_characters/siblings: 0.595, /fictional_universe/fictional_character/married_to|/fictional_universe/marriage_of_fictional_characters/spouses: 0.557, /religion/religion/deities: 0.517<br><b>gold:</b> /people/person/children</li>"
       ],
       "metadata": {},
       "output_type": "display_data",
       "text": [
        "<IPython.core.display.HTML at 0x7f80217859d0>"
       ]
      },
      {
       "html": [
        "<li><b>what countries do people speak portuguese?</b><br><b>in:</b> lat/political unit/WordnetLAT, lat/country/ImplicitQLAT, lat/administrative district/WordnetLAT, lat/unit/WordnetLAT, lat/organization/WordnetLAT, lat/group/WordnetLAT, lat/social group/WordnetLAT, lat/district/WordnetLAT, lat/people/WordnetLAT, lat/location/WordnetLAT, lat/region/WordnetLAT, sv=speak, lat/countries/LAT, lat/geographical area/WordnetLAT<br><b>out:</b> /aviation/airline/airports_served|/aviation/airline_airport_presence/cities_served, /geography/river/basin_countries, /government/governmental_jurisdiction/governing_officials|/government/government_position_held/district_represented, /government/political_appointer/appointees|/government/government_position_held/jurisdiction_of_office, /government/politician/government_positions_held|/government/government_position_held/jurisdiction_of_office, /language/human_language/countries_spoken_in, /language/human_language/main_country, /location/administrative_division/country, /location/administrative_division/second_level_division_of, /location/country/administrative_divisions, /location/country/first_level_divisions, /location/location/adjoin_s|/location/adjoining_relationship/adjoins, /location/location/contains, /location/location/contains_major_portion_of, /location/location/partially_contained_by|/location/partial_containment_relationship/partially_contained_by, /location/location/partially_containedby, /location/location/partially_contains, /location/location/partiallycontains|/location/partial_containment_relationship/partially_contains, /location/location/street_address|/location/mailing_address/country, /location/location/street_address|/location/mailing_address/state_province_region, /location/statistical_region/places_exported_to|/location/imports_and_exports/exported_to, /location/statistical_region/places_imported_from|/location/imports_and_exports/imported_from, /military/military_combatant/casualties|/military/casualties/combatant, /military/military_combatant/force_deployments|/military/force_strength/combatant, /military/military_combatant/includes_allies, /military/military_combatant/military_conflicts|/military/military_combatant_group/combatants, /military/military_commander/military_commands|/military/military_command/military_combatant, /organization/membership_organization/members|/organization/organization_membership/member, /organization/organization/founders, /organization/organization/headquarters|/location/mailing_address/country, /organization/organization_member/member_of|/organization/organization_membership/organization, /people/person/nationality, /royalty/monarch/kingdom, /royalty/noble_person/titles|/royalty/noble_title_tenure/noble_title, /time/time_zone/locations_in_this_time_zone, /travel/tourist_attraction/near_travel_destination, /travel/transport_terminus/travel_destinations_served|/travel/transportation/travel_destination<br><b>outp:</b> /language/human_language/countries_spoken_in: 0.944, /language/human_language/main_country: 0.928, /location/location/adjoin_s|/location/adjoining_relationship/adjoins: 0.920, /location/statistical_region/places_exported_to|/location/imports_and_exports/exported_to: 0.909, /location/location/contains_major_portion_of: 0.909<br><b>gold:</b> /language/human_language/countries_spoken_in, /language/human_language/main_country</li>"
       ],
       "metadata": {},
       "output_type": "display_data",
       "text": [
        "<IPython.core.display.HTML at 0x7f8021785750>"
       ]
      },
      {
       "html": [
        "<li><b>who was vincent van gogh inspired by?</b><br><b>in:</b> sv=inspired<br><b>out:</b> /influence/influence_node/influenced, /influence/influence_node/influenced_by<br><b>outp:</b> /influence/influence_node/influenced_by: 0.773, /influence/influence_node/influenced: 0.613, /influence/influence_node/peers|/influence/peer_relationship/peers: 0.499, /sports/sports_team/previously_known_as: 0.489, /people/person/profession: 0.487<br><b>gold:</b> /influence/influence_node/influenced_by</li>"
       ],
       "metadata": {},
       "output_type": "display_data",
       "text": [
        "<IPython.core.display.HTML at 0x7f802093c350>"
       ]
      },
      {
       "html": [
        "<li><b>when will oscar pistorius compete?</b><br><b>in:</b> lat/time/QuestionWordLAT, sv=compete, lat/date/QuestionWordLAT<br><b>out:</b> /american_football/football_player/games|/american_football/player_game_statistics/season, /american_football/football_player/passing|/american_football/player_passing_statistics/season, /american_football/football_player/rushing|/american_football/player_rushing_statistics/season, /award/award_nominated_work/award_nominations|/award/award_nomination/year, /award/award_nominee/award_nominations|/award/award_nomination/notes_description, /award/award_nominee/award_nominations|/award/award_nomination/year, /award/award_winner/awards_won|/award/award_honor/notes_description, /award/award_winning_work/awards_won|/award/award_honor/year, /baseball/baseball_player/batting_stats|/baseball/batting_statistics/season, /basketball/basketball_player/player_statistics|/basketball/basketball_player_stats/season, /biology/organism_classification/organisms_of_this_type, /book/book_subject/works, /business/brand/owner_s|/business/company_brand_relationship/company, /business/employer/employees|/business/employment_tenure/from, /business/employer/employees|/business/employment_tenure/person, /event/public_speaker/speeches_or_presentations|/event/speech_or_presentation/speech_topic, /fictional_universe/fictional_setting/fictional_characters_born_here, /film/film_character/portrayed_in_films|/film/performance/film, /film/film_subject/films, /government/governmental_body/members|/government/government_position_held/appointed_by, /government/politician/election_campaigns, /government/us_president/vice_president, /government/us_vice_president/to_president, /language/human_language/writing_system, /location/country/internet_tld, /location/dated_location/date_founded, /location/location/events, /media_common/quotation_subject/quotations_about_this_subject, /meteorology/tropical_cyclone/tropical_cyclone_season, /military/military_combatant/casualties|/military/casualties/military_conflict, /military/military_combatant/force_deployments|/military/force_strength/military_conflict, /music/group_member/membership|/music/group_membership/end, /olympics/olympic_athlete/country|/olympics/olympic_athlete_affiliation/sport, /olympics/olympic_participating_country/athletes|/olympics/olympic_athlete_affiliation/athlete, /olympics/olympic_participating_country/medals_won|/olympics/olympic_medal_honor/medalist, /organization/organization/advisors, /organization/organization_member/member_of|/organization/organization_membership/organization, /organization/organization_scope/organizations_with_this_scope, /people/person/employment_history|/business/employment_tenure/to, /religion/deity/deity_of, /religion/religion/founding_figures, /sports/pro_athlete/sports_played_professionally|/sports/pro_sports_played/sport, /sports/sports_award_winner/awards|/sports/sports_award/season, /sports/sports_team/championships, /sports/sports_team/founded, /sports/sports_team/season_record|/sports/sports_team_season_record/season, /symbols/name_source/namesakes, /time/holiday/day_of_year, /time/recurring_event/current_frequency, /time/recurring_event/instances, /travel/travel_destination/climate|/travel/travel_destination_monthly_climate/month, /tv/tv_actor/guest_roles|/tv/tv_guest_role/episodes_appeared_in, /tv/tv_character/appeared_in_tv_program|/tv/regular_tv_appearance/seasons, /tv/tv_program/country_of_origin<br><b>outp:</b> /time/recurring_event/current_frequency: 0.821, /government/us_president/vice_president: 0.755, /sports/sports_team/championships: 0.753, /travel/travel_destination/climate|/travel/travel_destination_monthly_climate/month: 0.748, /location/country/internet_tld: 0.745<br><b>gold:</b> </li>"
       ],
       "metadata": {},
       "output_type": "display_data",
       "text": [
        "<IPython.core.display.HTML at 0x7f802093c3d0>"
       ]
      },
      {
       "html": [
        "<li><b>who plays meg in family guy?</b><br><b>in:</b> lat/person/QuestionWordLAT, sv=plays<br><b>out:</b> /automotive/company/make_s, /award/award_category/winners|/award/award_honor/award_winner, /award/award_nominated_work/award_nominations|/award/award_nomination/award_nominee, /award/award_nominee/award_nominations|/award/award_nomination/award_nominee, /award/award_winning_work/awards_won|/award/award_honor/award_winner, /boats/ship/owners|/boats/ship_ownership/owner, /book/literary_series/author_s, /book/written_work/author, /book/written_work/subjects, /broadcast/content/artist, /business/consumer_company/brands|/business/company_brand_relationship/brand, /business/employer/employees|/business/employment_tenure/person, /cvg/game_character/games|/cvg/game_performance/voice_actor, /fictional_universe/fictional_character/character_created_by, /fictional_universe/fictional_character/parents, /fictional_universe/person_in_fiction/representations_in_fiction, /film/actor/film|/film/performance/special_performance_type, /film/film/other_crew|/film/film_crew_gig/crewmember, /film/film/starring|/film/performance/actor, /film/film/written_by, /film/film_character/portrayed_in_films|/film/performance/actor, /film/person_or_entity_appearing_in_film/films|/film/personal_film_appearance/type_of_appearance, /government/political_appointer/appointees|/government/government_position_held/office_holder, /influence/influence_node/peers|/influence/peer_relationship/peers, /internet/website/owner, /law/invention/inventor, /media_common/dedicator/dedications|/media_common/dedication/dedicated_to, /music/artist/album, /music/musical_group/member|/music/group_membership/member, /organization/organization/board_members|/organization/organization_board_membership/member, /organization/organization/founders, /organization/organization/leadership|/organization/leadership/person, /organization/organization/leadership|/organization/organization/founders, /organization/organization/parent|/organization/organization_relationship/parent, /people/appointee/position|/people/appointment/appointed_by, /sports/mascot/team, /sports/professional_sports_team/owner_s, /sports/sports_award_type/winners|/sports/sports_award/award_winner, /sports/sports_championship_event/champion, /sports/sports_league/teams|/sports/sports_league_participation/team, /symbols/namesake/named_after, /tv/tv_actor/guest_roles|/tv/tv_guest_role/episodes_appeared_in, /tv/tv_actor/starring_roles|/tv/regular_tv_appearance/special_performance_type, /tv/tv_character/appeared_in_tv_episodes|/tv/tv_guest_role/actor, /tv/tv_character/appeared_in_tv_program|/tv/regular_tv_appearance/actor, /tv/tv_program/program_creator, /tv/tv_program/regular_cast|/tv/regular_tv_appearance/actor, /tv/tv_program/tv_producer|/tv/tv_producer_term/producer, /type/object/name<br><b>outp:</b> /tv/tv_character/appeared_in_tv_program|/tv/regular_tv_appearance/actor: 0.944, /film/film_character/portrayed_in_films|/film/performance/actor: 0.938, /tv/tv_character/appeared_in_tv_episodes|/tv/tv_guest_role/actor: 0.887, /film/film/starring|/film/performance/actor: 0.868, /fictional_universe/fictional_character/character_created_by: 0.862<br><b>gold:</b> /cvg/game_character/games|/cvg/game_performance/voice_actor, /film/film_character/portrayed_in_films|/film/performance/actor, /tv/tv_character/appeared_in_tv_episodes|/tv/tv_guest_role/actor, /tv/tv_character/appeared_in_tv_program|/tv/regular_tv_appearance/actor</li>"
       ],
       "metadata": {},
       "output_type": "display_data",
       "text": [
        "<IPython.core.display.HTML at 0x7f802093c2d0>"
       ]
      },
      {
       "html": [
        "<li><b>what stadium did the chicago cardinals play in?</b><br><b>in:</b> lat/artifact/WordnetLAT, lat/structure/WordnetLAT, sv=play, lat/stadium/LAT<br><b>out:</b> /american_football/football_coach/current_team_head_coached, /american_football/football_player/games|/american_football/player_game_statistics/team, /american_football/football_player/passing|/american_football/player_passing_statistics/team, /american_football/football_player/receiving|/american_football/player_receiving_statistics/team, /american_football/football_player/rushing|/american_football/player_rushing_statistics/team, /basketball/basketball_player/position_s, /film/actor/film|/film/performance/character, /soccer/football_player/goals_scored|/soccer/football_goal/point_awarded_to, /soccer/football_player/matches_played|/soccer/football_player_match_participation/team, /soccer/football_player/transfers|/soccer/football_player_transfer/purchasing_team, /sports/pro_athlete/teams|/sports/sports_team_roster/position, /sports/pro_athlete/teams|/sports/sports_team_roster/team, /sports/sports_team/arena_stadium, /sports/sports_team/venue|/sports/team_venue_relationship/venue<br><b>outp:</b> /sports/sports_team/venue|/sports/team_venue_relationship/venue: 0.960, /sports/sports_team/arena_stadium: 0.953, /film/actor/film|/film/performance/character: 0.673, /sports/pro_athlete/teams|/sports/sports_team_roster/team: 0.638, /soccer/football_player/goals_scored|/soccer/football_goal/point_awarded_to: 0.632<br><b>gold:</b> /sports/sports_team/arena_stadium, /sports/sports_team/venue|/sports/team_venue_relationship/venue</li>"
       ],
       "metadata": {},
       "output_type": "display_data",
       "text": [
        "<IPython.core.display.HTML at 0x7f8020787c90>"
       ]
      },
      {
       "html": [
        "<li><b>who was the apostle paul considered to be?</b><br><b>in:</b> lat/orientation/WordnetLAT, sv=considered, lat/attitude/WordnetLAT, lat/cognition/WordnetLAT, lat/position/WordnetLAT<br><b>out:</b> /common/topic/notable_for<br><b>outp:</b> /common/topic/notable_for: 0.513, /common/topic/alias: 0.492, /olympics/olympic_participating_country/athletes|/olympics/olympic_athlete_affiliation/sport: 0.480, /sports/sport_country/athletes|/sports/competitor_country_relationship/sports: 0.480, /geography/geographical_feature/category: 0.467<br><b>gold:</b> </li>"
       ],
       "metadata": {},
       "output_type": "display_data",
       "text": [
        "<IPython.core.display.HTML at 0x7f8020344410>"
       ]
      },
      {
       "html": [
        "<li><b>which countries are part of the united kingdom?</b><br><b>in:</b> lat/unit/WordnetLAT, lat/administrative district/WordnetLAT, lat/group/WordnetLAT, lat/organization/WordnetLAT, lat/political unit/WordnetLAT, lat/country/ImplicitQLAT, lat/people/WordnetLAT, lat/location/WordnetLAT, lat/district/WordnetLAT, lat/social group/WordnetLAT, lat/countries/LAT, lat/region/WordnetLAT, lat/geographical area/WordnetLAT<br><b>out:</b> /aviation/airline/airports_served|/aviation/airline_airport_presence/cities_served, /geography/river/basin_countries, /government/governmental_jurisdiction/governing_officials|/government/government_position_held/district_represented, /government/political_appointer/appointees|/government/government_position_held/jurisdiction_of_office, /government/politician/government_positions_held|/government/government_position_held/jurisdiction_of_office, /language/human_language/countries_spoken_in, /language/human_language/main_country, /location/administrative_division/country, /location/administrative_division/second_level_division_of, /location/country/administrative_divisions, /location/country/first_level_divisions, /location/location/adjoin_s|/location/adjoining_relationship/adjoins, /location/location/contains, /location/location/contains_major_portion_of, /location/location/partially_contained_by|/location/partial_containment_relationship/partially_contained_by, /location/location/partially_containedby, /location/location/partially_contains, /location/location/partiallycontains|/location/partial_containment_relationship/partially_contains, /location/location/street_address|/location/mailing_address/country, /location/location/street_address|/location/mailing_address/state_province_region, /location/statistical_region/places_exported_to|/location/imports_and_exports/exported_to, /location/statistical_region/places_imported_from|/location/imports_and_exports/imported_from, /military/military_combatant/casualties|/military/casualties/combatant, /military/military_combatant/force_deployments|/military/force_strength/combatant, /military/military_combatant/includes_allies, /military/military_combatant/military_conflicts|/military/military_combatant_group/combatants, /military/military_commander/military_commands|/military/military_command/military_combatant, /organization/membership_organization/members|/organization/organization_membership/member, /organization/organization/founders, /organization/organization/headquarters|/location/mailing_address/country, /organization/organization_member/member_of|/organization/organization_membership/organization, /people/person/nationality, /royalty/monarch/kingdom, /royalty/noble_person/titles|/royalty/noble_title_tenure/noble_title, /time/time_zone/locations_in_this_time_zone, /travel/tourist_attraction/near_travel_destination, /travel/transport_terminus/travel_destinations_served|/travel/transportation/travel_destination<br><b>outp:</b> /location/location/adjoin_s|/location/adjoining_relationship/adjoins: 0.940, /location/statistical_region/places_exported_to|/location/imports_and_exports/exported_to: 0.923, /location/location/contains_major_portion_of: 0.913, /location/statistical_region/places_imported_from|/location/imports_and_exports/imported_from: 0.911, /organization/membership_organization/members|/organization/organization_membership/member: 0.907<br><b>gold:</b> /location/location/containedby</li>"
       ],
       "metadata": {},
       "output_type": "display_data",
       "text": [
        "<IPython.core.display.HTML at 0x7f8020891fd0>"
       ]
      },
      {
       "html": [
        "</ul>"
       ],
       "metadata": {},
       "output_type": "display_data",
       "text": [
        "<IPython.core.display.HTML at 0x7f8020013d10>"
       ]
      }
     ],
     "prompt_number": 223
    },
    {
     "cell_type": "code",
     "collapsed": false,
     "input": [
      "from sklearn.linear_model import LogisticRegression\n",
      "cfier_log = OneVsRestClassifier(LogisticRegression(), n_jobs=4)\n",
      "pprint(cfier_log.fit(vtrain.X, vtrain.Y))\n",
      "demo_model(cfier_log)"
     ],
     "language": "python",
     "metadata": {},
     "outputs": [
      {
       "output_type": "stream",
       "stream": "stdout",
       "text": [
        "OneVsRestClassifier(estimator=LogisticRegression(C=1.0, class_weight=None, dual=False, fit_intercept=True,\n",
        "          intercept_scaling=1, max_iter=100, multi_class='ovr',\n",
        "          penalty='l2', random_state=None, solver='liblinear', tol=0.0001,\n",
        "          verbose=0),\n",
        "          n_jobs=4)\n"
       ]
      },
      {
       "html": [
        "<table><tr><th>dataset</th><th>qRecallAny</th><th>qRecallAll</th><th>pPrec</th><th>pScoreMRR</th></tr><tr><td>train</td><td>0.468</td><td>0.376</td><td>0.832</td><td>0.771</td></tr><tr><td>val</td><td>0.375</td><td>0.297</td><td>0.657</td><td>0.580</td></tr><tr><td>devtest</td><td>0.402</td><td>0.349</td><td>0.769</td><td>0.629</td></tr></table>"
       ],
       "metadata": {},
       "output_type": "display_data",
       "text": [
        "<IPython.core.display.HTML at 0x7f8020872550>"
       ]
      },
      {
       "html": [
        "<ul>"
       ],
       "metadata": {},
       "output_type": "display_data",
       "text": [
        "<IPython.core.display.HTML at 0x7f80204ce910>"
       ]
      },
      {
       "html": [
        "<li><b>what is the name of justin bieber brother?</b><br><b>in:</b> lat/kinsman/WordnetLAT, lat/male sibling/WordnetLAT, lat/relative/WordnetLAT, lat/brother/LAT, lat/friend/WordnetLAT, lat/member/WordnetLAT, lat/associate/WordnetLAT, lat/peer/WordnetLAT, lat/religious/WordnetLAT, lat/religious person/WordnetLAT, lat/person/WordnetLAT, lat/monk/WordnetLAT<br><b>out:</b> /people/person/sibling_s|/people/sibling_relationship/sibling<br><b>outp:</b> /people/person/sibling_s|/people/sibling_relationship/sibling: 0.622, /fictional_universe/fictional_character/siblings|/fictional_universe/sibling_relationship_of_fictional_characters/siblings: 0.160, /fictional_universe/fictional_character/romantically_involved_with|/fictional_universe/romantic_involvement/partner: 0.102, /people/person/spouse_s|/people/marriage/spouse: 0.026, /people/person/profession: 0.022<br><b>gold:</b> /people/person/sibling_s|/people/sibling_relationship/sibling</li>"
       ],
       "metadata": {},
       "output_type": "display_data",
       "text": [
        "<IPython.core.display.HTML at 0x7f8048549150>"
       ]
      },
      {
       "html": [
        "<li><b>where to fly into bali?</b><br><b>in:</b> sv=fly, lat/location/QuestionWordLAT<br><b>out:</b> <br><b>outp:</b> /location/location/containedby: 0.122, /people/person/places_lived|/people/place_lived/location: 0.066, /organization/organization/headquarters|/location/mailing_address/citytown: 0.062, /people/person/place_of_birth: 0.062, /type/object/name: 0.040<br><b>gold:</b> </li>"
       ],
       "metadata": {},
       "output_type": "display_data",
       "text": [
        "<IPython.core.display.HTML at 0x7f8020d6ce10>"
       ]
      },
      {
       "html": [
        "<li><b>what is cher's son's name?</b><br><b>in:</b> lat/person/WordnetLAT, lat/content/WordnetLAT, lat/male offspring/WordnetLAT, lat/belief/WordnetLAT, lat/relative/WordnetLAT, lat/God/WordnetLAT, lat/male/WordnetLAT, lat/offspring/WordnetLAT, lat/cognition/WordnetLAT, lat/Godhead/WordnetLAT, lat/child/WordnetLAT, lat/spiritual being/WordnetLAT, lat/hypostasis/WordnetLAT, lat/son/LAT<br><b>out:</b> /people/person/children<br><b>outp:</b> /people/person/children: 0.528, /people/person/sibling_s|/people/sibling_relationship/sibling: 0.255, /people/person/spouse_s|/people/marriage/spouse: 0.019, /people/person/parents: 0.014, /book/book_subject/works: 0.013<br><b>gold:</b> /people/person/children</li>"
       ],
       "metadata": {},
       "output_type": "display_data",
       "text": [
        "<IPython.core.display.HTML at 0x7f8020d8af90>"
       ]
      },
      {
       "html": [
        "<li><b>what countries do people speak portuguese?</b><br><b>in:</b> lat/political unit/WordnetLAT, lat/country/ImplicitQLAT, lat/administrative district/WordnetLAT, lat/unit/WordnetLAT, lat/people/WordnetLAT, lat/organization/WordnetLAT, lat/group/WordnetLAT, lat/social group/WordnetLAT, lat/district/WordnetLAT, lat/region/WordnetLAT, lat/location/WordnetLAT, sv=speak, lat/countries/LAT, lat/geographical area/WordnetLAT<br><b>out:</b> <br><b>outp:</b> /language/human_language/countries_spoken_in: 0.480, /language/human_language/main_country: 0.454, /location/location/adjoin_s|/location/adjoining_relationship/adjoins: 0.121, /location/location/contains: 0.095, /location/statistical_region/places_exported_to|/location/imports_and_exports/exported_to: 0.082<br><b>gold:</b> /language/human_language/countries_spoken_in, /language/human_language/main_country</li>"
       ],
       "metadata": {},
       "output_type": "display_data",
       "text": [
        "<IPython.core.display.HTML at 0x7f802177ef50>"
       ]
      },
      {
       "html": [
        "<li><b>who was vincent van gogh inspired by?</b><br><b>in:</b> sv=inspired<br><b>out:</b> <br><b>outp:</b> /influence/influence_node/influenced_by: 0.223, /people/person/profession: 0.049, /common/topic/notable_for: 0.038, /people/person/spouse_s|/people/marriage/spouse: 0.029, /travel/travel_destination/tourist_attractions: 0.029<br><b>gold:</b> /influence/influence_node/influenced_by</li>"
       ],
       "metadata": {},
       "output_type": "display_data",
       "text": [
        "<IPython.core.display.HTML at 0x7f8020882910>"
       ]
      },
      {
       "html": [
        "<li><b>when will oscar pistorius compete?</b><br><b>in:</b> lat/time/QuestionWordLAT, lat/date/QuestionWordLAT, sv=compete<br><b>out:</b> <br><b>outp:</b> /sports/sports_team/championships: 0.079, /time/recurring_event/current_frequency: 0.037, /government/us_president/vice_president: 0.028, /olympics/olympic_athlete/country|/olympics/olympic_athlete_affiliation/sport: 0.026, /sports/pro_athlete/sports_played_professionally|/sports/pro_sports_played/sport: 0.026<br><b>gold:</b> </li>"
       ],
       "metadata": {},
       "output_type": "display_data",
       "text": [
        "<IPython.core.display.HTML at 0x7f802177eed0>"
       ]
      },
      {
       "html": [
        "<li><b>who plays meg in family guy?</b><br><b>in:</b> lat/person/QuestionWordLAT, sv=plays<br><b>out:</b> <br><b>outp:</b> /tv/tv_character/appeared_in_tv_program|/tv/regular_tv_appearance/actor: 0.469, /film/film_character/portrayed_in_films|/film/performance/actor: 0.399, /tv/tv_character/appeared_in_tv_episodes|/tv/tv_guest_role/actor: 0.125, /film/film/starring|/film/performance/actor: 0.082, /fictional_universe/fictional_character/character_created_by: 0.062<br><b>gold:</b> /cvg/game_character/games|/cvg/game_performance/voice_actor, /film/film_character/portrayed_in_films|/film/performance/actor, /tv/tv_character/appeared_in_tv_episodes|/tv/tv_guest_role/actor, /tv/tv_character/appeared_in_tv_program|/tv/regular_tv_appearance/actor</li>"
       ],
       "metadata": {},
       "output_type": "display_data",
       "text": [
        "<IPython.core.display.HTML at 0x7f802177ed90>"
       ]
      },
      {
       "html": [
        "<li><b>what stadium did the chicago cardinals play in?</b><br><b>in:</b> sv=play, lat/stadium/LAT, lat/artifact/WordnetLAT, lat/structure/WordnetLAT<br><b>out:</b> /sports/sports_team/arena_stadium, /sports/sports_team/venue|/sports/team_venue_relationship/venue<br><b>outp:</b> /sports/sports_team/arena_stadium: 0.751, /sports/sports_team/venue|/sports/team_venue_relationship/venue: 0.742, /sports/pro_athlete/teams|/sports/sports_team_roster/team: 0.122, /film/actor/film|/film/performance/character: 0.057, /film/actor/film|/film/performance/film: 0.037<br><b>gold:</b> /sports/sports_team/arena_stadium, /sports/sports_team/venue|/sports/team_venue_relationship/venue</li>"
       ],
       "metadata": {},
       "output_type": "display_data",
       "text": [
        "<IPython.core.display.HTML at 0x7f8020d63a50>"
       ]
      },
      {
       "html": [
        "<li><b>who was the apostle paul considered to be?</b><br><b>in:</b> lat/attitude/WordnetLAT, lat/cognition/WordnetLAT, lat/position/WordnetLAT, lat/orientation/WordnetLAT, sv=considered<br><b>out:</b> <br><b>outp:</b> /common/topic/notable_for: 0.049, /travel/travel_destination/tourist_attractions: 0.044, /people/person/profession: 0.030, /location/location/contains: 0.020, /common/topic/alias: 0.015<br><b>gold:</b> </li>"
       ],
       "metadata": {},
       "output_type": "display_data",
       "text": [
        "<IPython.core.display.HTML at 0x7f8020d63a10>"
       ]
      },
      {
       "html": [
        "<li><b>which countries are part of the united kingdom?</b><br><b>in:</b> lat/administrative district/WordnetLAT, lat/political unit/WordnetLAT, lat/country/ImplicitQLAT, lat/group/WordnetLAT, lat/social group/WordnetLAT, lat/organization/WordnetLAT, lat/unit/WordnetLAT, lat/people/WordnetLAT, lat/district/WordnetLAT, lat/location/WordnetLAT, lat/countries/LAT, lat/geographical area/WordnetLAT, lat/region/WordnetLAT<br><b>out:</b> <br><b>outp:</b> /location/location/adjoin_s|/location/adjoining_relationship/adjoins: 0.238, /location/location/contains: 0.232, /location/statistical_region/places_exported_to|/location/imports_and_exports/exported_to: 0.140, /language/human_language/countries_spoken_in: 0.093, /location/location/partiallycontains|/location/partial_containment_relationship/partially_contains: 0.079<br><b>gold:</b> /location/location/containedby</li>"
       ],
       "metadata": {},
       "output_type": "display_data",
       "text": [
        "<IPython.core.display.HTML at 0x7f8020496790>"
       ]
      },
      {
       "html": [
        "</ul>"
       ],
       "metadata": {},
       "output_type": "display_data",
       "text": [
        "<IPython.core.display.HTML at 0x7f8020487390>"
       ]
      }
     ],
     "prompt_number": 236
    },
    {
     "cell_type": "code",
     "collapsed": false,
     "input": [
      "from sklearn.svm import SVC\n",
      "cfier_svcp = OneVsRestClassifier(SVC(kernel='linear', probability=True), n_jobs=4)\n",
      "pprint(cfier_svcp.fit(vtrain.X, vtrain.Y))\n",
      "demo_model(cfier_svcp)"
     ],
     "language": "python",
     "metadata": {},
     "outputs": [
      {
       "output_type": "stream",
       "stream": "stdout",
       "text": [
        "OneVsRestClassifier(estimator=SVC(C=1.0, cache_size=200, class_weight=None, coef0=0.0, degree=3, gamma=0.0,\n",
        "  kernel='linear', max_iter=-1, probability=True, random_state=None,\n",
        "  shrinking=True, tol=0.001, verbose=False),\n",
        "          n_jobs=4)\n"
       ]
      },
      {
       "html": [
        "<table><tr><th>dataset</th><th>qRecallAny</th><th>qRecallAll</th><th>pPrec</th><th>pScoreMRR</th></tr><tr><td>train</td><td>0.665</td><td>0.560</td><td>0.851</td><td>0.695</td></tr><tr><td>val</td><td>0.474</td><td>0.366</td><td>0.565</td><td>0.501</td></tr><tr><td>devtest</td><td>0.556</td><td>0.466</td><td>0.638</td><td>0.592</td></tr></table>"
       ],
       "metadata": {},
       "output_type": "display_data",
       "text": [
        "<IPython.core.display.HTML at 0x7f8020344350>"
       ]
      },
      {
       "html": [
        "<ul>"
       ],
       "metadata": {},
       "output_type": "display_data",
       "text": [
        "<IPython.core.display.HTML at 0x7f80208911d0>"
       ]
      },
      {
       "html": [
        "<li><b>what is the name of justin bieber brother?</b><br><b>in:</b> lat/friend/WordnetLAT, lat/peer/WordnetLAT, lat/monk/WordnetLAT, lat/person/WordnetLAT, lat/religious/WordnetLAT, lat/religious person/WordnetLAT, lat/member/WordnetLAT, lat/kinsman/WordnetLAT, lat/male sibling/WordnetLAT, lat/brother/LAT, lat/associate/WordnetLAT, lat/relative/WordnetLAT<br><b>out:</b> /people/person/sibling_s|/people/sibling_relationship/sibling<br><b>outp:</b> /people/person/sibling_s|/people/sibling_relationship/sibling: 0.433, /people/person/profession: 0.037, /sports/pro_athlete/teams|/sports/sports_team_roster/team: 0.024, /common/topic/notable_for: 0.023, /location/location/containedby: 0.023<br><b>gold:</b> /people/person/sibling_s|/people/sibling_relationship/sibling</li>"
       ],
       "metadata": {},
       "output_type": "display_data",
       "text": [
        "<IPython.core.display.HTML at 0x7f8020891fd0>"
       ]
      },
      {
       "html": [
        "<li><b>where to fly into bali?</b><br><b>in:</b> sv=fly, lat/location/QuestionWordLAT<br><b>out:</b> <br><b>outp:</b> /people/person/place_of_birth: 0.049, /location/location/containedby: 0.046, /people/person/places_lived|/people/place_lived/location: 0.042, /people/person/profession: 0.040, /people/person/nationality: 0.027<br><b>gold:</b> </li>"
       ],
       "metadata": {},
       "output_type": "display_data",
       "text": [
        "<IPython.core.display.HTML at 0x7f8020891d10>"
       ]
      },
      {
       "html": [
        "<li><b>what is cher's son's name?</b><br><b>in:</b> lat/relative/WordnetLAT, lat/cognition/WordnetLAT, lat/child/WordnetLAT, lat/male offspring/WordnetLAT, lat/content/WordnetLAT, lat/belief/WordnetLAT, lat/offspring/WordnetLAT, lat/son/LAT, lat/Godhead/WordnetLAT, lat/person/WordnetLAT, lat/spiritual being/WordnetLAT, lat/male/WordnetLAT, lat/hypostasis/WordnetLAT, lat/God/WordnetLAT<br><b>out:</b> /people/person/children<br><b>outp:</b> /people/person/children: 0.514, /location/location/containedby: 0.038, /people/person/profession: 0.033, /film/film_character/portrayed_in_films|/film/performance/actor: 0.017, /location/location/contains: 0.016<br><b>gold:</b> /people/person/children</li>"
       ],
       "metadata": {},
       "output_type": "display_data",
       "text": [
        "<IPython.core.display.HTML at 0x7f8020891f50>"
       ]
      },
      {
       "html": [
        "<li><b>what countries do people speak portuguese?</b><br><b>in:</b> lat/country/ImplicitQLAT, lat/administrative district/WordnetLAT, lat/unit/WordnetLAT, lat/people/WordnetLAT, lat/organization/WordnetLAT, lat/group/WordnetLAT, lat/social group/WordnetLAT, lat/district/WordnetLAT, lat/region/WordnetLAT, lat/location/WordnetLAT, sv=speak, lat/political unit/WordnetLAT, lat/geographical area/WordnetLAT, lat/countries/LAT<br><b>out:</b> /language/human_language/countries_spoken_in, /language/human_language/main_country<br><b>outp:</b> /language/human_language/countries_spoken_in: 0.914, /language/human_language/main_country: 0.723, /people/person/place_of_birth: 0.042, /people/person/places_lived|/people/place_lived/location: 0.042, /location/location/containedby: 0.036<br><b>gold:</b> /language/human_language/countries_spoken_in, /language/human_language/main_country</li>"
       ],
       "metadata": {},
       "output_type": "display_data",
       "text": [
        "<IPython.core.display.HTML at 0x7f8020891d90>"
       ]
      },
      {
       "html": [
        "<li><b>who was vincent van gogh inspired by?</b><br><b>in:</b> sv=inspired<br><b>out:</b> /influence/influence_node/influenced_by<br><b>outp:</b> /influence/influence_node/influenced_by: 0.873, /location/location/containedby: 0.030, /location/location/contains: 0.026, /common/topic/notable_for: 0.023, /type/object/type: 0.018<br><b>gold:</b> /influence/influence_node/influenced_by</li>"
       ],
       "metadata": {},
       "output_type": "display_data",
       "text": [
        "<IPython.core.display.HTML at 0x7f8020891b90>"
       ]
      },
      {
       "html": [
        "<li><b>when will oscar pistorius compete?</b><br><b>in:</b> sv=compete, lat/time/QuestionWordLAT, lat/date/QuestionWordLAT<br><b>out:</b> <br><b>outp:</b> /sports/pro_athlete/sports_played_professionally|/sports/pro_sports_played/sport: 0.268, /sports/sports_team/championships: 0.031, /people/person/nationality: 0.027, /location/location/contains: 0.026, /common/topic/notable_for: 0.025<br><b>gold:</b> </li>"
       ],
       "metadata": {},
       "output_type": "display_data",
       "text": [
        "<IPython.core.display.HTML at 0x7f8020891c90>"
       ]
      },
      {
       "html": [
        "<li><b>who plays meg in family guy?</b><br><b>in:</b> lat/person/QuestionWordLAT, sv=plays<br><b>out:</b> /tv/tv_character/appeared_in_tv_program|/tv/regular_tv_appearance/actor<br><b>outp:</b> /tv/tv_character/appeared_in_tv_program|/tv/regular_tv_appearance/actor: 0.442, /people/person/profession: 0.040, /location/location/containedby: 0.030, /location/location/contains: 0.026, /common/topic/notable_for: 0.025<br><b>gold:</b> /cvg/game_character/games|/cvg/game_performance/voice_actor, /film/film_character/portrayed_in_films|/film/performance/actor, /tv/tv_character/appeared_in_tv_episodes|/tv/tv_guest_role/actor, /tv/tv_character/appeared_in_tv_program|/tv/regular_tv_appearance/actor</li>"
       ],
       "metadata": {},
       "output_type": "display_data",
       "text": [
        "<IPython.core.display.HTML at 0x7f8020891890>"
       ]
      },
      {
       "html": [
        "<li><b>what stadium did the chicago cardinals play in?</b><br><b>in:</b> sv=play, lat/artifact/WordnetLAT, lat/stadium/LAT, lat/structure/WordnetLAT<br><b>out:</b> /sports/sports_team/arena_stadium, /sports/sports_team/venue|/sports/team_venue_relationship/venue<br><b>outp:</b> /sports/sports_team/venue|/sports/team_venue_relationship/venue: 1.000, /sports/sports_team/arena_stadium: 0.921, /sports/pro_athlete/teams|/sports/sports_team_roster/team: 0.061, /film/actor/film|/film/performance/character: 0.038, /location/location/contains: 0.023<br><b>gold:</b> /sports/sports_team/arena_stadium, /sports/sports_team/venue|/sports/team_venue_relationship/venue</li>"
       ],
       "metadata": {},
       "output_type": "display_data",
       "text": [
        "<IPython.core.display.HTML at 0x7f8020891a10>"
       ]
      },
      {
       "html": [
        "<li><b>who was the apostle paul considered to be?</b><br><b>in:</b> lat/position/WordnetLAT, lat/attitude/WordnetLAT, sv=considered, lat/cognition/WordnetLAT, lat/orientation/WordnetLAT<br><b>out:</b> <br><b>outp:</b> /location/location/containedby: 0.033, /people/person/profession: 0.024, /location/location/contains: 0.022, /common/topic/notable_for: 0.019, /travel/travel_destination/tourist_attractions: 0.018<br><b>gold:</b> </li>"
       ],
       "metadata": {},
       "output_type": "display_data",
       "text": [
        "<IPython.core.display.HTML at 0x7f8020891950>"
       ]
      },
      {
       "html": [
        "<li><b>which countries are part of the united kingdom?</b><br><b>in:</b> lat/political unit/WordnetLAT, lat/people/WordnetLAT, lat/countries/LAT, lat/geographical area/WordnetLAT, lat/region/WordnetLAT, lat/unit/WordnetLAT, lat/organization/WordnetLAT, lat/group/WordnetLAT, lat/social group/WordnetLAT, lat/district/WordnetLAT, lat/administrative district/WordnetLAT, lat/country/ImplicitQLAT, lat/location/WordnetLAT<br><b>out:</b> <br><b>outp:</b> /location/location/containedby: 0.046, /people/person/place_of_birth: 0.042, /people/person/places_lived|/people/place_lived/location: 0.042, /location/location/contains: 0.031, /people/person/nationality: 0.027<br><b>gold:</b> /location/location/containedby</li>"
       ],
       "metadata": {},
       "output_type": "display_data",
       "text": [
        "<IPython.core.display.HTML at 0x7f8020891c50>"
       ]
      },
      {
       "html": [
        "</ul>"
       ],
       "metadata": {},
       "output_type": "display_data",
       "text": [
        "<IPython.core.display.HTML at 0x7f80208919d0>"
       ]
      }
     ],
     "prompt_number": 224
    },
    {
     "cell_type": "code",
     "collapsed": false,
     "input": [
      "from sklearn.svm import SVC\n",
      "cfier_svcrp = OneVsRestClassifier(SVC(kernel='rbf', probability=True), n_jobs=4)\n",
      "pprint(cfier_svcrp.fit(vtrain.X, vtrain.Y))\n",
      "demo_model(cfier_svcrp)"
     ],
     "language": "python",
     "metadata": {},
     "outputs": [
      {
       "output_type": "stream",
       "stream": "stdout",
       "text": [
        "OneVsRestClassifier(estimator=SVC(C=1.0, cache_size=200, class_weight=None, coef0=0.0, degree=3, gamma=0.0,\n",
        "  kernel='rbf', max_iter=-1, probability=True, random_state=None,\n",
        "  shrinking=True, tol=0.001, verbose=False),\n",
        "          n_jobs=4)\n"
       ]
      },
      {
       "output_type": "stream",
       "stream": "stderr",
       "text": [
        "-c:15: RuntimeWarning: invalid value encountered in divide\n"
       ]
      },
      {
       "html": [
        "<table><tr><th>dataset</th><th>qRecallAny</th><th>qRecallAll</th><th>pPrec</th><th>pScoreMRR</th></tr><tr><td>train</td><td>0.090</td><td>0.090</td><td>nan</td><td>0.559</td></tr><tr><td>val</td><td>0.135</td><td>0.135</td><td>nan</td><td>0.420</td></tr><tr><td>devtest</td><td>0.132</td><td>0.132</td><td>nan</td><td>0.501</td></tr></table>"
       ],
       "metadata": {},
       "output_type": "display_data",
       "text": [
        "<IPython.core.display.HTML at 0x7f8020344310>"
       ]
      },
      {
       "html": [
        "<ul>"
       ],
       "metadata": {},
       "output_type": "display_data",
       "text": [
        "<IPython.core.display.HTML at 0x7f8020db6c50>"
       ]
      },
      {
       "html": [
        "<li><b>what is the name of justin bieber brother?</b><br><b>in:</b> lat/monk/WordnetLAT, lat/brother/LAT, lat/male sibling/WordnetLAT, lat/kinsman/WordnetLAT, lat/friend/WordnetLAT, lat/member/WordnetLAT, lat/religious person/WordnetLAT, lat/peer/WordnetLAT, lat/religious/WordnetLAT, lat/associate/WordnetLAT, lat/person/WordnetLAT, lat/relative/WordnetLAT<br><b>out:</b> <br><b>outp:</b> /people/person/sibling_s|/people/sibling_relationship/sibling: 0.045, /people/person/profession: 0.037, /location/location/containedby: 0.035, /organization/organization/headquarters|/location/mailing_address/citytown: 0.029, /location/location/contains: 0.028<br><b>gold:</b> /people/person/sibling_s|/people/sibling_relationship/sibling</li>"
       ],
       "metadata": {},
       "output_type": "display_data",
       "text": [
        "<IPython.core.display.HTML at 0x7f8020013f10>"
       ]
      },
      {
       "html": [
        "<li><b>where to fly into bali?</b><br><b>in:</b> lat/location/QuestionWordLAT, sv=fly<br><b>out:</b> <br><b>outp:</b> /organization/organization/headquarters|/location/mailing_address/citytown: 0.301, /people/person/places_lived|/people/place_lived/location: 0.046, /people/deceased_person/place_of_death: 0.045, /people/person/nationality: 0.040, /location/location/containedby: 0.039<br><b>gold:</b> </li>"
       ],
       "metadata": {},
       "output_type": "display_data",
       "text": [
        "<IPython.core.display.HTML at 0x7f801f655090>"
       ]
      },
      {
       "html": [
        "<li><b>what is cher's son's name?</b><br><b>in:</b> lat/hypostasis/WordnetLAT, lat/son/LAT, lat/male/WordnetLAT, lat/cognition/WordnetLAT, lat/child/WordnetLAT, lat/male offspring/WordnetLAT, lat/content/WordnetLAT, lat/person/WordnetLAT, lat/belief/WordnetLAT, lat/offspring/WordnetLAT, lat/spiritual being/WordnetLAT, lat/Godhead/WordnetLAT, lat/relative/WordnetLAT, lat/God/WordnetLAT<br><b>out:</b> <br><b>outp:</b> /people/person/children: 0.240, /location/location/containedby: 0.035, /people/person/profession: 0.033, /organization/organization/headquarters|/location/mailing_address/citytown: 0.030, /location/location/contains: 0.027<br><b>gold:</b> /people/person/children</li>"
       ],
       "metadata": {},
       "output_type": "display_data",
       "text": [
        "<IPython.core.display.HTML at 0x7f80208b9990>"
       ]
      },
      {
       "html": [
        "<li><b>what countries do people speak portuguese?</b><br><b>in:</b> lat/geographical area/WordnetLAT, lat/country/ImplicitQLAT, lat/administrative district/WordnetLAT, lat/unit/WordnetLAT, lat/people/WordnetLAT, lat/political unit/WordnetLAT, lat/organization/WordnetLAT, lat/group/WordnetLAT, lat/social group/WordnetLAT, lat/district/WordnetLAT, lat/region/WordnetLAT, lat/location/WordnetLAT, sv=speak, lat/countries/LAT<br><b>out:</b> <br><b>outp:</b> /language/human_language/main_country: 0.666, /language/human_language/countries_spoken_in: 0.641, /location/location/containedby: 0.035, /people/person/profession: 0.033, /people/person/places_lived|/people/place_lived/location: 0.031<br><b>gold:</b> /language/human_language/countries_spoken_in, /language/human_language/main_country</li>"
       ],
       "metadata": {},
       "output_type": "display_data",
       "text": [
        "<IPython.core.display.HTML at 0x7f80208b9110>"
       ]
      },
      {
       "html": [
        "<li><b>who was vincent van gogh inspired by?</b><br><b>in:</b> sv=inspired<br><b>out:</b> <br><b>outp:</b> /influence/influence_node/influenced_by: 0.104, /location/location/containedby: 0.043, /people/person/profession: 0.035, /organization/organization/headquarters|/location/mailing_address/citytown: 0.029, /location/location/contains: 0.029<br><b>gold:</b> /influence/influence_node/influenced_by</li>"
       ],
       "metadata": {},
       "output_type": "display_data",
       "text": [
        "<IPython.core.display.HTML at 0x7f8020934e50>"
       ]
      },
      {
       "html": [
        "<li><b>when will oscar pistorius compete?</b><br><b>in:</b> sv=compete, lat/time/QuestionWordLAT, lat/date/QuestionWordLAT<br><b>out:</b> <br><b>outp:</b> /sports/pro_athlete/sports_played_professionally|/sports/pro_sports_played/sport: 0.454, /olympics/olympic_athlete/country|/olympics/olympic_athlete_affiliation/sport: 0.215, /people/person/profession: 0.036, /location/location/containedby: 0.035, /organization/organization/headquarters|/location/mailing_address/citytown: 0.029<br><b>gold:</b> </li>"
       ],
       "metadata": {},
       "output_type": "display_data",
       "text": [
        "<IPython.core.display.HTML at 0x7f8020934ed0>"
       ]
      },
      {
       "html": [
        "<li><b>who plays meg in family guy?</b><br><b>in:</b> lat/person/QuestionWordLAT, sv=plays<br><b>out:</b> <br><b>outp:</b> /location/location/containedby: 0.043, /people/person/profession: 0.038, /tv/tv_character/appeared_in_tv_program|/tv/regular_tv_appearance/actor: 0.033, /organization/organization/headquarters|/location/mailing_address/citytown: 0.029, /location/location/contains: 0.029<br><b>gold:</b> /cvg/game_character/games|/cvg/game_performance/voice_actor, /film/film_character/portrayed_in_films|/film/performance/actor, /tv/tv_character/appeared_in_tv_episodes|/tv/tv_guest_role/actor, /tv/tv_character/appeared_in_tv_program|/tv/regular_tv_appearance/actor</li>"
       ],
       "metadata": {},
       "output_type": "display_data",
       "text": [
        "<IPython.core.display.HTML at 0x7f8020934890>"
       ]
      },
      {
       "html": [
        "<li><b>what stadium did the chicago cardinals play in?</b><br><b>in:</b> sv=play, lat/artifact/WordnetLAT, lat/stadium/LAT, lat/structure/WordnetLAT<br><b>out:</b> <br><b>outp:</b> /sports/sports_team/venue|/sports/team_venue_relationship/venue: 0.966, /sports/sports_team/arena_stadium: 0.728, /people/person/education|/education/education/institution: 0.087, /soccer/football_player/matches_played|/soccer/football_player_match_participation/team: 0.043, /people/person/profession: 0.034<br><b>gold:</b> /sports/sports_team/arena_stadium, /sports/sports_team/venue|/sports/team_venue_relationship/venue</li>"
       ],
       "metadata": {},
       "output_type": "display_data",
       "text": [
        "<IPython.core.display.HTML at 0x7f8020934b90>"
       ]
      },
      {
       "html": [
        "<li><b>who was the apostle paul considered to be?</b><br><b>in:</b> lat/position/WordnetLAT, lat/attitude/WordnetLAT, sv=considered, lat/cognition/WordnetLAT, lat/orientation/WordnetLAT<br><b>out:</b> <br><b>outp:</b> /travel/travel_destination/tourist_attractions: 0.069, /location/location/containedby: 0.038, /people/person/profession: 0.032, /organization/organization/headquarters|/location/mailing_address/citytown: 0.029, /location/location/contains: 0.026<br><b>gold:</b> </li>"
       ],
       "metadata": {},
       "output_type": "display_data",
       "text": [
        "<IPython.core.display.HTML at 0x7f8020934990>"
       ]
      },
      {
       "html": [
        "<li><b>which countries are part of the united kingdom?</b><br><b>in:</b> lat/country/ImplicitQLAT, lat/political unit/WordnetLAT, lat/people/WordnetLAT, lat/countries/LAT, lat/geographical area/WordnetLAT, lat/region/WordnetLAT, lat/unit/WordnetLAT, lat/location/WordnetLAT, lat/organization/WordnetLAT, lat/group/WordnetLAT, lat/social group/WordnetLAT, lat/district/WordnetLAT, lat/administrative district/WordnetLAT<br><b>out:</b> <br><b>outp:</b> /location/location/containedby: 0.041, /language/human_language/main_country: 0.035, /people/person/profession: 0.034, /people/person/places_lived|/people/place_lived/location: 0.031, /people/person/place_of_birth: 0.031<br><b>gold:</b> /location/location/containedby</li>"
       ],
       "metadata": {},
       "output_type": "display_data",
       "text": [
        "<IPython.core.display.HTML at 0x7f8020b34550>"
       ]
      },
      {
       "html": [
        "</ul>"
       ],
       "metadata": {},
       "output_type": "display_data",
       "text": [
        "<IPython.core.display.HTML at 0x7f8020013410>"
       ]
      }
     ],
     "prompt_number": 225
    },
    {
     "cell_type": "code",
     "collapsed": false,
     "input": [
      "from sklearn.svm import SVC\n",
      "cfier_svcpp = OneVsRestClassifier(SVC(kernel='poly', probability=True), n_jobs=4)\n",
      "pprint(cfier_svcpp.fit(vtrain.X, vtrain.Y))\n",
      "demo_model(cfier_svcpp)"
     ],
     "language": "python",
     "metadata": {},
     "outputs": [
      {
       "output_type": "stream",
       "stream": "stdout",
       "text": [
        "OneVsRestClassifier(estimator=SVC(C=1.0, cache_size=200, class_weight=None, coef0=0.0, degree=3, gamma=0.0,\n",
        "  kernel='poly', max_iter=-1, probability=True, random_state=None,\n",
        "  shrinking=True, tol=0.001, verbose=False),\n",
        "          n_jobs=4)\n"
       ]
      },
      {
       "html": [
        "<table><tr><th>dataset</th><th>qRecallAny</th><th>qRecallAll</th><th>pPrec</th><th>pScoreMRR</th></tr><tr><td>train</td><td>0.090</td><td>0.090</td><td>nan</td><td>0.050</td></tr><tr><td>val</td><td>0.135</td><td>0.135</td><td>nan</td><td>0.042</td></tr><tr><td>devtest</td><td>0.132</td><td>0.132</td><td>nan</td><td>0.049</td></tr></table>"
       ],
       "metadata": {},
       "output_type": "display_data",
       "text": [
        "<IPython.core.display.HTML at 0x7f80206505d0>"
       ]
      },
      {
       "html": [
        "<ul>"
       ],
       "metadata": {},
       "output_type": "display_data",
       "text": [
        "<IPython.core.display.HTML at 0x7f8020db6e90>"
       ]
      },
      {
       "html": [
        "<li><b>what is the name of justin bieber brother?</b><br><b>in:</b> lat/religious/WordnetLAT, lat/peer/WordnetLAT, lat/relative/WordnetLAT, lat/person/WordnetLAT, lat/member/WordnetLAT, lat/religious person/WordnetLAT, lat/friend/WordnetLAT, lat/associate/WordnetLAT, lat/male sibling/WordnetLAT, lat/kinsman/WordnetLAT, lat/brother/LAT, lat/monk/WordnetLAT<br><b>out:</b> <br><b>outp:</b> /award/award_winner/awards_won|/award/award_honor/award: 1.000, /award/award_winner/awards_won|/award/award_honor/honored_for: 1.000, /basketball/basketball_player/player_statistics|/basketball/basketball_player_stats/season: 1.000, /film/actor/film|/film/performance/film: 1.000, /government/political_district/representatives|/government/government_position_held/office_holder: 1.000<br><b>gold:</b> /people/person/sibling_s|/people/sibling_relationship/sibling</li>"
       ],
       "metadata": {},
       "output_type": "display_data",
       "text": [
        "<IPython.core.display.HTML at 0x7f802093cf10>"
       ]
      },
      {
       "html": [
        "<li><b>where to fly into bali?</b><br><b>in:</b> sv=fly, lat/location/QuestionWordLAT<br><b>out:</b> <br><b>outp:</b> /award/award_winner/awards_won|/award/award_honor/award: 1.000, /award/award_winner/awards_won|/award/award_honor/honored_for: 1.000, /basketball/basketball_player/player_statistics|/basketball/basketball_player_stats/season: 1.000, /film/actor/film|/film/performance/film: 1.000, /government/political_district/representatives|/government/government_position_held/office_holder: 1.000<br><b>gold:</b> </li>"
       ],
       "metadata": {},
       "output_type": "display_data",
       "text": [
        "<IPython.core.display.HTML at 0x7f8020787910>"
       ]
      },
      {
       "html": [
        "<li><b>what is cher's son's name?</b><br><b>in:</b> lat/belief/WordnetLAT, lat/God/WordnetLAT, lat/relative/WordnetLAT, lat/content/WordnetLAT, lat/male offspring/WordnetLAT, lat/person/WordnetLAT, lat/male/WordnetLAT, lat/offspring/WordnetLAT, lat/cognition/WordnetLAT, lat/child/WordnetLAT, lat/Godhead/WordnetLAT, lat/spiritual being/WordnetLAT, lat/hypostasis/WordnetLAT, lat/son/LAT<br><b>out:</b> <br><b>outp:</b> /award/award_winner/awards_won|/award/award_honor/award: 1.000, /award/award_winner/awards_won|/award/award_honor/honored_for: 1.000, /basketball/basketball_player/player_statistics|/basketball/basketball_player_stats/season: 1.000, /film/actor/film|/film/performance/film: 1.000, /government/political_district/representatives|/government/government_position_held/office_holder: 1.000<br><b>gold:</b> /people/person/children</li>"
       ],
       "metadata": {},
       "output_type": "display_data",
       "text": [
        "<IPython.core.display.HTML at 0x7f802093c910>"
       ]
      },
      {
       "html": [
        "<li><b>what countries do people speak portuguese?</b><br><b>in:</b> lat/district/WordnetLAT, lat/country/ImplicitQLAT, lat/administrative district/WordnetLAT, lat/political unit/WordnetLAT, lat/unit/WordnetLAT, lat/social group/WordnetLAT, lat/organization/WordnetLAT, lat/group/WordnetLAT, lat/people/WordnetLAT, lat/region/WordnetLAT, lat/location/WordnetLAT, lat/countries/LAT, lat/geographical area/WordnetLAT, sv=speak<br><b>out:</b> <br><b>outp:</b> /award/award_winner/awards_won|/award/award_honor/award: 1.000, /award/award_winner/awards_won|/award/award_honor/honored_for: 1.000, /basketball/basketball_player/player_statistics|/basketball/basketball_player_stats/season: 1.000, /film/actor/film|/film/performance/film: 1.000, /government/political_district/representatives|/government/government_position_held/office_holder: 1.000<br><b>gold:</b> /language/human_language/countries_spoken_in, /language/human_language/main_country</li>"
       ],
       "metadata": {},
       "output_type": "display_data",
       "text": [
        "<IPython.core.display.HTML at 0x7f802093c2d0>"
       ]
      },
      {
       "html": [
        "<li><b>who was vincent van gogh inspired by?</b><br><b>in:</b> sv=inspired<br><b>out:</b> <br><b>outp:</b> /award/award_winner/awards_won|/award/award_honor/award: 1.000, /award/award_winner/awards_won|/award/award_honor/honored_for: 1.000, /basketball/basketball_player/player_statistics|/basketball/basketball_player_stats/season: 1.000, /film/actor/film|/film/performance/film: 1.000, /government/political_district/representatives|/government/government_position_held/office_holder: 1.000<br><b>gold:</b> /influence/influence_node/influenced_by</li>"
       ],
       "metadata": {},
       "output_type": "display_data",
       "text": [
        "<IPython.core.display.HTML at 0x7f802093c050>"
       ]
      },
      {
       "html": [
        "<li><b>when will oscar pistorius compete?</b><br><b>in:</b> lat/date/QuestionWordLAT, lat/time/QuestionWordLAT, sv=compete<br><b>out:</b> <br><b>outp:</b> /award/award_winner/awards_won|/award/award_honor/award: 1.000, /award/award_winner/awards_won|/award/award_honor/honored_for: 1.000, /basketball/basketball_player/player_statistics|/basketball/basketball_player_stats/season: 1.000, /film/actor/film|/film/performance/film: 1.000, /government/political_district/representatives|/government/government_position_held/office_holder: 1.000<br><b>gold:</b> </li>"
       ],
       "metadata": {},
       "output_type": "display_data",
       "text": [
        "<IPython.core.display.HTML at 0x7f801ed8a350>"
       ]
      },
      {
       "html": [
        "<li><b>who plays meg in family guy?</b><br><b>in:</b> sv=plays, lat/person/QuestionWordLAT<br><b>out:</b> <br><b>outp:</b> /award/award_winner/awards_won|/award/award_honor/award: 1.000, /award/award_winner/awards_won|/award/award_honor/honored_for: 1.000, /basketball/basketball_player/player_statistics|/basketball/basketball_player_stats/season: 1.000, /film/actor/film|/film/performance/film: 1.000, /government/political_district/representatives|/government/government_position_held/office_holder: 1.000<br><b>gold:</b> /cvg/game_character/games|/cvg/game_performance/voice_actor, /film/film_character/portrayed_in_films|/film/performance/actor, /tv/tv_character/appeared_in_tv_episodes|/tv/tv_guest_role/actor, /tv/tv_character/appeared_in_tv_program|/tv/regular_tv_appearance/actor</li>"
       ],
       "metadata": {},
       "output_type": "display_data",
       "text": [
        "<IPython.core.display.HTML at 0x7f8020344310>"
       ]
      },
      {
       "html": [
        "<li><b>what stadium did the chicago cardinals play in?</b><br><b>in:</b> sv=play, lat/stadium/LAT, lat/artifact/WordnetLAT, lat/structure/WordnetLAT<br><b>out:</b> <br><b>outp:</b> /award/award_winner/awards_won|/award/award_honor/award: 1.000, /award/award_winner/awards_won|/award/award_honor/honored_for: 1.000, /basketball/basketball_player/player_statistics|/basketball/basketball_player_stats/season: 1.000, /film/actor/film|/film/performance/film: 1.000, /government/political_district/representatives|/government/government_position_held/office_holder: 1.000<br><b>gold:</b> /sports/sports_team/arena_stadium, /sports/sports_team/venue|/sports/team_venue_relationship/venue</li>"
       ],
       "metadata": {},
       "output_type": "display_data",
       "text": [
        "<IPython.core.display.HTML at 0x7f8020344350>"
       ]
      },
      {
       "html": [
        "<li><b>who was the apostle paul considered to be?</b><br><b>in:</b> lat/position/WordnetLAT, lat/cognition/WordnetLAT, lat/orientation/WordnetLAT, sv=considered, lat/attitude/WordnetLAT<br><b>out:</b> <br><b>outp:</b> /award/award_winner/awards_won|/award/award_honor/award: 1.000, /award/award_winner/awards_won|/award/award_honor/honored_for: 1.000, /basketball/basketball_player/player_statistics|/basketball/basketball_player_stats/season: 1.000, /film/actor/film|/film/performance/film: 1.000, /government/political_district/representatives|/government/government_position_held/office_holder: 1.000<br><b>gold:</b> </li>"
       ],
       "metadata": {},
       "output_type": "display_data",
       "text": [
        "<IPython.core.display.HTML at 0x7f8020344250>"
       ]
      },
      {
       "html": [
        "<li><b>which countries are part of the united kingdom?</b><br><b>in:</b> lat/people/WordnetLAT, lat/countries/LAT, lat/region/WordnetLAT, lat/social group/WordnetLAT, lat/unit/WordnetLAT, lat/organization/WordnetLAT, lat/district/WordnetLAT, lat/location/WordnetLAT, lat/group/WordnetLAT, lat/geographical area/WordnetLAT, lat/country/ImplicitQLAT, lat/political unit/WordnetLAT, lat/administrative district/WordnetLAT<br><b>out:</b> <br><b>outp:</b> /award/award_winner/awards_won|/award/award_honor/award: 1.000, /award/award_winner/awards_won|/award/award_honor/honored_for: 1.000, /basketball/basketball_player/player_statistics|/basketball/basketball_player_stats/season: 1.000, /film/actor/film|/film/performance/film: 1.000, /government/political_district/representatives|/government/government_position_held/office_holder: 1.000<br><b>gold:</b> /location/location/containedby</li>"
       ],
       "metadata": {},
       "output_type": "display_data",
       "text": [
        "<IPython.core.display.HTML at 0x7f8020344210>"
       ]
      },
      {
       "html": [
        "</ul>"
       ],
       "metadata": {},
       "output_type": "display_data",
       "text": [
        "<IPython.core.display.HTML at 0x7f802093c5d0>"
       ]
      }
     ],
     "prompt_number": 226
    },
    {
     "cell_type": "markdown",
     "metadata": {},
     "source": [
      "## Confidence Score Models"
     ]
    },
    {
     "cell_type": "code",
     "collapsed": false,
     "input": [
      "def check_q_cs(cfier, v, d, i):\n",
      "    cs = cfier.decision_function(v.X[i])[0]\n",
      "    top_cs = sorted(enumerate(cs), key=lambda k: k[1], reverse=True)\n",
      "    top_lcs = ['<span style=\"color: %s\">%s: %.2f</span>' % ('blue' if k[1] > 0 else 'red', v.Ydict.classes_[k[0]], k[1]) for k in top_cs[:5]]\n",
      "    return '<li><b>%s</b><br><b>in:</b> %s<br><b>out:</b> %s<br><b>outp:</b> %s<br><b>gold:</b> %s</li>' % (\n",
      "        d[i]['qText'],\n",
      "        ', '.join(sorted(v.Xdict.inverse_transform(v.X[i])[0].keys(), key=lambda s: reversed(s))),\n",
      "        ', '.join(v.Ydict.inverse_transform(cfier.predict(v.X[i]))[0]),\n",
      "        ', '.join(top_lcs),\n",
      "        ', '.join(v.Ydict.inverse_transform(np.array([v.Y[i]]))[0]))\n",
      "\n",
      "def demo_model_cs(cfier):\n",
      "    stable = score_table(cfier, lambda cfier, X: cfier.decision_function(X))\n",
      "    display(HTML('<table>'+stable+'</table>'))\n",
      "    display(HTML('<ul>'))\n",
      "    for i in range(10):\n",
      "        display(HTML(check_q_cs(cfier, vdevtest, devtest, i)))\n",
      "    display(HTML('</ul>'))"
     ],
     "language": "python",
     "metadata": {},
     "outputs": [],
     "prompt_number": 251
    },
    {
     "cell_type": "code",
     "collapsed": false,
     "input": [
      "from sklearn.multiclass import OneVsRestClassifier\n",
      "from sklearn.svm import SVC\n",
      "cfier_svc = OneVsRestClassifier(SVC(kernel='linear'), n_jobs=4)\n",
      "cfier_svc.fit(vtrain.X, vtrain.Y)"
     ],
     "language": "python",
     "metadata": {},
     "outputs": [
      {
       "metadata": {},
       "output_type": "pyout",
       "prompt_number": 230,
       "text": [
        "OneVsRestClassifier(estimator=SVC(C=1.0, cache_size=200, class_weight=None, coef0=0.0, degree=3, gamma=0.0,\n",
        "  kernel='linear', max_iter=-1, probability=False, random_state=None,\n",
        "  shrinking=True, tol=0.001, verbose=False),\n",
        "          n_jobs=4)"
       ]
      }
     ],
     "prompt_number": 230
    },
    {
     "cell_type": "code",
     "collapsed": false,
     "input": [
      "[x for x in cfier_svc.decision_function(vdevtest.X[0])[0] if x > 0]"
     ],
     "language": "python",
     "metadata": {},
     "outputs": [
      {
       "metadata": {},
       "output_type": "pyout",
       "prompt_number": 121,
       "text": [
        "[0.99987006672029644]"
       ]
      }
     ],
     "prompt_number": 121
    },
    {
     "cell_type": "code",
     "collapsed": false,
     "input": [
      "demo_model_cs(cfier_svc)"
     ],
     "language": "python",
     "metadata": {},
     "outputs": [
      {
       "html": [
        "<table><tr><th>dataset</th><th>qRecallAny</th><th>qRecallAll</th><th>pPrec</th><th>pScoreMRR</th></tr><tr><td>train</td><td>0.665</td><td>0.560</td><td>0.851</td><td>0.722</td></tr><tr><td>val</td><td>0.474</td><td>0.366</td><td>0.565</td><td>0.473</td></tr><tr><td>devtest</td><td>0.556</td><td>0.466</td><td>0.638</td><td>0.542</td></tr></table>"
       ],
       "metadata": {},
       "output_type": "display_data",
       "text": [
        "<IPython.core.display.HTML at 0x7f801ed90790>"
       ]
      },
      {
       "html": [
        "<ul>"
       ],
       "metadata": {},
       "output_type": "display_data",
       "text": [
        "<IPython.core.display.HTML at 0x7f801ecca210>"
       ]
      },
      {
       "html": [
        "<li><b>what is the name of justin bieber brother?</b><br><b>in:</b> lat/associate/WordnetLAT, lat/brother/LAT, lat/religious/WordnetLAT, lat/kinsman/WordnetLAT, lat/monk/WordnetLAT, lat/male sibling/WordnetLAT, lat/friend/WordnetLAT, lat/member/WordnetLAT, lat/relative/WordnetLAT, lat/peer/WordnetLAT, lat/religious person/WordnetLAT, lat/person/WordnetLAT<br><b>out:</b> /people/person/sibling_s|/people/sibling_relationship/sibling<br><b>outp:</b> <span style=\"color: black\">/people/person/sibling_s|/people/sibling_relationship/sibling: 1.00</span>, <span style=\"color: red\">/people/deceased_person/place_of_burial: -1.00</span>, <span style=\"color: red\">/time/holiday/day_of_year: -1.00</span>, <span style=\"color: red\">/tv/tv_character/appeared_in_tv_episodes|/tv/tv_guest_role/actor: -1.00</span>, <span style=\"color: red\">/award/award_nominated_work/award_nominations|/award/award_nomination/award_nominee: -1.00</span><br><b>gold:</b> /people/person/sibling_s|/people/sibling_relationship/sibling</li>"
       ],
       "metadata": {},
       "output_type": "display_data",
       "text": [
        "<IPython.core.display.HTML at 0x7f801ff8d710>"
       ]
      },
      {
       "html": [
        "<li><b>where to fly into bali?</b><br><b>in:</b> sv=fly, lat/location/QuestionWordLAT<br><b>out:</b> <br><b>outp:</b> <span style=\"color: red\">/people/deceased_person/place_of_burial: -1.00</span>, <span style=\"color: red\">/time/holiday/day_of_year: -1.00</span>, <span style=\"color: red\">/business/employer/employees|/business/employment_tenure/title: -1.00</span>, <span style=\"color: red\">/travel/tourist_attraction/near_travel_destination: -1.00</span>, <span style=\"color: red\">/geography/river/basin_countries: -1.00</span><br><b>gold:</b> </li>"
       ],
       "metadata": {},
       "output_type": "display_data",
       "text": [
        "<IPython.core.display.HTML at 0x7f8020787c90>"
       ]
      },
      {
       "html": [
        "<li><b>what is cher's son's name?</b><br><b>in:</b> lat/child/WordnetLAT, lat/content/WordnetLAT, lat/belief/WordnetLAT, lat/offspring/WordnetLAT, lat/cognition/WordnetLAT, lat/Godhead/WordnetLAT, lat/son/LAT, lat/spiritual being/WordnetLAT, lat/male offspring/WordnetLAT, lat/God/WordnetLAT, lat/person/WordnetLAT, lat/male/WordnetLAT, lat/relative/WordnetLAT, lat/hypostasis/WordnetLAT<br><b>out:</b> /people/person/children<br><b>outp:</b> <span style=\"color: black\">/people/person/children: 0.60</span>, <span style=\"color: red\">/people/person/sibling_s|/people/sibling_relationship/sibling: -1.00</span>, <span style=\"color: red\">/people/deceased_person/place_of_burial: -1.00</span>, <span style=\"color: red\">/time/holiday/day_of_year: -1.00</span>, <span style=\"color: red\">/tv/tv_character/appeared_in_tv_episodes|/tv/tv_guest_role/actor: -1.00</span><br><b>gold:</b> /people/person/children</li>"
       ],
       "metadata": {},
       "output_type": "display_data",
       "text": [
        "<IPython.core.display.HTML at 0x7f80207879d0>"
       ]
      },
      {
       "html": [
        "<li><b>what countries do people speak portuguese?</b><br><b>in:</b> lat/country/ImplicitQLAT, lat/administrative district/WordnetLAT, lat/unit/WordnetLAT, lat/social group/WordnetLAT, lat/organization/WordnetLAT, lat/group/WordnetLAT, lat/district/WordnetLAT, lat/people/WordnetLAT, lat/political unit/WordnetLAT, lat/region/WordnetLAT, lat/location/WordnetLAT, sv=speak, lat/geographical area/WordnetLAT, lat/countries/LAT<br><b>out:</b> /language/human_language/countries_spoken_in, /language/human_language/main_country<br><b>outp:</b> <span style=\"color: black\">/language/human_language/main_country: 0.81</span>, <span style=\"color: black\">/language/human_language/countries_spoken_in: 0.63</span>, <span style=\"color: red\">/people/deceased_person/place_of_burial: -1.00</span>, <span style=\"color: red\">/time/holiday/day_of_year: -1.00</span>, <span style=\"color: red\">/tv/tv_character/appeared_in_tv_episodes|/tv/tv_guest_role/actor: -1.00</span><br><b>gold:</b> /language/human_language/countries_spoken_in, /language/human_language/main_country</li>"
       ],
       "metadata": {},
       "output_type": "display_data",
       "text": [
        "<IPython.core.display.HTML at 0x7f801ff77b90>"
       ]
      },
      {
       "html": [
        "<li><b>who was vincent van gogh inspired by?</b><br><b>in:</b> sv=inspired<br><b>out:</b> /influence/influence_node/influenced_by<br><b>outp:</b> <span style=\"color: black\">/influence/influence_node/influenced_by: 1.00</span>, <span style=\"color: red\">/people/deceased_person/place_of_burial: -1.00</span>, <span style=\"color: red\">/time/holiday/day_of_year: -1.00</span>, <span style=\"color: red\">/tv/tv_character/appeared_in_tv_episodes|/tv/tv_guest_role/actor: -1.00</span>, <span style=\"color: red\">/award/award_nominated_work/award_nominations|/award/award_nomination/award_nominee: -1.00</span><br><b>gold:</b> /influence/influence_node/influenced_by</li>"
       ],
       "metadata": {},
       "output_type": "display_data",
       "text": [
        "<IPython.core.display.HTML at 0x7f801ff77a10>"
       ]
      },
      {
       "html": [
        "<li><b>when will oscar pistorius compete?</b><br><b>in:</b> sv=compete, lat/time/QuestionWordLAT, lat/date/QuestionWordLAT<br><b>out:</b> <br><b>outp:</b> <span style=\"color: red\">/olympics/olympic_athlete/country|/olympics/olympic_athlete_affiliation/sport: -0.09</span>, <span style=\"color: red\">/sports/pro_athlete/sports_played_professionally|/sports/pro_sports_played/sport: -0.09</span>, <span style=\"color: red\">/olympics/olympic_athlete/medals_won|/olympics/olympic_medal_honor/event: -0.89</span>, <span style=\"color: red\">/time/holiday/day_of_year: -1.00</span>, <span style=\"color: red\">/people/deceased_person/place_of_burial: -1.00</span><br><b>gold:</b> </li>"
       ],
       "metadata": {},
       "output_type": "display_data",
       "text": [
        "<IPython.core.display.HTML at 0x7f801ff77b10>"
       ]
      },
      {
       "html": [
        "<li><b>who plays meg in family guy?</b><br><b>in:</b> sv=plays, lat/person/QuestionWordLAT<br><b>out:</b> /tv/tv_character/appeared_in_tv_program|/tv/regular_tv_appearance/actor<br><b>outp:</b> <span style=\"color: black\">/tv/tv_character/appeared_in_tv_program|/tv/regular_tv_appearance/actor: 1.00</span>, <span style=\"color: red\">/people/deceased_person/place_of_burial: -1.00</span>, <span style=\"color: red\">/time/holiday/day_of_year: -1.00</span>, <span style=\"color: red\">/tv/tv_character/appeared_in_tv_episodes|/tv/tv_guest_role/actor: -1.00</span>, <span style=\"color: red\">/award/award_nominated_work/award_nominations|/award/award_nomination/award_nominee: -1.00</span><br><b>gold:</b> /cvg/game_character/games|/cvg/game_performance/voice_actor, /film/film_character/portrayed_in_films|/film/performance/actor, /tv/tv_character/appeared_in_tv_episodes|/tv/tv_guest_role/actor, /tv/tv_character/appeared_in_tv_program|/tv/regular_tv_appearance/actor</li>"
       ],
       "metadata": {},
       "output_type": "display_data",
       "text": [
        "<IPython.core.display.HTML at 0x7f801ff77710>"
       ]
      },
      {
       "html": [
        "<li><b>what stadium did the chicago cardinals play in?</b><br><b>in:</b> sv=play, lat/stadium/LAT, lat/artifact/WordnetLAT, lat/structure/WordnetLAT<br><b>out:</b> /sports/sports_team/arena_stadium, /sports/sports_team/venue|/sports/team_venue_relationship/venue<br><b>outp:</b> <span style=\"color: black\">/sports/sports_team/arena_stadium: 1.55</span>, <span style=\"color: black\">/sports/sports_team/venue|/sports/team_venue_relationship/venue: 1.00</span>, <span style=\"color: red\">/sports/pro_athlete/teams|/sports/sports_team_roster/team: -0.65</span>, <span style=\"color: red\">/film/actor/film|/film/performance/character: -0.68</span>, <span style=\"color: red\">/music/guitarist/guitars_played: -0.82</span><br><b>gold:</b> /sports/sports_team/arena_stadium, /sports/sports_team/venue|/sports/team_venue_relationship/venue</li>"
       ],
       "metadata": {},
       "output_type": "display_data",
       "text": [
        "<IPython.core.display.HTML at 0x7f801ff776d0>"
       ]
      },
      {
       "html": [
        "<li><b>who was the apostle paul considered to be?</b><br><b>in:</b> sv=considered, lat/orientation/WordnetLAT, lat/position/WordnetLAT, lat/attitude/WordnetLAT, lat/cognition/WordnetLAT<br><b>out:</b> <br><b>outp:</b> <span style=\"color: red\">/common/topic/alias: -0.29</span>, <span style=\"color: red\">/government/politician/government_positions_held|/government/government_position_held/office_position_or_title: -0.78</span>, <span style=\"color: red\">/religion/religion/beliefs: -0.88</span>, <span style=\"color: red\">/olympics/olympic_participating_country/athletes|/olympics/olympic_athlete_affiliation/sport: -0.89</span>, <span style=\"color: red\">/sports/sport_country/athletes|/sports/competitor_country_relationship/sports: -0.89</span><br><b>gold:</b> </li>"
       ],
       "metadata": {},
       "output_type": "display_data",
       "text": [
        "<IPython.core.display.HTML at 0x7f801f91b690>"
       ]
      },
      {
       "html": [
        "<li><b>which countries are part of the united kingdom?</b><br><b>in:</b> lat/people/WordnetLAT, lat/region/WordnetLAT, lat/social group/WordnetLAT, lat/district/WordnetLAT, lat/location/WordnetLAT, lat/countries/LAT, lat/geographical area/WordnetLAT, lat/group/WordnetLAT, lat/political unit/WordnetLAT, lat/administrative district/WordnetLAT, lat/country/ImplicitQLAT, lat/organization/WordnetLAT, lat/unit/WordnetLAT<br><b>out:</b> <br><b>outp:</b> <span style=\"color: red\">/location/location/contains: -0.94</span>, <span style=\"color: red\">/people/deceased_person/place_of_burial: -1.00</span>, <span style=\"color: red\">/time/holiday/day_of_year: -1.00</span>, <span style=\"color: red\">/tv/tv_character/appeared_in_tv_episodes|/tv/tv_guest_role/actor: -1.00</span>, <span style=\"color: red\">/travel/tourist_attraction/near_travel_destination: -1.00</span><br><b>gold:</b> /location/location/containedby</li>"
       ],
       "metadata": {},
       "output_type": "display_data",
       "text": [
        "<IPython.core.display.HTML at 0x7f801fb658d0>"
       ]
      },
      {
       "html": [
        "</ul>"
       ],
       "metadata": {},
       "output_type": "display_data",
       "text": [
        "<IPython.core.display.HTML at 0x7f801fb65850>"
       ]
      }
     ],
     "prompt_number": 233
    },
    {
     "cell_type": "code",
     "collapsed": false,
     "input": [
      "from sklearn.multiclass import OneVsRestClassifier\n",
      "from sklearn.svm import LinearSVC\n",
      "cfier_lsvc = OneVsRestClassifier(LinearSVC(), n_jobs=4)\n",
      "cfier_lsvc.fit(vtrain.X, vtrain.Y)\n",
      "demo_model_cs(cfier_lsvc)"
     ],
     "language": "python",
     "metadata": {},
     "outputs": [
      {
       "html": [
        "<table><tr><th>dataset</th><th>qRecallAny</th><th>qRecallAll</th><th>pPrec</th><th>pScoreMRR</th></tr><tr><td>train</td><td>0.709</td><td>0.619</td><td>0.863</td><td>0.851</td></tr><tr><td>val</td><td>0.473</td><td>0.377</td><td>0.529</td><td>0.583</td></tr><tr><td>devtest</td><td>0.556</td><td>0.466</td><td>0.575</td><td>0.636</td></tr></table>"
       ],
       "metadata": {},
       "output_type": "display_data",
       "text": [
        "<IPython.core.display.HTML at 0x7f801ed88290>"
       ]
      },
      {
       "html": [
        "<ul>"
       ],
       "metadata": {},
       "output_type": "display_data",
       "text": [
        "<IPython.core.display.HTML at 0x7f8020dbe4d0>"
       ]
      },
      {
       "html": [
        "<li><b>what is the name of justin bieber brother?</b><br><b>in:</b> lat/religious person/WordnetLAT, lat/person/WordnetLAT, lat/friend/WordnetLAT, lat/associate/WordnetLAT, lat/peer/WordnetLAT, lat/member/WordnetLAT, lat/relative/WordnetLAT, lat/monk/WordnetLAT, lat/brother/LAT, lat/male sibling/WordnetLAT, lat/kinsman/WordnetLAT, lat/religious/WordnetLAT<br><b>out:</b> /people/person/sibling_s|/people/sibling_relationship/sibling<br><b>outp:</b> <span style=\"color: black\">/people/person/sibling_s|/people/sibling_relationship/sibling: 0.84</span>, <span style=\"color: red\">/fictional_universe/fictional_character/siblings|/fictional_universe/sibling_relationship_of_fictional_characters/siblings: -0.88</span>, <span style=\"color: red\">/fictional_universe/fictional_character/romantically_involved_with|/fictional_universe/romantic_involvement/partner: -0.93</span>, <span style=\"color: red\">/celebrities/celebrity/celebrity_friends|/celebrities/friendship/friend: -0.99</span>, <span style=\"color: red\">/location/statistical_region/places_exported_to|/location/imports_and_exports/exported_to: -0.99</span><br><b>gold:</b> /people/person/sibling_s|/people/sibling_relationship/sibling</li>"
       ],
       "metadata": {},
       "output_type": "display_data",
       "text": [
        "<IPython.core.display.HTML at 0x7f8020dbe610>"
       ]
      },
      {
       "html": [
        "<li><b>where to fly into bali?</b><br><b>in:</b> sv=fly, lat/location/QuestionWordLAT<br><b>out:</b> <br><b>outp:</b> <span style=\"color: red\">/aviation/airline/airports_served|/aviation/airline_airport_presence/airport: -0.45</span>, <span style=\"color: red\">/type/object/name: -0.46</span>, <span style=\"color: red\">/visual_art/art_subject/artwork_on_the_subject: -0.52</span>, <span style=\"color: red\">/organization/organization/headquarters|/location/mailing_address/citytown: -0.62</span>, <span style=\"color: red\">/travel/travel_destination/how_to_get_here|/travel/transportation/transport_terminus: -0.77</span><br><b>gold:</b> </li>"
       ],
       "metadata": {},
       "output_type": "display_data",
       "text": [
        "<IPython.core.display.HTML at 0x7f8020787910>"
       ]
      },
      {
       "html": [
        "<li><b>what is cher's son's name?</b><br><b>in:</b> lat/God/WordnetLAT, lat/relative/WordnetLAT, lat/cognition/WordnetLAT, lat/person/WordnetLAT, lat/child/WordnetLAT, lat/male offspring/WordnetLAT, lat/content/WordnetLAT, lat/belief/WordnetLAT, lat/offspring/WordnetLAT, lat/Godhead/WordnetLAT, lat/male/WordnetLAT, lat/spiritual being/WordnetLAT, lat/son/LAT, lat/hypostasis/WordnetLAT<br><b>out:</b> /people/person/children<br><b>outp:</b> <span style=\"color: black\">/people/person/children: 0.05</span>, <span style=\"color: red\">/people/person/sibling_s|/people/sibling_relationship/sibling: -0.09</span>, <span style=\"color: red\">/book/book_subject/works: -1.00</span>, <span style=\"color: red\">/religion/religion/texts: -1.00</span>, <span style=\"color: red\">/people/person/education|/education/education/institution: -1.00</span><br><b>gold:</b> /people/person/children</li>"
       ],
       "metadata": {},
       "output_type": "display_data",
       "text": [
        "<IPython.core.display.HTML at 0x7f802177eb50>"
       ]
      },
      {
       "html": [
        "<li><b>what countries do people speak portuguese?</b><br><b>in:</b> lat/political unit/WordnetLAT, lat/country/ImplicitQLAT, lat/administrative district/WordnetLAT, lat/unit/WordnetLAT, lat/people/WordnetLAT, lat/organization/WordnetLAT, lat/group/WordnetLAT, lat/social group/WordnetLAT, lat/district/WordnetLAT, lat/region/WordnetLAT, lat/location/WordnetLAT, lat/countries/LAT, lat/geographical area/WordnetLAT, sv=speak<br><b>out:</b> /language/human_language/countries_spoken_in, /language/human_language/main_country<br><b>outp:</b> <span style=\"color: black\">/language/human_language/main_country: 0.37</span>, <span style=\"color: black\">/language/human_language/countries_spoken_in: 0.36</span>, <span style=\"color: red\">/location/location/contains: -0.94</span>, <span style=\"color: red\">/location/location/adjoin_s|/location/adjoining_relationship/adjoins: -0.96</span>, <span style=\"color: red\">/organization/membership_organization/members|/organization/organization_membership/member: -0.98</span><br><b>gold:</b> /language/human_language/countries_spoken_in, /language/human_language/main_country</li>"
       ],
       "metadata": {},
       "output_type": "display_data",
       "text": [
        "<IPython.core.display.HTML at 0x7f802177ead0>"
       ]
      },
      {
       "html": [
        "<li><b>who was vincent van gogh inspired by?</b><br><b>in:</b> sv=inspired<br><b>out:</b> /influence/influence_node/influenced_by<br><b>outp:</b> <span style=\"color: black\">/influence/influence_node/influenced_by: 0.46</span>, <span style=\"color: red\">/influence/influence_node/influenced: -0.72</span>, <span style=\"color: red\">/common/topic/notable_for: -0.98</span>, <span style=\"color: red\">/influence/influence_node/peers|/influence/peer_relationship/peers: -0.99</span>, <span style=\"color: red\">/people/person/children: -0.99</span><br><b>gold:</b> /influence/influence_node/influenced_by</li>"
       ],
       "metadata": {},
       "output_type": "display_data",
       "text": [
        "<IPython.core.display.HTML at 0x7f802177ea90>"
       ]
      },
      {
       "html": [
        "<li><b>when will oscar pistorius compete?</b><br><b>in:</b> sv=compete, lat/time/QuestionWordLAT, lat/date/QuestionWordLAT<br><b>out:</b> <br><b>outp:</b> <span style=\"color: red\">/olympics/olympic_athlete/country|/olympics/olympic_athlete_affiliation/sport: -0.41</span>, <span style=\"color: red\">/sports/pro_athlete/sports_played_professionally|/sports/pro_sports_played/sport: -0.41</span>, <span style=\"color: red\">/common/topic/notable_for: -0.48</span>, <span style=\"color: red\">/olympics/olympic_athlete/medals_won|/olympics/olympic_medal_honor/event: -0.58</span>, <span style=\"color: red\">/people/person/profession: -0.64</span><br><b>gold:</b> </li>"
       ],
       "metadata": {},
       "output_type": "display_data",
       "text": [
        "<IPython.core.display.HTML at 0x7f801ff77f90>"
       ]
      },
      {
       "html": [
        "<li><b>who plays meg in family guy?</b><br><b>in:</b> lat/person/QuestionWordLAT, sv=plays<br><b>out:</b> /tv/tv_character/appeared_in_tv_program|/tv/regular_tv_appearance/actor<br><b>outp:</b> <span style=\"color: black\">/tv/tv_character/appeared_in_tv_program|/tv/regular_tv_appearance/actor: 0.03</span>, <span style=\"color: red\">/film/film_character/portrayed_in_films|/film/performance/actor: -0.13</span>, <span style=\"color: red\">/tv/tv_character/appeared_in_tv_episodes|/tv/tv_guest_role/actor: -0.67</span>, <span style=\"color: red\">/film/film/starring|/film/performance/actor: -0.79</span>, <span style=\"color: red\">/fictional_universe/fictional_character/character_created_by: -0.83</span><br><b>gold:</b> /cvg/game_character/games|/cvg/game_performance/voice_actor, /film/film_character/portrayed_in_films|/film/performance/actor, /tv/tv_character/appeared_in_tv_episodes|/tv/tv_guest_role/actor, /tv/tv_character/appeared_in_tv_program|/tv/regular_tv_appearance/actor</li>"
       ],
       "metadata": {},
       "output_type": "display_data",
       "text": [
        "<IPython.core.display.HTML at 0x7f801ff77bd0>"
       ]
      },
      {
       "html": [
        "<li><b>what stadium did the chicago cardinals play in?</b><br><b>in:</b> sv=play, lat/artifact/WordnetLAT, lat/stadium/LAT, lat/structure/WordnetLAT<br><b>out:</b> /sports/sports_team/arena_stadium, /sports/sports_team/venue|/sports/team_venue_relationship/venue<br><b>outp:</b> <span style=\"color: black\">/sports/sports_team/arena_stadium: 1.65</span>, <span style=\"color: black\">/sports/sports_team/venue|/sports/team_venue_relationship/venue: 1.58</span>, <span style=\"color: red\">/sports/pro_athlete/teams|/sports/sports_team_roster/team: -0.62</span>, <span style=\"color: red\">/film/actor/film|/film/performance/character: -0.71</span>, <span style=\"color: red\">/people/person/employment_history|/business/employment_tenure/company: -0.78</span><br><b>gold:</b> /sports/sports_team/arena_stadium, /sports/sports_team/venue|/sports/team_venue_relationship/venue</li>"
       ],
       "metadata": {},
       "output_type": "display_data",
       "text": [
        "<IPython.core.display.HTML at 0x7f801ff77c50>"
       ]
      },
      {
       "html": [
        "<li><b>who was the apostle paul considered to be?</b><br><b>in:</b> lat/attitude/WordnetLAT, sv=considered, lat/cognition/WordnetLAT, lat/position/WordnetLAT, lat/orientation/WordnetLAT<br><b>out:</b> /common/topic/alias<br><b>outp:</b> <span style=\"color: black\">/common/topic/alias: 0.16</span>, <span style=\"color: red\">/biology/breed_origin/breeds_originating_here: -0.76</span>, <span style=\"color: red\">/sports/pro_athlete/teams|/sports/sports_team_roster/position: -0.81</span>, <span style=\"color: red\">/visual_art/visual_artist/associated_periods_or_movements: -0.84</span>, <span style=\"color: red\">/government/politician/government_positions_held|/government/government_position_held/office_position_or_title: -0.85</span><br><b>gold:</b> </li>"
       ],
       "metadata": {},
       "output_type": "display_data",
       "text": [
        "<IPython.core.display.HTML at 0x7f801ff77c10>"
       ]
      },
      {
       "html": [
        "<li><b>which countries are part of the united kingdom?</b><br><b>in:</b> lat/administrative district/WordnetLAT, lat/political unit/WordnetLAT, lat/country/ImplicitQLAT, lat/group/WordnetLAT, lat/unit/WordnetLAT, lat/organization/WordnetLAT, lat/people/WordnetLAT, lat/countries/LAT, lat/geographical area/WordnetLAT, lat/social group/WordnetLAT, lat/district/WordnetLAT, lat/location/WordnetLAT, lat/region/WordnetLAT<br><b>out:</b> <br><b>outp:</b> <span style=\"color: red\">/location/location/contains: -0.33</span>, <span style=\"color: red\">/location/location/adjoin_s|/location/adjoining_relationship/adjoins: -0.51</span>, <span style=\"color: red\">/location/location/partiallycontains|/location/partial_containment_relationship/partially_contains: -0.73</span>, <span style=\"color: red\">/location/statistical_region/places_exported_to|/location/imports_and_exports/exported_to: -0.73</span>, <span style=\"color: red\">/language/human_language/countries_spoken_in: -0.77</span><br><b>gold:</b> /location/location/containedby</li>"
       ],
       "metadata": {},
       "output_type": "display_data",
       "text": [
        "<IPython.core.display.HTML at 0x7f801ff77a10>"
       ]
      },
      {
       "html": [
        "</ul>"
       ],
       "metadata": {},
       "output_type": "display_data",
       "text": [
        "<IPython.core.display.HTML at 0x7f8020dbe990>"
       ]
      }
     ],
     "prompt_number": 234
    },
    {
     "cell_type": "code",
     "collapsed": false,
     "input": [
      "from sklearn.ensemble import GradientBoostingClassifier\n",
      "cfier_gb = OneVsRestClassifier(GradientBoostingClassifier(n_estimators=4, max_leaf_nodes=4, max_features='sqrt'), n_jobs=4)\n",
      "pprint(cfier_gb.fit(vtrain.X.toarray(), vtrain.Y))"
     ],
     "language": "python",
     "metadata": {},
     "outputs": []
    },
    {
     "cell_type": "code",
     "collapsed": false,
     "input": [
      "pprint(cfier_gb)\n",
      "demo_model_cs(cfier_gb)"
     ],
     "language": "python",
     "metadata": {},
     "outputs": [
      {
       "output_type": "stream",
       "stream": "stdout",
       "text": [
        "OneVsRestClassifier(estimator=GradientBoostingClassifier(init=None, learning_rate=0.1, loss='deviance',\n",
        "              max_depth=3, max_features='sqrt', max_leaf_nodes=4,\n",
        "              min_samples_leaf=1, min_samples_split=2,\n",
        "              min_weight_fraction_leaf=0.0, n_estimators=4,\n",
        "              random_state=None, subsample=1.0, verbose=0,\n",
        "              warm_start=False),\n",
        "          n_jobs=4)\n"
       ]
      },
      {
       "html": [
        "<table><tr><th>dataset</th><th>qRecallAny</th><th>qRecallAll</th><th>pPrec</th><th>pScoreMRR</th></tr><tr><td>train</td><td>0.261</td><td>0.200</td><td>0.476</td><td>0.469</td></tr><tr><td>val</td><td>0.177</td><td>0.162</td><td>0.121</td><td>0.333</td></tr><tr><td>devtest</td><td>0.212</td><td>0.185</td><td>0.216</td><td>0.357</td></tr></table>"
       ],
       "metadata": {},
       "output_type": "display_data",
       "text": [
        "<IPython.core.display.HTML at 0x7f801e993b90>"
       ]
      },
      {
       "html": [
        "<ul>"
       ],
       "metadata": {},
       "output_type": "display_data",
       "text": [
        "<IPython.core.display.HTML at 0x7f8021739690>"
       ]
      },
      {
       "ename": "TypeError",
       "evalue": "A sparse matrix was passed, but dense data is required. Use X.toarray() to convert to a dense numpy array.",
       "output_type": "pyerr",
       "traceback": [
        "\u001b[0;31m---------------------------------------------------------------------------\u001b[0m\n\u001b[0;31mTypeError\u001b[0m                                 Traceback (most recent call last)",
        "\u001b[0;32m<ipython-input-252-73a7cd0c5770>\u001b[0m in \u001b[0;36m<module>\u001b[0;34m()\u001b[0m\n\u001b[1;32m      1\u001b[0m \u001b[0mpprint\u001b[0m\u001b[0;34m(\u001b[0m\u001b[0mcfier_gb\u001b[0m\u001b[0;34m)\u001b[0m\u001b[0;34m\u001b[0m\u001b[0m\n\u001b[0;32m----> 2\u001b[0;31m \u001b[0mdemo_model_cs\u001b[0m\u001b[0;34m(\u001b[0m\u001b[0mcfier_gb\u001b[0m\u001b[0;34m)\u001b[0m\u001b[0;34m\u001b[0m\u001b[0m\n\u001b[0m",
        "\u001b[0;32m<ipython-input-251-1abbca10ed69>\u001b[0m in \u001b[0;36mdemo_model_cs\u001b[0;34m(cfier)\u001b[0m\n\u001b[1;32m     15\u001b[0m     \u001b[0mdisplay\u001b[0m\u001b[0;34m(\u001b[0m\u001b[0mHTML\u001b[0m\u001b[0;34m(\u001b[0m\u001b[0;34m'<ul>'\u001b[0m\u001b[0;34m)\u001b[0m\u001b[0;34m)\u001b[0m\u001b[0;34m\u001b[0m\u001b[0m\n\u001b[1;32m     16\u001b[0m     \u001b[0;32mfor\u001b[0m \u001b[0mi\u001b[0m \u001b[0;32min\u001b[0m \u001b[0mrange\u001b[0m\u001b[0;34m(\u001b[0m\u001b[0;36m10\u001b[0m\u001b[0;34m)\u001b[0m\u001b[0;34m:\u001b[0m\u001b[0;34m\u001b[0m\u001b[0m\n\u001b[0;32m---> 17\u001b[0;31m         \u001b[0mdisplay\u001b[0m\u001b[0;34m(\u001b[0m\u001b[0mHTML\u001b[0m\u001b[0;34m(\u001b[0m\u001b[0mcheck_q_cs\u001b[0m\u001b[0;34m(\u001b[0m\u001b[0mcfier\u001b[0m\u001b[0;34m,\u001b[0m \u001b[0mvdevtest\u001b[0m\u001b[0;34m,\u001b[0m \u001b[0mdevtest\u001b[0m\u001b[0;34m,\u001b[0m \u001b[0mi\u001b[0m\u001b[0;34m)\u001b[0m\u001b[0;34m)\u001b[0m\u001b[0;34m)\u001b[0m\u001b[0;34m\u001b[0m\u001b[0m\n\u001b[0m\u001b[1;32m     18\u001b[0m     \u001b[0mdisplay\u001b[0m\u001b[0;34m(\u001b[0m\u001b[0mHTML\u001b[0m\u001b[0;34m(\u001b[0m\u001b[0;34m'</ul>'\u001b[0m\u001b[0;34m)\u001b[0m\u001b[0;34m)\u001b[0m\u001b[0;34m\u001b[0m\u001b[0m\n",
        "\u001b[0;32m<ipython-input-251-1abbca10ed69>\u001b[0m in \u001b[0;36mcheck_q_cs\u001b[0;34m(cfier, v, d, i)\u001b[0m\n\u001b[1;32m      1\u001b[0m \u001b[0;32mdef\u001b[0m \u001b[0mcheck_q_cs\u001b[0m\u001b[0;34m(\u001b[0m\u001b[0mcfier\u001b[0m\u001b[0;34m,\u001b[0m \u001b[0mv\u001b[0m\u001b[0;34m,\u001b[0m \u001b[0md\u001b[0m\u001b[0;34m,\u001b[0m \u001b[0mi\u001b[0m\u001b[0;34m)\u001b[0m\u001b[0;34m:\u001b[0m\u001b[0;34m\u001b[0m\u001b[0m\n\u001b[0;32m----> 2\u001b[0;31m     \u001b[0mcs\u001b[0m \u001b[0;34m=\u001b[0m \u001b[0mcfier\u001b[0m\u001b[0;34m.\u001b[0m\u001b[0mdecision_function\u001b[0m\u001b[0;34m(\u001b[0m\u001b[0mv\u001b[0m\u001b[0;34m.\u001b[0m\u001b[0mX\u001b[0m\u001b[0;34m[\u001b[0m\u001b[0mi\u001b[0m\u001b[0;34m]\u001b[0m\u001b[0;34m)\u001b[0m\u001b[0;34m[\u001b[0m\u001b[0;36m0\u001b[0m\u001b[0;34m]\u001b[0m\u001b[0;34m\u001b[0m\u001b[0m\n\u001b[0m\u001b[1;32m      3\u001b[0m     \u001b[0mtop_cs\u001b[0m \u001b[0;34m=\u001b[0m \u001b[0msorted\u001b[0m\u001b[0;34m(\u001b[0m\u001b[0menumerate\u001b[0m\u001b[0;34m(\u001b[0m\u001b[0mcs\u001b[0m\u001b[0;34m)\u001b[0m\u001b[0;34m,\u001b[0m \u001b[0mkey\u001b[0m\u001b[0;34m=\u001b[0m\u001b[0;32mlambda\u001b[0m \u001b[0mk\u001b[0m\u001b[0;34m:\u001b[0m \u001b[0mk\u001b[0m\u001b[0;34m[\u001b[0m\u001b[0;36m1\u001b[0m\u001b[0;34m]\u001b[0m\u001b[0;34m,\u001b[0m \u001b[0mreverse\u001b[0m\u001b[0;34m=\u001b[0m\u001b[0mTrue\u001b[0m\u001b[0;34m)\u001b[0m\u001b[0;34m\u001b[0m\u001b[0m\n\u001b[1;32m      4\u001b[0m     \u001b[0mtop_lcs\u001b[0m \u001b[0;34m=\u001b[0m \u001b[0;34m[\u001b[0m\u001b[0;34m'<span style=\"color: %s\">%s: %.2f</span>'\u001b[0m \u001b[0;34m%\u001b[0m \u001b[0;34m(\u001b[0m\u001b[0;34m'blue'\u001b[0m \u001b[0;32mif\u001b[0m \u001b[0mk\u001b[0m\u001b[0;34m[\u001b[0m\u001b[0;36m1\u001b[0m\u001b[0;34m]\u001b[0m \u001b[0;34m>\u001b[0m \u001b[0;36m0\u001b[0m \u001b[0;32melse\u001b[0m \u001b[0;34m'red'\u001b[0m\u001b[0;34m,\u001b[0m \u001b[0mv\u001b[0m\u001b[0;34m.\u001b[0m\u001b[0mYdict\u001b[0m\u001b[0;34m.\u001b[0m\u001b[0mclasses_\u001b[0m\u001b[0;34m[\u001b[0m\u001b[0mk\u001b[0m\u001b[0;34m[\u001b[0m\u001b[0;36m0\u001b[0m\u001b[0;34m]\u001b[0m\u001b[0;34m]\u001b[0m\u001b[0;34m,\u001b[0m \u001b[0mk\u001b[0m\u001b[0;34m[\u001b[0m\u001b[0;36m1\u001b[0m\u001b[0;34m]\u001b[0m\u001b[0;34m)\u001b[0m \u001b[0;32mfor\u001b[0m \u001b[0mk\u001b[0m \u001b[0;32min\u001b[0m \u001b[0mtop_cs\u001b[0m\u001b[0;34m[\u001b[0m\u001b[0;34m:\u001b[0m\u001b[0;36m5\u001b[0m\u001b[0;34m]\u001b[0m\u001b[0;34m]\u001b[0m\u001b[0;34m\u001b[0m\u001b[0m\n\u001b[1;32m      5\u001b[0m     return '<li><b>%s</b><br><b>in:</b> %s<br><b>out:</b> %s<br><b>outp:</b> %s<br><b>gold:</b> %s</li>' % (\n",
        "\u001b[0;32m/usr/lib/python2.7/dist-packages/sklearn/multiclass.pyc\u001b[0m in \u001b[0;36mdecision_function\u001b[0;34m(self, X)\u001b[0m\n\u001b[1;32m    382\u001b[0m                 \"Base estimator doesn't have a decision_function attribute.\")\n\u001b[1;32m    383\u001b[0m         return np.array([est.decision_function(X).ravel()\n\u001b[0;32m--> 384\u001b[0;31m                          for est in self.estimators_]).T\n\u001b[0m\u001b[1;32m    385\u001b[0m \u001b[0;34m\u001b[0m\u001b[0m\n\u001b[1;32m    386\u001b[0m     \u001b[0;34m@\u001b[0m\u001b[0mproperty\u001b[0m\u001b[0;34m\u001b[0m\u001b[0m\n",
        "\u001b[0;32m/usr/lib/python2.7/dist-packages/sklearn/ensemble/gradient_boosting.pyc\u001b[0m in \u001b[0;36mdecision_function\u001b[0;34m(self, X)\u001b[0m\n\u001b[1;32m   1099\u001b[0m             \u001b[0;34m[\u001b[0m\u001b[0mn_samples\u001b[0m\u001b[0;34m]\u001b[0m\u001b[0;34m.\u001b[0m\u001b[0;34m\u001b[0m\u001b[0m\n\u001b[1;32m   1100\u001b[0m         \"\"\"\n\u001b[0;32m-> 1101\u001b[0;31m         \u001b[0mX\u001b[0m \u001b[0;34m=\u001b[0m \u001b[0mcheck_array\u001b[0m\u001b[0;34m(\u001b[0m\u001b[0mX\u001b[0m\u001b[0;34m,\u001b[0m \u001b[0mdtype\u001b[0m\u001b[0;34m=\u001b[0m\u001b[0mDTYPE\u001b[0m\u001b[0;34m,\u001b[0m \u001b[0morder\u001b[0m\u001b[0;34m=\u001b[0m\u001b[0;34m\"C\"\u001b[0m\u001b[0;34m)\u001b[0m\u001b[0;34m\u001b[0m\u001b[0m\n\u001b[0m\u001b[1;32m   1102\u001b[0m         \u001b[0mscore\u001b[0m \u001b[0;34m=\u001b[0m \u001b[0mself\u001b[0m\u001b[0;34m.\u001b[0m\u001b[0m_decision_function\u001b[0m\u001b[0;34m(\u001b[0m\u001b[0mX\u001b[0m\u001b[0;34m)\u001b[0m\u001b[0;34m\u001b[0m\u001b[0m\n\u001b[1;32m   1103\u001b[0m         \u001b[0;32mif\u001b[0m \u001b[0mscore\u001b[0m\u001b[0;34m.\u001b[0m\u001b[0mshape\u001b[0m\u001b[0;34m[\u001b[0m\u001b[0;36m1\u001b[0m\u001b[0;34m]\u001b[0m \u001b[0;34m==\u001b[0m \u001b[0;36m1\u001b[0m\u001b[0;34m:\u001b[0m\u001b[0;34m\u001b[0m\u001b[0m\n",
        "\u001b[0;32m/usr/lib/python2.7/dist-packages/sklearn/utils/validation.pyc\u001b[0m in \u001b[0;36mcheck_array\u001b[0;34m(array, accept_sparse, dtype, order, copy, force_all_finite, ensure_2d, allow_nd, ensure_min_samples, ensure_min_features)\u001b[0m\n\u001b[1;32m    332\u001b[0m             \u001b[0mdtype\u001b[0m \u001b[0;34m=\u001b[0m \u001b[0mNone\u001b[0m\u001b[0;34m\u001b[0m\u001b[0m\n\u001b[1;32m    333\u001b[0m         array = _ensure_sparse_format(array, accept_sparse, dtype, order,\n\u001b[0;32m--> 334\u001b[0;31m                                       copy, force_all_finite)\n\u001b[0m\u001b[1;32m    335\u001b[0m     \u001b[0;32melse\u001b[0m\u001b[0;34m:\u001b[0m\u001b[0;34m\u001b[0m\u001b[0m\n\u001b[1;32m    336\u001b[0m         \u001b[0;32mif\u001b[0m \u001b[0mensure_2d\u001b[0m\u001b[0;34m:\u001b[0m\u001b[0;34m\u001b[0m\u001b[0m\n",
        "\u001b[0;32m/usr/lib/python2.7/dist-packages/sklearn/utils/validation.pyc\u001b[0m in \u001b[0;36m_ensure_sparse_format\u001b[0;34m(spmatrix, accept_sparse, dtype, order, copy, force_all_finite)\u001b[0m\n\u001b[1;32m    237\u001b[0m     \"\"\"\n\u001b[1;32m    238\u001b[0m     \u001b[0;32mif\u001b[0m \u001b[0maccept_sparse\u001b[0m \u001b[0;32mis\u001b[0m \u001b[0mNone\u001b[0m\u001b[0;34m:\u001b[0m\u001b[0;34m\u001b[0m\u001b[0m\n\u001b[0;32m--> 239\u001b[0;31m         raise TypeError('A sparse matrix was passed, but dense '\n\u001b[0m\u001b[1;32m    240\u001b[0m                         \u001b[0;34m'data is required. Use X.toarray() to '\u001b[0m\u001b[0;34m\u001b[0m\u001b[0m\n\u001b[1;32m    241\u001b[0m                         'convert to a dense numpy array.')\n",
        "\u001b[0;31mTypeError\u001b[0m: A sparse matrix was passed, but dense data is required. Use X.toarray() to convert to a dense numpy array."
       ]
      }
     ],
     "prompt_number": 252
    },
    {
     "cell_type": "heading",
     "level": 2,
     "metadata": {},
     "source": [
      "Conclusion"
     ]
    },
    {
     "cell_type": "markdown",
     "metadata": {},
     "source": [
      "  * Multinomial Naive Bayes, Logistic regression and LinearSVC are preliminarily the best.\n",
      "  * A lot of model variations remain to try (e.g. k-NN).\n",
      "  * For 1D models like logreg and bayes, learning on the space of pairs of features might work better.\n",
      "  * We want more question features, maybe the whole bag-of-words (-NE?), for paths like containedby in \"which countries are part of the united kingdom?\"\n",
      "  * For initial full-pipeline prototype, we will implement logistic regression as it is also the simplest to do."
     ]
    },
    {
     "cell_type": "code",
     "collapsed": false,
     "input": [],
     "language": "python",
     "metadata": {},
     "outputs": []
    }
   ],
   "metadata": {}
  }
 ]
}